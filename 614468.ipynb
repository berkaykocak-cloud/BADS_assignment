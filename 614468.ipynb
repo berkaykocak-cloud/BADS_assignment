{
 "cells": [
  {
   "cell_type": "markdown",
   "metadata": {},
   "source": [
    "##### Name:           Berkay Koçak\n",
    "##### Student ID:   614468\n",
    "##### E-mail:          kocakberkayy@gmail.com"
   ]
  },
  {
   "cell_type": "markdown",
   "metadata": {},
   "source": [
    "# Introduction"
   ]
  },
  {
   "cell_type": "markdown",
   "metadata": {},
   "source": [
    "Return shipping has become a significant expense item for online retailers. Customers are returning a substantial amount of their purchases that they bought online which yields extra shipping costs for the shops. In the scope of this project, it is aimed to reduce the shipping related costs by predicting the items that have a high probability of return and discouraging the sale in the first place while paying attention not to deter any successful sales.\n",
    "\n",
    "In order to come up with a solution to this binary classification problem, there are mainly two tree-based ensemble learners that are tested: Extreme Gradient Boosting and Random Forest Classifier. Random Forest Classifier proved to be a better option  for this specific problem thanks to its robustness and high AUC score. After the hyperparameter tuning of the model, the Bayes decision rule is used to come up with binary predictions that are cost sensitive."
   ]
  },
  {
   "cell_type": "code",
   "execution_count": 14,
   "metadata": {},
   "outputs": [],
   "source": [
    "#importing the necessary libraries and install commands for the libraries that are not available at the conda environment.\n",
    "import numpy as np\n",
    "import pandas as pd\n",
    "import seaborn as sns\n",
    "import matplotlib.pyplot as plt\n",
    "import scorecardpy as sc\n",
    "import datetime\n",
    "import warnings\n",
    "import xgboost as xgb\n",
    "from xgboost import XGBClassifier\n",
    "from tabulate import tabulate\n",
    "from sklearn.model_selection import train_test_split\n",
    "from sklearn.model_selection import GridSearchCV\n",
    "from sklearn.ensemble import RandomForestClassifier\n",
    "from sklearn import metrics\n",
    "from sklearn.metrics import roc_auc_score\n",
    "#pip install scorecardpy\n",
    "#pip install xgboost\n",
    "#pip install tabulate\n",
    "#conda update scikit-learn"
   ]
  },
  {
   "cell_type": "code",
   "execution_count": 15,
   "metadata": {},
   "outputs": [],
   "source": [
    "# Show the warnings in the notebook only once.\n",
    "warnings.filterwarnings(action='once')"
   ]
  },
  {
   "cell_type": "code",
   "execution_count": 16,
   "metadata": {},
   "outputs": [],
   "source": [
    "#reading the train data\n",
    "df_known = pd.read_csv(r'C:\\Users\\Berkay Kocak\\Desktop\\BADS Assignment\\BADS_WS2021_known.csv', index_col='order_item_id')"
   ]
  },
  {
   "cell_type": "markdown",
   "metadata": {},
   "source": [
    "## First inspection of data"
   ]
  },
  {
   "cell_type": "markdown",
   "metadata": {},
   "source": [
    "The project commences with the first inspection of the data. Although the variables are not analyzed thorougly, the outstanding errors are corrected while getting familiar with the data in this section."
   ]
  },
  {
   "cell_type": "code",
   "execution_count": 17,
   "metadata": {},
   "outputs": [],
   "source": [
    "#The name of the column \"return\" has been changed in order not to create any confusions in algorithms.\n",
    "df_known = df_known.rename(columns={'return': 'returned'})"
   ]
  },
  {
   "cell_type": "code",
   "execution_count": 18,
   "metadata": {
    "scrolled": true
   },
   "outputs": [
    {
     "name": "stdout",
     "output_type": "stream",
     "text": [
      "Dimensionality of the data is (100000, 13)\n",
      "The data set has 100000 cases.\n",
      "The data set has Index(['order_date', 'delivery_date', 'item_id', 'item_size', 'item_color',\n",
      "       'brand_id', 'item_price', 'user_id', 'user_title', 'user_dob',\n",
      "       'user_state', 'user_reg_date', 'returned'],\n",
      "      dtype='object') variables.\n"
     ]
    }
   ],
   "source": [
    "print('Dimensionality of the data is {}'.format(df_known.shape))\n",
    "print('The data set has {} cases.'.format(df_known.shape[0]))\n",
    "print('The data set has {} variables.'.format(df_known.columns))"
   ]
  },
  {
   "cell_type": "code",
   "execution_count": 19,
   "metadata": {},
   "outputs": [
    {
     "data": {
      "text/html": [
       "<div>\n",
       "<style scoped>\n",
       "    .dataframe tbody tr th:only-of-type {\n",
       "        vertical-align: middle;\n",
       "    }\n",
       "\n",
       "    .dataframe tbody tr th {\n",
       "        vertical-align: top;\n",
       "    }\n",
       "\n",
       "    .dataframe thead th {\n",
       "        text-align: right;\n",
       "    }\n",
       "</style>\n",
       "<table border=\"1\" class=\"dataframe\">\n",
       "  <thead>\n",
       "    <tr style=\"text-align: right;\">\n",
       "      <th></th>\n",
       "      <th>order_date</th>\n",
       "      <th>delivery_date</th>\n",
       "      <th>item_id</th>\n",
       "      <th>item_size</th>\n",
       "      <th>item_color</th>\n",
       "      <th>brand_id</th>\n",
       "      <th>item_price</th>\n",
       "      <th>user_id</th>\n",
       "      <th>user_title</th>\n",
       "      <th>user_dob</th>\n",
       "      <th>user_state</th>\n",
       "      <th>user_reg_date</th>\n",
       "      <th>returned</th>\n",
       "    </tr>\n",
       "    <tr>\n",
       "      <th>order_item_id</th>\n",
       "      <th></th>\n",
       "      <th></th>\n",
       "      <th></th>\n",
       "      <th></th>\n",
       "      <th></th>\n",
       "      <th></th>\n",
       "      <th></th>\n",
       "      <th></th>\n",
       "      <th></th>\n",
       "      <th></th>\n",
       "      <th></th>\n",
       "      <th></th>\n",
       "      <th></th>\n",
       "    </tr>\n",
       "  </thead>\n",
       "  <tbody>\n",
       "    <tr>\n",
       "      <td>1</td>\n",
       "      <td>2016-06-22</td>\n",
       "      <td>2016-06-27</td>\n",
       "      <td>643</td>\n",
       "      <td>38</td>\n",
       "      <td>navy</td>\n",
       "      <td>30</td>\n",
       "      <td>49.90</td>\n",
       "      <td>30822</td>\n",
       "      <td>Mrs</td>\n",
       "      <td>1969-04-17</td>\n",
       "      <td>Saxony</td>\n",
       "      <td>2016-06-23</td>\n",
       "      <td>0</td>\n",
       "    </tr>\n",
       "    <tr>\n",
       "      <td>2</td>\n",
       "      <td>2016-06-22</td>\n",
       "      <td>NaN</td>\n",
       "      <td>337</td>\n",
       "      <td>152</td>\n",
       "      <td>grey</td>\n",
       "      <td>30</td>\n",
       "      <td>19.95</td>\n",
       "      <td>30822</td>\n",
       "      <td>Mrs</td>\n",
       "      <td>1969-04-17</td>\n",
       "      <td>Saxony</td>\n",
       "      <td>2016-06-23</td>\n",
       "      <td>0</td>\n",
       "    </tr>\n",
       "    <tr>\n",
       "      <td>3</td>\n",
       "      <td>2016-06-22</td>\n",
       "      <td>2016-06-27</td>\n",
       "      <td>270</td>\n",
       "      <td>xxl</td>\n",
       "      <td>grey</td>\n",
       "      <td>49</td>\n",
       "      <td>79.90</td>\n",
       "      <td>30823</td>\n",
       "      <td>Mrs</td>\n",
       "      <td>1970-04-22</td>\n",
       "      <td>Baden-Wuerttemberg</td>\n",
       "      <td>2015-03-15</td>\n",
       "      <td>1</td>\n",
       "    </tr>\n",
       "    <tr>\n",
       "      <td>4</td>\n",
       "      <td>2016-06-22</td>\n",
       "      <td>2016-06-27</td>\n",
       "      <td>142</td>\n",
       "      <td>xxl</td>\n",
       "      <td>grey</td>\n",
       "      <td>49</td>\n",
       "      <td>99.90</td>\n",
       "      <td>30823</td>\n",
       "      <td>Mrs</td>\n",
       "      <td>1970-04-22</td>\n",
       "      <td>Baden-Wuerttemberg</td>\n",
       "      <td>2015-03-15</td>\n",
       "      <td>0</td>\n",
       "    </tr>\n",
       "    <tr>\n",
       "      <td>5</td>\n",
       "      <td>2016-06-22</td>\n",
       "      <td>2016-06-27</td>\n",
       "      <td>561</td>\n",
       "      <td>xxl</td>\n",
       "      <td>grey</td>\n",
       "      <td>3</td>\n",
       "      <td>14.90</td>\n",
       "      <td>30823</td>\n",
       "      <td>Mrs</td>\n",
       "      <td>1970-04-22</td>\n",
       "      <td>Baden-Wuerttemberg</td>\n",
       "      <td>2015-03-15</td>\n",
       "      <td>1</td>\n",
       "    </tr>\n",
       "  </tbody>\n",
       "</table>\n",
       "</div>"
      ],
      "text/plain": [
       "               order_date delivery_date  item_id item_size item_color  \\\n",
       "order_item_id                                                           \n",
       "1              2016-06-22    2016-06-27      643        38       navy   \n",
       "2              2016-06-22           NaN      337       152       grey   \n",
       "3              2016-06-22    2016-06-27      270       xxl       grey   \n",
       "4              2016-06-22    2016-06-27      142       xxl       grey   \n",
       "5              2016-06-22    2016-06-27      561       xxl       grey   \n",
       "\n",
       "               brand_id  item_price  user_id user_title    user_dob  \\\n",
       "order_item_id                                                         \n",
       "1                    30       49.90    30822        Mrs  1969-04-17   \n",
       "2                    30       19.95    30822        Mrs  1969-04-17   \n",
       "3                    49       79.90    30823        Mrs  1970-04-22   \n",
       "4                    49       99.90    30823        Mrs  1970-04-22   \n",
       "5                     3       14.90    30823        Mrs  1970-04-22   \n",
       "\n",
       "                       user_state user_reg_date  returned  \n",
       "order_item_id                                              \n",
       "1                          Saxony    2016-06-23         0  \n",
       "2                          Saxony    2016-06-23         0  \n",
       "3              Baden-Wuerttemberg    2015-03-15         1  \n",
       "4              Baden-Wuerttemberg    2015-03-15         0  \n",
       "5              Baden-Wuerttemberg    2015-03-15         1  "
      ]
     },
     "execution_count": 19,
     "metadata": {},
     "output_type": "execute_result"
    }
   ],
   "source": [
    "df_known.head(n=5)"
   ]
  },
  {
   "cell_type": "code",
   "execution_count": 20,
   "metadata": {},
   "outputs": [
    {
     "data": {
      "text/html": [
       "<div>\n",
       "<style scoped>\n",
       "    .dataframe tbody tr th:only-of-type {\n",
       "        vertical-align: middle;\n",
       "    }\n",
       "\n",
       "    .dataframe tbody tr th {\n",
       "        vertical-align: top;\n",
       "    }\n",
       "\n",
       "    .dataframe thead th {\n",
       "        text-align: right;\n",
       "    }\n",
       "</style>\n",
       "<table border=\"1\" class=\"dataframe\">\n",
       "  <thead>\n",
       "    <tr style=\"text-align: right;\">\n",
       "      <th></th>\n",
       "      <th>order_date</th>\n",
       "      <th>delivery_date</th>\n",
       "      <th>item_id</th>\n",
       "      <th>item_size</th>\n",
       "      <th>item_color</th>\n",
       "      <th>brand_id</th>\n",
       "      <th>item_price</th>\n",
       "      <th>user_id</th>\n",
       "      <th>user_title</th>\n",
       "      <th>user_dob</th>\n",
       "      <th>user_state</th>\n",
       "      <th>user_reg_date</th>\n",
       "      <th>returned</th>\n",
       "    </tr>\n",
       "    <tr>\n",
       "      <th>order_item_id</th>\n",
       "      <th></th>\n",
       "      <th></th>\n",
       "      <th></th>\n",
       "      <th></th>\n",
       "      <th></th>\n",
       "      <th></th>\n",
       "      <th></th>\n",
       "      <th></th>\n",
       "      <th></th>\n",
       "      <th></th>\n",
       "      <th></th>\n",
       "      <th></th>\n",
       "      <th></th>\n",
       "    </tr>\n",
       "  </thead>\n",
       "  <tbody>\n",
       "    <tr>\n",
       "      <td>99996</td>\n",
       "      <td>2016-09-11</td>\n",
       "      <td>2016-09-12</td>\n",
       "      <td>156</td>\n",
       "      <td>20</td>\n",
       "      <td>blue</td>\n",
       "      <td>34</td>\n",
       "      <td>29.9</td>\n",
       "      <td>713</td>\n",
       "      <td>Mrs</td>\n",
       "      <td>1959-03-21</td>\n",
       "      <td>Rhineland-Palatinate</td>\n",
       "      <td>2015-02-17</td>\n",
       "      <td>0</td>\n",
       "    </tr>\n",
       "    <tr>\n",
       "      <td>99997</td>\n",
       "      <td>2016-09-11</td>\n",
       "      <td>2016-09-12</td>\n",
       "      <td>156</td>\n",
       "      <td>20</td>\n",
       "      <td>brown</td>\n",
       "      <td>34</td>\n",
       "      <td>29.9</td>\n",
       "      <td>713</td>\n",
       "      <td>Mrs</td>\n",
       "      <td>1959-03-21</td>\n",
       "      <td>Rhineland-Palatinate</td>\n",
       "      <td>2015-02-17</td>\n",
       "      <td>0</td>\n",
       "    </tr>\n",
       "    <tr>\n",
       "      <td>99998</td>\n",
       "      <td>2016-09-11</td>\n",
       "      <td>1994-12-31</td>\n",
       "      <td>1832</td>\n",
       "      <td>xxl</td>\n",
       "      <td>black</td>\n",
       "      <td>37</td>\n",
       "      <td>26.9</td>\n",
       "      <td>47794</td>\n",
       "      <td>Mr</td>\n",
       "      <td>1985-03-01</td>\n",
       "      <td>Hamburg</td>\n",
       "      <td>2016-09-10</td>\n",
       "      <td>0</td>\n",
       "    </tr>\n",
       "    <tr>\n",
       "      <td>99999</td>\n",
       "      <td>2016-09-11</td>\n",
       "      <td>1994-12-31</td>\n",
       "      <td>1832</td>\n",
       "      <td>xxl</td>\n",
       "      <td>black</td>\n",
       "      <td>37</td>\n",
       "      <td>26.9</td>\n",
       "      <td>47794</td>\n",
       "      <td>Mr</td>\n",
       "      <td>1985-03-01</td>\n",
       "      <td>Hamburg</td>\n",
       "      <td>2016-09-10</td>\n",
       "      <td>0</td>\n",
       "    </tr>\n",
       "    <tr>\n",
       "      <td>100000</td>\n",
       "      <td>2016-09-11</td>\n",
       "      <td>2016-10-08</td>\n",
       "      <td>1891</td>\n",
       "      <td>28</td>\n",
       "      <td>fuchsia</td>\n",
       "      <td>47</td>\n",
       "      <td>27.9</td>\n",
       "      <td>2622</td>\n",
       "      <td>Mrs</td>\n",
       "      <td>1973-10-17</td>\n",
       "      <td>Lower Saxony</td>\n",
       "      <td>2015-02-17</td>\n",
       "      <td>0</td>\n",
       "    </tr>\n",
       "  </tbody>\n",
       "</table>\n",
       "</div>"
      ],
      "text/plain": [
       "               order_date delivery_date  item_id item_size item_color  \\\n",
       "order_item_id                                                           \n",
       "99996          2016-09-11    2016-09-12      156        20       blue   \n",
       "99997          2016-09-11    2016-09-12      156        20      brown   \n",
       "99998          2016-09-11    1994-12-31     1832       xxl      black   \n",
       "99999          2016-09-11    1994-12-31     1832       xxl      black   \n",
       "100000         2016-09-11    2016-10-08     1891        28    fuchsia   \n",
       "\n",
       "               brand_id  item_price  user_id user_title    user_dob  \\\n",
       "order_item_id                                                         \n",
       "99996                34        29.9      713        Mrs  1959-03-21   \n",
       "99997                34        29.9      713        Mrs  1959-03-21   \n",
       "99998                37        26.9    47794         Mr  1985-03-01   \n",
       "99999                37        26.9    47794         Mr  1985-03-01   \n",
       "100000               47        27.9     2622        Mrs  1973-10-17   \n",
       "\n",
       "                         user_state user_reg_date  returned  \n",
       "order_item_id                                                \n",
       "99996          Rhineland-Palatinate    2015-02-17         0  \n",
       "99997          Rhineland-Palatinate    2015-02-17         0  \n",
       "99998                       Hamburg    2016-09-10         0  \n",
       "99999                       Hamburg    2016-09-10         0  \n",
       "100000                 Lower Saxony    2015-02-17         0  "
      ]
     },
     "execution_count": 20,
     "metadata": {},
     "output_type": "execute_result"
    }
   ],
   "source": [
    "df_known.tail(n=5)"
   ]
  },
  {
   "cell_type": "code",
   "execution_count": 21,
   "metadata": {},
   "outputs": [
    {
     "name": "stdout",
     "output_type": "stream",
     "text": [
      "<class 'pandas.core.frame.DataFrame'>\n",
      "Int64Index: 100000 entries, 1 to 100000\n",
      "Data columns (total 13 columns):\n",
      "order_date       100000 non-null object\n",
      "delivery_date    90682 non-null object\n",
      "item_id          100000 non-null int64\n",
      "item_size        100000 non-null object\n",
      "item_color       100000 non-null object\n",
      "brand_id         100000 non-null int64\n",
      "item_price       100000 non-null float64\n",
      "user_id          100000 non-null int64\n",
      "user_title       100000 non-null object\n",
      "user_dob         91275 non-null object\n",
      "user_state       100000 non-null object\n",
      "user_reg_date    100000 non-null object\n",
      "returned         100000 non-null int64\n",
      "dtypes: float64(1), int64(4), object(8)\n",
      "memory usage: 10.7+ MB\n"
     ]
    }
   ],
   "source": [
    "df_known.info()"
   ]
  },
  {
   "cell_type": "code",
   "execution_count": 22,
   "metadata": {},
   "outputs": [
    {
     "data": {
      "text/html": [
       "<div>\n",
       "<style scoped>\n",
       "    .dataframe tbody tr th:only-of-type {\n",
       "        vertical-align: middle;\n",
       "    }\n",
       "\n",
       "    .dataframe tbody tr th {\n",
       "        vertical-align: top;\n",
       "    }\n",
       "\n",
       "    .dataframe thead th {\n",
       "        text-align: right;\n",
       "    }\n",
       "</style>\n",
       "<table border=\"1\" class=\"dataframe\">\n",
       "  <thead>\n",
       "    <tr style=\"text-align: right;\">\n",
       "      <th></th>\n",
       "      <th>order_date</th>\n",
       "      <th>delivery_date</th>\n",
       "      <th>item_id</th>\n",
       "      <th>item_size</th>\n",
       "      <th>item_color</th>\n",
       "      <th>brand_id</th>\n",
       "      <th>item_price</th>\n",
       "      <th>user_id</th>\n",
       "      <th>user_title</th>\n",
       "      <th>user_dob</th>\n",
       "      <th>user_state</th>\n",
       "      <th>user_reg_date</th>\n",
       "      <th>returned</th>\n",
       "    </tr>\n",
       "  </thead>\n",
       "  <tbody>\n",
       "    <tr>\n",
       "      <td>count</td>\n",
       "      <td>100000</td>\n",
       "      <td>90682</td>\n",
       "      <td>100000.000000</td>\n",
       "      <td>100000</td>\n",
       "      <td>100000</td>\n",
       "      <td>100000.000000</td>\n",
       "      <td>100000.000000</td>\n",
       "      <td>100000.000000</td>\n",
       "      <td>100000</td>\n",
       "      <td>91275</td>\n",
       "      <td>100000</td>\n",
       "      <td>100000</td>\n",
       "      <td>100000.000000</td>\n",
       "    </tr>\n",
       "    <tr>\n",
       "      <td>unique</td>\n",
       "      <td>82</td>\n",
       "      <td>123</td>\n",
       "      <td>NaN</td>\n",
       "      <td>102</td>\n",
       "      <td>77</td>\n",
       "      <td>NaN</td>\n",
       "      <td>NaN</td>\n",
       "      <td>NaN</td>\n",
       "      <td>5</td>\n",
       "      <td>9247</td>\n",
       "      <td>16</td>\n",
       "      <td>573</td>\n",
       "      <td>NaN</td>\n",
       "    </tr>\n",
       "    <tr>\n",
       "      <td>top</td>\n",
       "      <td>2016-06-27</td>\n",
       "      <td>2016-07-03</td>\n",
       "      <td>NaN</td>\n",
       "      <td>l</td>\n",
       "      <td>black</td>\n",
       "      <td>NaN</td>\n",
       "      <td>NaN</td>\n",
       "      <td>NaN</td>\n",
       "      <td>Mrs</td>\n",
       "      <td>1900-11-21</td>\n",
       "      <td>North Rhine-Westphalia</td>\n",
       "      <td>2015-02-17</td>\n",
       "      <td>NaN</td>\n",
       "    </tr>\n",
       "    <tr>\n",
       "      <td>freq</td>\n",
       "      <td>5577</td>\n",
       "      <td>5061</td>\n",
       "      <td>NaN</td>\n",
       "      <td>12347</td>\n",
       "      <td>18640</td>\n",
       "      <td>NaN</td>\n",
       "      <td>NaN</td>\n",
       "      <td>NaN</td>\n",
       "      <td>95429</td>\n",
       "      <td>919</td>\n",
       "      <td>22825</td>\n",
       "      <td>33966</td>\n",
       "      <td>NaN</td>\n",
       "    </tr>\n",
       "    <tr>\n",
       "      <td>mean</td>\n",
       "      <td>NaN</td>\n",
       "      <td>NaN</td>\n",
       "      <td>923.781820</td>\n",
       "      <td>NaN</td>\n",
       "      <td>NaN</td>\n",
       "      <td>30.149020</td>\n",
       "      <td>65.064695</td>\n",
       "      <td>27169.073960</td>\n",
       "      <td>NaN</td>\n",
       "      <td>NaN</td>\n",
       "      <td>NaN</td>\n",
       "      <td>NaN</td>\n",
       "      <td>0.458180</td>\n",
       "    </tr>\n",
       "    <tr>\n",
       "      <td>std</td>\n",
       "      <td>NaN</td>\n",
       "      <td>NaN</td>\n",
       "      <td>702.568822</td>\n",
       "      <td>NaN</td>\n",
       "      <td>NaN</td>\n",
       "      <td>28.180191</td>\n",
       "      <td>47.991546</td>\n",
       "      <td>14053.417669</td>\n",
       "      <td>NaN</td>\n",
       "      <td>NaN</td>\n",
       "      <td>NaN</td>\n",
       "      <td>NaN</td>\n",
       "      <td>0.498251</td>\n",
       "    </tr>\n",
       "    <tr>\n",
       "      <td>min</td>\n",
       "      <td>NaN</td>\n",
       "      <td>NaN</td>\n",
       "      <td>1.000000</td>\n",
       "      <td>NaN</td>\n",
       "      <td>NaN</td>\n",
       "      <td>1.000000</td>\n",
       "      <td>0.000000</td>\n",
       "      <td>9.000000</td>\n",
       "      <td>NaN</td>\n",
       "      <td>NaN</td>\n",
       "      <td>NaN</td>\n",
       "      <td>NaN</td>\n",
       "      <td>0.000000</td>\n",
       "    </tr>\n",
       "    <tr>\n",
       "      <td>25%</td>\n",
       "      <td>NaN</td>\n",
       "      <td>NaN</td>\n",
       "      <td>214.000000</td>\n",
       "      <td>NaN</td>\n",
       "      <td>NaN</td>\n",
       "      <td>5.000000</td>\n",
       "      <td>29.900000</td>\n",
       "      <td>14937.000000</td>\n",
       "      <td>NaN</td>\n",
       "      <td>NaN</td>\n",
       "      <td>NaN</td>\n",
       "      <td>NaN</td>\n",
       "      <td>0.000000</td>\n",
       "    </tr>\n",
       "    <tr>\n",
       "      <td>50%</td>\n",
       "      <td>NaN</td>\n",
       "      <td>NaN</td>\n",
       "      <td>812.000000</td>\n",
       "      <td>NaN</td>\n",
       "      <td>NaN</td>\n",
       "      <td>25.000000</td>\n",
       "      <td>49.900000</td>\n",
       "      <td>31189.000000</td>\n",
       "      <td>NaN</td>\n",
       "      <td>NaN</td>\n",
       "      <td>NaN</td>\n",
       "      <td>NaN</td>\n",
       "      <td>0.000000</td>\n",
       "    </tr>\n",
       "    <tr>\n",
       "      <td>75%</td>\n",
       "      <td>NaN</td>\n",
       "      <td>NaN</td>\n",
       "      <td>1581.000000</td>\n",
       "      <td>NaN</td>\n",
       "      <td>NaN</td>\n",
       "      <td>44.000000</td>\n",
       "      <td>79.900000</td>\n",
       "      <td>38917.250000</td>\n",
       "      <td>NaN</td>\n",
       "      <td>NaN</td>\n",
       "      <td>NaN</td>\n",
       "      <td>NaN</td>\n",
       "      <td>1.000000</td>\n",
       "    </tr>\n",
       "    <tr>\n",
       "      <td>max</td>\n",
       "      <td>NaN</td>\n",
       "      <td>NaN</td>\n",
       "      <td>2241.000000</td>\n",
       "      <td>NaN</td>\n",
       "      <td>NaN</td>\n",
       "      <td>138.000000</td>\n",
       "      <td>999.000000</td>\n",
       "      <td>48241.000000</td>\n",
       "      <td>NaN</td>\n",
       "      <td>NaN</td>\n",
       "      <td>NaN</td>\n",
       "      <td>NaN</td>\n",
       "      <td>1.000000</td>\n",
       "    </tr>\n",
       "  </tbody>\n",
       "</table>\n",
       "</div>"
      ],
      "text/plain": [
       "        order_date delivery_date        item_id item_size item_color  \\\n",
       "count       100000         90682  100000.000000    100000     100000   \n",
       "unique          82           123            NaN       102         77   \n",
       "top     2016-06-27    2016-07-03            NaN         l      black   \n",
       "freq          5577          5061            NaN     12347      18640   \n",
       "mean           NaN           NaN     923.781820       NaN        NaN   \n",
       "std            NaN           NaN     702.568822       NaN        NaN   \n",
       "min            NaN           NaN       1.000000       NaN        NaN   \n",
       "25%            NaN           NaN     214.000000       NaN        NaN   \n",
       "50%            NaN           NaN     812.000000       NaN        NaN   \n",
       "75%            NaN           NaN    1581.000000       NaN        NaN   \n",
       "max            NaN           NaN    2241.000000       NaN        NaN   \n",
       "\n",
       "             brand_id     item_price        user_id user_title    user_dob  \\\n",
       "count   100000.000000  100000.000000  100000.000000     100000       91275   \n",
       "unique            NaN            NaN            NaN          5        9247   \n",
       "top               NaN            NaN            NaN        Mrs  1900-11-21   \n",
       "freq              NaN            NaN            NaN      95429         919   \n",
       "mean        30.149020      65.064695   27169.073960        NaN         NaN   \n",
       "std         28.180191      47.991546   14053.417669        NaN         NaN   \n",
       "min          1.000000       0.000000       9.000000        NaN         NaN   \n",
       "25%          5.000000      29.900000   14937.000000        NaN         NaN   \n",
       "50%         25.000000      49.900000   31189.000000        NaN         NaN   \n",
       "75%         44.000000      79.900000   38917.250000        NaN         NaN   \n",
       "max        138.000000     999.000000   48241.000000        NaN         NaN   \n",
       "\n",
       "                    user_state user_reg_date       returned  \n",
       "count                   100000        100000  100000.000000  \n",
       "unique                      16           573            NaN  \n",
       "top     North Rhine-Westphalia    2015-02-17            NaN  \n",
       "freq                     22825         33966            NaN  \n",
       "mean                       NaN           NaN       0.458180  \n",
       "std                        NaN           NaN       0.498251  \n",
       "min                        NaN           NaN       0.000000  \n",
       "25%                        NaN           NaN       0.000000  \n",
       "50%                        NaN           NaN       0.000000  \n",
       "75%                        NaN           NaN       1.000000  \n",
       "max                        NaN           NaN       1.000000  "
      ]
     },
     "execution_count": 22,
     "metadata": {},
     "output_type": "execute_result"
    }
   ],
   "source": [
    "df_known.describe(include='all')"
   ]
  },
  {
   "cell_type": "code",
   "execution_count": 23,
   "metadata": {
    "scrolled": true
   },
   "outputs": [
    {
     "name": "stdout",
     "output_type": "stream",
     "text": [
      "Mean value for item prices is 65.0646952000678\n",
      "Median value for item prices is 49.9\n",
      "\n",
      "\n",
      "The returned value counts are: \n",
      "0    54182\n",
      "1    45818\n",
      "Name: returned, dtype: int64\n",
      "\n",
      "\n",
      "The mean prices of non-returned and returned items are: \n",
      "returned\n",
      "0    58.882494\n",
      "1    72.375447\n",
      "Name: item_price, dtype: float64\n"
     ]
    }
   ],
   "source": [
    "print('Mean value for item prices is {}'.format(df_known[\"item_price\"].mean()),'Median value for item prices is {}'.format(df_known[\"item_price\"].median()), sep=\"\\n\")\n",
    "print(\"\\n\")\n",
    "print('The returned value counts are: \\n{}'.format(df_known.returned.value_counts()))\n",
    "print(\"\\n\")\n",
    "print('The mean prices of non-returned and returned items are: \\n{}'.format(df_known.groupby(\"returned\")[\"item_price\"].mean()))"
   ]
  },
  {
   "cell_type": "markdown",
   "metadata": {},
   "source": [
    "The continuous variable \"item_price\" is further analyzed. Here, it is seen that the item price varies between the cases where the item is returned and the item is not returned. Item price seems to be an important variable according to the first inspection."
   ]
  },
  {
   "cell_type": "code",
   "execution_count": 24,
   "metadata": {
    "scrolled": true
   },
   "outputs": [
    {
     "name": "stderr",
     "output_type": "stream",
     "text": [
      "C:\\Users\\Berkay Kocak\\Anaconda3\\lib\\site-packages\\ipykernel_launcher.py:2: SettingWithCopyWarning: \n",
      "A value is trying to be set on a copy of a slice from a DataFrame\n",
      "\n",
      "See the caveats in the documentation: http://pandas.pydata.org/pandas-docs/stable/user_guide/indexing.html#returning-a-view-versus-a-copy\n",
      "  \n"
     ]
    },
    {
     "data": {
      "text/plain": [
       "black             18640\n",
       "blue              10851\n",
       "brown              8747\n",
       "grey               8708\n",
       "red                7264\n",
       "                  ...  \n",
       "currant purple        7\n",
       "amethyst              5\n",
       "avocado               4\n",
       "creme                 4\n",
       "opal                  2\n",
       "Name: item_color, Length: 75, dtype: int64"
      ]
     },
     "execution_count": 24,
     "metadata": {},
     "output_type": "execute_result"
    }
   ],
   "source": [
    "#It is discovered that there are some typos regarding the colors of the items.These mistakes are handled.\n",
    "df_known.item_color[df_known[\"item_color\"]==\"blau\"] = \"blue\"\n",
    "df_known.item_color[df_known[\"item_color\"]==\"brwon\"] = \"brown\"\n",
    "df_known.item_color.value_counts()"
   ]
  },
  {
   "cell_type": "code",
   "execution_count": 25,
   "metadata": {},
   "outputs": [],
   "source": [
    "#The data types of the variables are changed.\n",
    "df_known['returned'] = df_known['returned'].astype('bool')\n",
    "df_known['order_date'] = pd.to_datetime(df_known['order_date'])\n",
    "df_known['delivery_date'] = pd.to_datetime(df_known['delivery_date'])\n",
    "df_known['user_dob'] = pd.to_datetime(df_known['user_dob'])\n",
    "df_known['user_reg_date'] = pd.to_datetime(df_known['user_reg_date'])\n",
    "df_known['item_size'] = df_known['item_size'].astype('category')\n",
    "df_known['item_color'] = df_known['item_color'].astype('category')\n",
    "df_known['user_title'] = df_known['user_title'].astype('category')\n",
    "df_known['user_state'] = df_known['user_state'].astype('category')"
   ]
  },
  {
   "cell_type": "code",
   "execution_count": 26,
   "metadata": {},
   "outputs": [
    {
     "name": "stdout",
     "output_type": "stream",
     "text": [
      "<class 'pandas.core.frame.DataFrame'>\n",
      "Int64Index: 100000 entries, 1 to 100000\n",
      "Data columns (total 13 columns):\n",
      "order_date       100000 non-null datetime64[ns]\n",
      "delivery_date    90682 non-null datetime64[ns]\n",
      "item_id          100000 non-null int64\n",
      "item_size        100000 non-null category\n",
      "item_color       100000 non-null category\n",
      "brand_id         100000 non-null int64\n",
      "item_price       100000 non-null float64\n",
      "user_id          100000 non-null int64\n",
      "user_title       100000 non-null category\n",
      "user_dob         91275 non-null datetime64[ns]\n",
      "user_state       100000 non-null category\n",
      "user_reg_date    100000 non-null datetime64[ns]\n",
      "returned         100000 non-null bool\n",
      "dtypes: bool(1), category(4), datetime64[ns](4), float64(1), int64(3)\n",
      "memory usage: 7.4 MB\n"
     ]
    }
   ],
   "source": [
    "df_known.info()"
   ]
  },
  {
   "cell_type": "code",
   "execution_count": 27,
   "metadata": {
    "scrolled": true
   },
   "outputs": [
    {
     "name": "stdout",
     "output_type": "stream",
     "text": [
      "order_date          0\n",
      "delivery_date    9318\n",
      "item_id             0\n",
      "item_size           0\n",
      "item_color          0\n",
      "brand_id            0\n",
      "item_price          0\n",
      "user_id             0\n",
      "user_title          0\n",
      "user_dob         8725\n",
      "user_state          0\n",
      "user_reg_date       0\n",
      "returned            0\n",
      "dtype: int64\n"
     ]
    },
    {
     "data": {
      "text/plain": [
       "<matplotlib.axes._subplots.AxesSubplot at 0x24316ffe9c8>"
      ]
     },
     "execution_count": 27,
     "metadata": {},
     "output_type": "execute_result"
    },
    {
     "data": {
      "image/png": "[encoded data removed]",
      "text/plain": [
       "<Figure size 432x288 with 1 Axes>"
      ]
     },
     "metadata": {
      "needs_background": "light"
     },
     "output_type": "display_data"
    }
   ],
   "source": [
    "#Analyzing the missing values.\n",
    "print(df_known.isnull().sum())\n",
    "sns.heatmap(df_known.isnull(), cbar=False)"
   ]
  },
  {
   "cell_type": "markdown",
   "metadata": {},
   "source": [
    "The first inspection of the data has shown that the data set is fairly balanced with nearly 45k returned and 55k non returned items. Moreover, it might be seen that there are 4 columns that includes several dates, 4 columns that include categorical variables, 3 columns that include integer values such as brand_id and item_id and one column that is the price of the item. It is seen that there are missing values in 2 columns, namely \"user_dob\" and \"delivery_date. On the next part of this paper, main focus will be on creating new variables from the existing ones that the machine learning algorithms might effectively work. During this process, the missing values of the related columns will also be handled."
   ]
  },
  {
   "cell_type": "markdown",
   "metadata": {},
   "source": [
    "# Data Preperation & Feature Engineering"
   ]
  },
  {
   "cell_type": "markdown",
   "metadata": {},
   "source": [
    "In this part of the project, there will be new variables that are added to the model by feature engineering while the data is analyzed variable by variable."
   ]
  },
  {
   "cell_type": "markdown",
   "metadata": {},
   "source": [
    "### Delivery Time"
   ]
  },
  {
   "cell_type": "code",
   "execution_count": 28,
   "metadata": {},
   "outputs": [],
   "source": [
    "#The delivery time is added in terms of weeks.\n",
    "df_known[\"delivery_time_weeks\"]=round((df_known[\"delivery_date\"]-df_known[\"order_date\"]).dt.days/7)"
   ]
  },
  {
   "cell_type": "markdown",
   "metadata": {},
   "source": [
    "The delivery time is basically the time difference between the delivery date and the order date. During the data preperation, other time periods are also tried such as days and months. However, weeks proved to be having the highest correlation with the returning decision. Moreover, calculating the delivery time in terms of weeks is also a logical approach since the return decision usually does not vary too much between days. The delivery time is a significant factor for the user to return the item or not since long waiting times for the deliveries might be really tiring for the customer."
   ]
  },
  {
   "cell_type": "code",
   "execution_count": 29,
   "metadata": {},
   "outputs": [
    {
     "name": "stdout",
     "output_type": "stream",
     "text": [
      "The returned and non-returned counts for missing cases: \n",
      "False    9318\n",
      "Name: returned, dtype: int64\n",
      "\n",
      "\n",
      "The returned and non-returned counts for negative cases: \n",
      "False    669\n",
      "True     403\n",
      "Name: returned, dtype: int64\n",
      "\n",
      "\n",
      "Percentage of items returned for each delivery time week: \n",
      "delivery_time_weeks\n",
      "-1132.0    0.135593\n",
      "-1131.0    0.285714\n",
      "-1130.0    0.648649\n",
      "-1129.0    0.172043\n",
      "-1128.0    0.200000\n",
      "-1127.0    0.450000\n",
      "-1126.0    0.131579\n",
      "-1125.0    0.250000\n",
      "-1124.0    0.418605\n",
      "-1123.0    0.361702\n",
      "-1122.0    0.604396\n",
      "-1121.0    0.551913\n",
      " 0.0       0.508534\n",
      " 1.0       0.525775\n",
      " 2.0       0.485073\n",
      " 3.0       0.427356\n",
      " 4.0       0.443713\n",
      " 5.0       0.478298\n",
      " 6.0       0.434731\n",
      " 7.0       0.480831\n",
      " 8.0       0.483232\n",
      " 9.0       0.524178\n",
      " 10.0      0.531401\n",
      " 11.0      0.561350\n",
      " 12.0      0.497908\n",
      " 13.0      0.506494\n",
      " 14.0      0.529412\n",
      " 15.0      0.514286\n",
      " 16.0      0.652174\n",
      " 17.0      0.166667\n",
      " 18.0      1.000000\n",
      " 19.0      0.500000\n",
      " 20.0      0.000000\n",
      " 22.0      0.000000\n",
      " 25.0      1.000000\n",
      "Name: returned, dtype: float64\n"
     ]
    }
   ],
   "source": [
    "na_delivery_times=df_known[[\"returned\",\"delivery_time_weeks\",\"order_date\",\"delivery_date\"]][df_known.delivery_time_weeks.isnull()]\n",
    "print('The returned and non-returned counts for missing cases: \\n{}'.format(na_delivery_times.returned.value_counts()))\n",
    "neg_delivery_times=df_known[[\"returned\",\"delivery_time_weeks\",\"order_date\",\"delivery_date\"]][df_known.delivery_time_weeks<0]\n",
    "print(\"\\n\")\n",
    "print('The returned and non-returned counts for negative cases: \\n{}'.format(neg_delivery_times.returned.value_counts()))\n",
    "print(\"\\n\")\n",
    "print('Percentage of items returned for each delivery time week: \\n{}'.format(df_known.groupby(\"delivery_time_weeks\")[\"returned\"].mean()))"
   ]
  },
  {
   "cell_type": "markdown",
   "metadata": {},
   "source": [
    "If the null values and the negative values are analyzed, one can see that these values have different distribution in terms or returning decision compared to other delivery times. Especially in the null values case, it can be seen that all of the cases are concluding in a non-returning item which is highly specific. "
   ]
  },
  {
   "cell_type": "code",
   "execution_count": 30,
   "metadata": {},
   "outputs": [
    {
     "data": {
      "text/html": [
       "<div>\n",
       "<style scoped>\n",
       "    .dataframe tbody tr th:only-of-type {\n",
       "        vertical-align: middle;\n",
       "    }\n",
       "\n",
       "    .dataframe tbody tr th {\n",
       "        vertical-align: top;\n",
       "    }\n",
       "\n",
       "    .dataframe thead th {\n",
       "        text-align: right;\n",
       "    }\n",
       "</style>\n",
       "<table border=\"1\" class=\"dataframe\">\n",
       "  <thead>\n",
       "    <tr style=\"text-align: right;\">\n",
       "      <th></th>\n",
       "      <th>returned</th>\n",
       "      <th>delivery_time_weeks</th>\n",
       "      <th>order_date</th>\n",
       "      <th>delivery_date</th>\n",
       "    </tr>\n",
       "    <tr>\n",
       "      <th>order_item_id</th>\n",
       "      <th></th>\n",
       "      <th></th>\n",
       "      <th></th>\n",
       "      <th></th>\n",
       "    </tr>\n",
       "  </thead>\n",
       "  <tbody>\n",
       "    <tr>\n",
       "      <td>287</td>\n",
       "      <td>False</td>\n",
       "      <td>-1121.0</td>\n",
       "      <td>2016-06-23</td>\n",
       "      <td>1994-12-31</td>\n",
       "    </tr>\n",
       "    <tr>\n",
       "      <td>61673</td>\n",
       "      <td>False</td>\n",
       "      <td>-1127.0</td>\n",
       "      <td>2016-08-09</td>\n",
       "      <td>1994-12-31</td>\n",
       "    </tr>\n",
       "    <tr>\n",
       "      <td>57462</td>\n",
       "      <td>True</td>\n",
       "      <td>-1127.0</td>\n",
       "      <td>2016-08-07</td>\n",
       "      <td>1994-12-31</td>\n",
       "    </tr>\n",
       "    <tr>\n",
       "      <td>57463</td>\n",
       "      <td>True</td>\n",
       "      <td>-1127.0</td>\n",
       "      <td>2016-08-07</td>\n",
       "      <td>1994-12-31</td>\n",
       "    </tr>\n",
       "    <tr>\n",
       "      <td>57464</td>\n",
       "      <td>True</td>\n",
       "      <td>-1127.0</td>\n",
       "      <td>2016-08-07</td>\n",
       "      <td>1994-12-31</td>\n",
       "    </tr>\n",
       "    <tr>\n",
       "      <td>...</td>\n",
       "      <td>...</td>\n",
       "      <td>...</td>\n",
       "      <td>...</td>\n",
       "      <td>...</td>\n",
       "    </tr>\n",
       "    <tr>\n",
       "      <td>29889</td>\n",
       "      <td>True</td>\n",
       "      <td>-1122.0</td>\n",
       "      <td>2016-07-05</td>\n",
       "      <td>1994-12-31</td>\n",
       "    </tr>\n",
       "    <tr>\n",
       "      <td>29890</td>\n",
       "      <td>True</td>\n",
       "      <td>-1122.0</td>\n",
       "      <td>2016-07-05</td>\n",
       "      <td>1994-12-31</td>\n",
       "    </tr>\n",
       "    <tr>\n",
       "      <td>29891</td>\n",
       "      <td>True</td>\n",
       "      <td>-1122.0</td>\n",
       "      <td>2016-07-05</td>\n",
       "      <td>1994-12-31</td>\n",
       "    </tr>\n",
       "    <tr>\n",
       "      <td>30179</td>\n",
       "      <td>True</td>\n",
       "      <td>-1123.0</td>\n",
       "      <td>2016-07-06</td>\n",
       "      <td>1994-12-31</td>\n",
       "    </tr>\n",
       "    <tr>\n",
       "      <td>99999</td>\n",
       "      <td>False</td>\n",
       "      <td>-1132.0</td>\n",
       "      <td>2016-09-11</td>\n",
       "      <td>1994-12-31</td>\n",
       "    </tr>\n",
       "  </tbody>\n",
       "</table>\n",
       "<p>1072 rows × 4 columns</p>\n",
       "</div>"
      ],
      "text/plain": [
       "               returned  delivery_time_weeks order_date delivery_date\n",
       "order_item_id                                                        \n",
       "287               False              -1121.0 2016-06-23    1994-12-31\n",
       "61673             False              -1127.0 2016-08-09    1994-12-31\n",
       "57462              True              -1127.0 2016-08-07    1994-12-31\n",
       "57463              True              -1127.0 2016-08-07    1994-12-31\n",
       "57464              True              -1127.0 2016-08-07    1994-12-31\n",
       "...                 ...                  ...        ...           ...\n",
       "29889              True              -1122.0 2016-07-05    1994-12-31\n",
       "29890              True              -1122.0 2016-07-05    1994-12-31\n",
       "29891              True              -1122.0 2016-07-05    1994-12-31\n",
       "30179              True              -1123.0 2016-07-06    1994-12-31\n",
       "99999             False              -1132.0 2016-09-11    1994-12-31\n",
       "\n",
       "[1072 rows x 4 columns]"
      ]
     },
     "execution_count": 30,
     "metadata": {},
     "output_type": "execute_result"
    }
   ],
   "source": [
    "#Inspection of negative delivery times\n",
    "neg_delivery_times.sort_values(by=\"delivery_date\",ascending=False)"
   ]
  },
  {
   "cell_type": "markdown",
   "metadata": {},
   "source": [
    "It is seen that the delivery times that have negative values are associated with the delivery date: \"1994-12-31\". Therefore it may concluded that these values might also correspond to missing delivery dates. These negative and missing delivery dates could be replaced by adding mean delivery time to the individual order dates. However, in the scope of this project dates are not used as input variables. Therefore, only the delivery times are replaced by the mean value."
   ]
  },
  {
   "cell_type": "code",
   "execution_count": 31,
   "metadata": {},
   "outputs": [],
   "source": [
    "df_known_non_na_delivery_times=df_known[df_known.delivery_time_weeks>=0]"
   ]
  },
  {
   "cell_type": "code",
   "execution_count": 32,
   "metadata": {},
   "outputs": [
    {
     "name": "stdout",
     "output_type": "stream",
     "text": [
      "Mean delivery time for non-missing and non-negative deliveries: \n",
      "0.9660082580069189\n"
     ]
    }
   ],
   "source": [
    "print('Mean delivery time for non-missing and non-negative deliveries: \\n{}'.format(df_known_non_na_delivery_times.delivery_time_weeks.mean()))"
   ]
  },
  {
   "cell_type": "markdown",
   "metadata": {},
   "source": [
    "It is found out that the mean delivery time of deliveries that do not have negative or \"NaT\" values are 0.96 weeks. This can be rounded to 1 week. Therefore, for NaT or \"1994-12-31\" delivery dates the delivery time may be replaced with 1 week . Another option is discretizing the continuous variable. Since these NaT and and negative values have different distributions and further analysis of the delivery time column revealed that there are too many outliers, it is also logical to discretize the continuous variable into categories. These categories are determined by analyzing the return rates of the customers and some logical assumptions about when would a customer become tired of waiting."
   ]
  },
  {
   "cell_type": "code",
   "execution_count": 33,
   "metadata": {},
   "outputs": [
    {
     "name": "stderr",
     "output_type": "stream",
     "text": [
      "C:\\Users\\Berkay Kocak\\Anaconda3\\lib\\site-packages\\ipykernel_launcher.py:3: SettingWithCopyWarning: \n",
      "A value is trying to be set on a copy of a slice from a DataFrame\n",
      "\n",
      "See the caveats in the documentation: http://pandas.pydata.org/pandas-docs/stable/user_guide/indexing.html#returning-a-view-versus-a-copy\n",
      "  This is separate from the ipykernel package so we can avoid doing imports until\n"
     ]
    }
   ],
   "source": [
    "#Discretizing the continuous variable delivery time\n",
    "df_known[\"delivery_time_cat\"]=df_known.delivery_time_weeks.fillna(\"IsMissing\")\n",
    "df_known.delivery_time_cat[df_known[\"delivery_time_weeks\"]<0]=\"IsNegative\"\n",
    "df_known.delivery_time_cat[df_known[\"delivery_time_weeks\"]>=3]=\"3-4\"\n",
    "df_known.delivery_time_cat[df_known[\"delivery_time_weeks\"]>=5]=\"5+\""
   ]
  },
  {
   "cell_type": "code",
   "execution_count": 34,
   "metadata": {},
   "outputs": [
    {
     "data": {
      "image/png": "[encoded data removed]",
      "text/plain": [
       "<Figure size 432x288 with 1 Axes>"
      ]
     },
     "metadata": {
      "needs_background": "light"
     },
     "output_type": "display_data"
    }
   ],
   "source": [
    "del_time = df_known.groupby(['returned', 'delivery_time_cat']).size().reset_index().pivot(columns='returned', index='delivery_time_cat', values=0)\n",
    "                                                                       \n",
    "del_time.plot(kind='bar', stacked=True);"
   ]
  },
  {
   "cell_type": "code",
   "execution_count": 35,
   "metadata": {},
   "outputs": [
    {
     "name": "stderr",
     "output_type": "stream",
     "text": [
      "C:\\Users\\Berkay Kocak\\Anaconda3\\lib\\site-packages\\ipykernel_launcher.py:3: SettingWithCopyWarning: \n",
      "A value is trying to be set on a copy of a slice from a DataFrame\n",
      "\n",
      "See the caveats in the documentation: http://pandas.pydata.org/pandas-docs/stable/user_guide/indexing.html#returning-a-view-versus-a-copy\n",
      "  This is separate from the ipykernel package so we can avoid doing imports until\n"
     ]
    }
   ],
   "source": [
    "#Changing na and neg values by median\n",
    "df_known.delivery_time_weeks.fillna(1,inplace=True)\n",
    "df_known.delivery_time_weeks[df_known[\"delivery_time_weeks\"]<0]= 1"
   ]
  },
  {
   "cell_type": "markdown",
   "metadata": {},
   "source": [
    "Both of the delivery time columns are kept for now since high correlation between variables is not an issue for tree based algorithms such as XGB and RFC that will be used in this project. The best features of the models might be analyzed thoroughly in the model decision section."
   ]
  },
  {
   "cell_type": "markdown",
   "metadata": {},
   "source": [
    "### Time Since Registration"
   ]
  },
  {
   "cell_type": "code",
   "execution_count": 36,
   "metadata": {},
   "outputs": [],
   "source": [
    "df_known[\"months_since_reg\"]=round((max(df_known[\"user_reg_date\"])-df_known[\"user_reg_date\"]).dt.days/30)"
   ]
  },
  {
   "cell_type": "markdown",
   "metadata": {},
   "source": [
    "The time since registration is added in terms of months. During the data preperation phase, other time periods are also tried such as days and weeks. However, months proved to be having the highest correlation with the returning decision. Moreover, calculating the time since registration in terms of months is also a logical approach since the return decision usually does not vary too much between weeks. During the calculation maxiumum user_reg_date has been used as a referance to calculate the days since registration. In other words, the newest user is accepted to be a reference point for all other customers to calculate the time since their registration. The time since registration might also be a significant factor for the users' returning behavior which will be analyzed further in explarotary data analysis part."
   ]
  },
  {
   "cell_type": "markdown",
   "metadata": {},
   "source": [
    "### Age"
   ]
  },
  {
   "cell_type": "code",
   "execution_count": 37,
   "metadata": {},
   "outputs": [
    {
     "name": "stdout",
     "output_type": "stream",
     "text": [
      "Number of missing date of births: 8725\n",
      "Number of users that do not have a date of birth: 2223\n"
     ]
    }
   ],
   "source": [
    "print('Number of missing date of births: {}'.format(df_known[\"user_dob\"].isnull().sum()))\n",
    "user_dobs=df_known.groupby(\"user_id\")[\"user_dob\"].max()\n",
    "print('Number of users that do not have a date of birth: {}'.format(user_dobs.isnull().sum()))"
   ]
  },
  {
   "cell_type": "code",
   "execution_count": 38,
   "metadata": {},
   "outputs": [],
   "source": [
    "#The age of the user is calculated by taking the difference between the registration date and the date of birth.\n",
    "df_known[\"age\"]=round((max(df_known[\"user_reg_date\"])-df_known[\"user_dob\"]).dt.days/365)"
   ]
  },
  {
   "cell_type": "markdown",
   "metadata": {},
   "source": [
    "The age column is added. While calculating the age of the users, the user_reg_date of the newest customer is again used as a reference point. It is again seen that number of missing values forms a significant part of the data. Therefore it needs to be handled. The age should also be an important factor for the returning decision of the customer since different generations have very distinct relationships with the online shopping. The new generations have adapted to using online shopping fairly well compared to the older generations."
   ]
  },
  {
   "cell_type": "code",
   "execution_count": 39,
   "metadata": {},
   "outputs": [
    {
     "name": "stdout",
     "output_type": "stream",
     "text": [
      "The returned and non-returned counts for missing cases: \n",
      "False    4757\n",
      "True     3968\n",
      "Name: returned, dtype: int64\n"
     ]
    }
   ],
   "source": [
    "na_ages=df_known[[\"returned\",\"age\"]][df_known.age.isnull()]\n",
    "print('The returned and non-returned counts for missing cases: \\n{}'.format(na_ages.returned.value_counts()))"
   ]
  },
  {
   "cell_type": "code",
   "execution_count": 40,
   "metadata": {},
   "outputs": [
    {
     "name": "stderr",
     "output_type": "stream",
     "text": [
      "C:\\Users\\Berkay Kocak\\Anaconda3\\lib\\site-packages\\ipykernel_launcher.py:2: SettingWithCopyWarning: \n",
      "A value is trying to be set on a copy of a slice from a DataFrame\n",
      "\n",
      "See the caveats in the documentation: http://pandas.pydata.org/pandas-docs/stable/user_guide/indexing.html#returning-a-view-versus-a-copy\n",
      "  \n"
     ]
    }
   ],
   "source": [
    "df_known[\"age_cat\"]=df_known.age.fillna(\"Missing\")\n",
    "df_known.age_cat[df_known[\"age\"]<25]=\"Gen Z\"\n",
    "df_known.age_cat[df_known[\"age\"]>=25]=\"Gen Y\"\n",
    "df_known.age_cat[df_known[\"age\"]>=41]=\"Gen X\"\n",
    "df_known.age_cat[df_known[\"age\"]>=57]=\"Baby-Boomers\""
   ]
  },
  {
   "cell_type": "markdown",
   "metadata": {},
   "source": [
    "The same approach as the delivery time is taken for the variable age. A seperate column containing several categories is formed including a \"Missing\" category. The age categories are formed as GenX, GenY, GenZ and Baby-Boomers. Since, each of these generations have a different kind of relationship with new technology and online shopping, it makes sense to categorize the column this way. Moreover, the division of the data between these categories is also logical since otherwise the data would have a big amount of outliers as further analysis showed."
   ]
  },
  {
   "cell_type": "code",
   "execution_count": 41,
   "metadata": {},
   "outputs": [],
   "source": [
    "#The missing values are replaced by the median for the age column\n",
    "median = df_known[\"age\"].median(skipna=True)\n",
    "df_known[\"age\"].fillna(median, inplace=True)"
   ]
  },
  {
   "cell_type": "code",
   "execution_count": 42,
   "metadata": {},
   "outputs": [
    {
     "data": {
      "image/png": "[encoded data removed]",
      "text/plain": [
       "<Figure size 432x288 with 1 Axes>"
      ]
     },
     "metadata": {
      "needs_background": "light"
     },
     "output_type": "display_data"
    }
   ],
   "source": [
    "age = df_known.groupby(['returned', 'age_cat']).size().reset_index().pivot(columns='returned', index='age_cat', values=0)\n",
    "                                                                       \n",
    "age.plot(kind='bar', stacked=True);"
   ]
  },
  {
   "cell_type": "markdown",
   "metadata": {},
   "source": [
    "### # of Deliveries to Each User"
   ]
  },
  {
   "cell_type": "code",
   "execution_count": 43,
   "metadata": {},
   "outputs": [],
   "source": [
    "# Total number of deliveries to each user is calculated and added as a new variable\n",
    "user_purchase_cnt=df_known.groupby(\"user_id\")[\"item_price\"].count()\n",
    "user_purchase_cnt_df=user_purchase_cnt.to_frame()\n",
    "user_purchase_cnt_df=user_purchase_cnt_df.rename({'item_price': 'user_purchase_cnt'}, axis=1)\n",
    "df_known=df_known.merge(user_purchase_cnt_df, on=\"user_id\", how='left')"
   ]
  },
  {
   "cell_type": "markdown",
   "metadata": {},
   "source": [
    "### Total Amount of Purchases by Each User"
   ]
  },
  {
   "cell_type": "code",
   "execution_count": 44,
   "metadata": {},
   "outputs": [],
   "source": [
    "# Total amount of purchases by each user is calculated and added as a new variable\n",
    "user_purchase_amt=df_known.groupby(\"user_id\")[\"item_price\"].sum()\n",
    "user_purchase_amt_df=user_purchase_amt.to_frame()\n",
    "user_purchase_amt_df=user_purchase_amt_df.rename({'item_price': 'user_purchase_amt'}, axis=1)\n",
    "df_known=df_known.merge(user_purchase_amt_df, on=\"user_id\", how='left')"
   ]
  },
  {
   "cell_type": "markdown",
   "metadata": {},
   "source": [
    "### # of Deliveries from Each Brand"
   ]
  },
  {
   "cell_type": "code",
   "execution_count": 45,
   "metadata": {},
   "outputs": [],
   "source": [
    "# Total number of deliveries from each brand is calculated and added as a new variable\n",
    "brand_purchase_cnt=df_known.groupby(\"brand_id\")[\"item_price\"].count()\n",
    "brand_purchase_cnt_df=brand_purchase_cnt.to_frame()\n",
    "brand_purchase_cnt_df=brand_purchase_cnt_df.rename({'item_price': 'brand_purchase_cnt'}, axis=1)\n",
    "df_known=df_known.merge(brand_purchase_cnt_df, on=\"brand_id\", how='left')"
   ]
  },
  {
   "cell_type": "markdown",
   "metadata": {},
   "source": [
    "### # of Deliveries from Each Item"
   ]
  },
  {
   "cell_type": "code",
   "execution_count": 46,
   "metadata": {},
   "outputs": [],
   "source": [
    "# Total number of deliveries from each item is calculated and added as a new variable\n",
    "item_purchase_cnt=df_known.groupby(\"item_id\")[\"item_price\"].count()\n",
    "item_purchase_cnt_df=item_purchase_cnt.to_frame()\n",
    "item_purchase_cnt_df=item_purchase_cnt_df.rename({'item_price': 'item_purchase_cnt'}, axis=1)\n",
    "df_known=df_known.merge(item_purchase_cnt_df, on=\"item_id\", how='left')"
   ]
  },
  {
   "cell_type": "markdown",
   "metadata": {},
   "source": [
    "### Average Amount of Purchases from Each User"
   ]
  },
  {
   "cell_type": "code",
   "execution_count": 47,
   "metadata": {},
   "outputs": [],
   "source": [
    "#The average amount of purchases from each user found by dividing total user purchase amount by total #of purchases from each user.\n",
    "df_known[\"user_purchase_avg\"]=df_known[\"user_purchase_amt\"]/df_known[\"user_purchase_cnt\"]"
   ]
  },
  {
   "cell_type": "markdown",
   "metadata": {},
   "source": [
    "Feature engineering process is concluded by the addition of these variables.The data types or the new features are determined below. Moreover, unnecessary columns such as dates are dropped to omit any inconvenience stemming from the missing data."
   ]
  },
  {
   "cell_type": "code",
   "execution_count": 48,
   "metadata": {},
   "outputs": [
    {
     "name": "stdout",
     "output_type": "stream",
     "text": [
      "<class 'pandas.core.frame.DataFrame'>\n",
      "Int64Index: 100000 entries, 0 to 99999\n",
      "Data columns (total 23 columns):\n",
      "order_date             100000 non-null datetime64[ns]\n",
      "delivery_date          90682 non-null datetime64[ns]\n",
      "item_id                100000 non-null int64\n",
      "item_size              100000 non-null category\n",
      "item_color             100000 non-null category\n",
      "brand_id               100000 non-null int64\n",
      "item_price             100000 non-null float64\n",
      "user_id                100000 non-null int64\n",
      "user_title             100000 non-null category\n",
      "user_dob               91275 non-null datetime64[ns]\n",
      "user_state             100000 non-null category\n",
      "user_reg_date          100000 non-null datetime64[ns]\n",
      "returned               100000 non-null bool\n",
      "delivery_time_weeks    100000 non-null float64\n",
      "delivery_time_cat      100000 non-null object\n",
      "months_since_reg       100000 non-null float64\n",
      "age                    100000 non-null float64\n",
      "age_cat                100000 non-null object\n",
      "user_purchase_cnt      100000 non-null int64\n",
      "user_purchase_amt      100000 non-null float64\n",
      "brand_purchase_cnt     100000 non-null int64\n",
      "item_purchase_cnt      100000 non-null int64\n",
      "user_purchase_avg      100000 non-null float64\n",
      "dtypes: bool(1), category(4), datetime64[ns](4), float64(6), int64(6), object(2)\n",
      "memory usage: 15.0+ MB\n"
     ]
    }
   ],
   "source": [
    "df_known.info()"
   ]
  },
  {
   "cell_type": "code",
   "execution_count": 49,
   "metadata": {},
   "outputs": [],
   "source": [
    "# The data types for the new variables are assigned\n",
    "df_known['user_purchase_cnt'] = df_known['user_purchase_cnt'].astype('float64')\n",
    "df_known['brand_purchase_cnt'] = df_known['brand_purchase_cnt'].astype('float64')\n",
    "df_known['item_purchase_cnt'] = df_known['item_purchase_cnt'].astype('float64')\n",
    "df_known['delivery_time_cat'] = df_known['delivery_time_cat'].astype('category')\n",
    "df_known['age_cat'] = df_known['age_cat'].astype('category')"
   ]
  },
  {
   "cell_type": "code",
   "execution_count": 50,
   "metadata": {},
   "outputs": [],
   "source": [
    "# The unnecassary columns are dropped\n",
    "df_known=df_known.drop([\"order_date\",\"delivery_date\",\"user_dob\",\"user_reg_date\"],axis=1)"
   ]
  },
  {
   "cell_type": "markdown",
   "metadata": {},
   "source": [
    "After these steps each variable in the data except the categorical variables are handled. New variables are formed by feature engineering and in this process the null values and the data types of the variables are taken care of. The project will continue with the exploratory data analysis for all the variables that are available so far.Then, the categorical variables will be handled so that these also can be interpreted as meaningful inputs by the algorithms that will be used later on."
   ]
  },
  {
   "cell_type": "markdown",
   "metadata": {},
   "source": [
    "# Exploratory Data Analysis"
   ]
  },
  {
   "cell_type": "markdown",
   "metadata": {},
   "source": [
    "In this part of the project, the features that the model has so far will be analyzed thoroughly to see whether they are satisfying the statistical properties that are needed for the algorithms. Although, the tree based algorithms that will be used in this project are fairly robust, the analysis will be realized for the sake of completeness and having a better understanding of the variables that were available and that are engineered. Univariate analysis for each feature and multivariate analysis for several features will be the main two headlines of this section."
   ]
  },
  {
   "cell_type": "code",
   "execution_count": 51,
   "metadata": {},
   "outputs": [
    {
     "data": {
      "text/html": [
       "<div>\n",
       "<style scoped>\n",
       "    .dataframe tbody tr th:only-of-type {\n",
       "        vertical-align: middle;\n",
       "    }\n",
       "\n",
       "    .dataframe tbody tr th {\n",
       "        vertical-align: top;\n",
       "    }\n",
       "\n",
       "    .dataframe thead th {\n",
       "        text-align: right;\n",
       "    }\n",
       "</style>\n",
       "<table border=\"1\" class=\"dataframe\">\n",
       "  <thead>\n",
       "    <tr style=\"text-align: right;\">\n",
       "      <th></th>\n",
       "      <th>item_id</th>\n",
       "      <th>item_size</th>\n",
       "      <th>item_color</th>\n",
       "      <th>brand_id</th>\n",
       "      <th>item_price</th>\n",
       "      <th>user_id</th>\n",
       "      <th>user_title</th>\n",
       "      <th>user_state</th>\n",
       "      <th>returned</th>\n",
       "      <th>delivery_time_weeks</th>\n",
       "      <th>delivery_time_cat</th>\n",
       "      <th>months_since_reg</th>\n",
       "      <th>age</th>\n",
       "      <th>age_cat</th>\n",
       "      <th>user_purchase_cnt</th>\n",
       "      <th>user_purchase_amt</th>\n",
       "      <th>brand_purchase_cnt</th>\n",
       "      <th>item_purchase_cnt</th>\n",
       "      <th>user_purchase_avg</th>\n",
       "    </tr>\n",
       "  </thead>\n",
       "  <tbody>\n",
       "    <tr>\n",
       "      <td>0</td>\n",
       "      <td>643</td>\n",
       "      <td>38</td>\n",
       "      <td>navy</td>\n",
       "      <td>30</td>\n",
       "      <td>49.90</td>\n",
       "      <td>30822</td>\n",
       "      <td>Mrs</td>\n",
       "      <td>Saxony</td>\n",
       "      <td>False</td>\n",
       "      <td>1.0</td>\n",
       "      <td>1</td>\n",
       "      <td>3.0</td>\n",
       "      <td>47.0</td>\n",
       "      <td>Gen X</td>\n",
       "      <td>3.0</td>\n",
       "      <td>86.25</td>\n",
       "      <td>1272.0</td>\n",
       "      <td>22.0</td>\n",
       "      <td>28.750000</td>\n",
       "    </tr>\n",
       "    <tr>\n",
       "      <td>1</td>\n",
       "      <td>337</td>\n",
       "      <td>152</td>\n",
       "      <td>grey</td>\n",
       "      <td>30</td>\n",
       "      <td>19.95</td>\n",
       "      <td>30822</td>\n",
       "      <td>Mrs</td>\n",
       "      <td>Saxony</td>\n",
       "      <td>False</td>\n",
       "      <td>1.0</td>\n",
       "      <td>IsMissing</td>\n",
       "      <td>3.0</td>\n",
       "      <td>47.0</td>\n",
       "      <td>Gen X</td>\n",
       "      <td>3.0</td>\n",
       "      <td>86.25</td>\n",
       "      <td>1272.0</td>\n",
       "      <td>52.0</td>\n",
       "      <td>28.750000</td>\n",
       "    </tr>\n",
       "    <tr>\n",
       "      <td>2</td>\n",
       "      <td>270</td>\n",
       "      <td>xxl</td>\n",
       "      <td>grey</td>\n",
       "      <td>49</td>\n",
       "      <td>79.90</td>\n",
       "      <td>30823</td>\n",
       "      <td>Mrs</td>\n",
       "      <td>Baden-Wuerttemberg</td>\n",
       "      <td>True</td>\n",
       "      <td>1.0</td>\n",
       "      <td>1</td>\n",
       "      <td>18.0</td>\n",
       "      <td>46.0</td>\n",
       "      <td>Gen X</td>\n",
       "      <td>17.0</td>\n",
       "      <td>703.30</td>\n",
       "      <td>1733.0</td>\n",
       "      <td>81.0</td>\n",
       "      <td>41.370588</td>\n",
       "    </tr>\n",
       "    <tr>\n",
       "      <td>3</td>\n",
       "      <td>142</td>\n",
       "      <td>xxl</td>\n",
       "      <td>grey</td>\n",
       "      <td>49</td>\n",
       "      <td>99.90</td>\n",
       "      <td>30823</td>\n",
       "      <td>Mrs</td>\n",
       "      <td>Baden-Wuerttemberg</td>\n",
       "      <td>False</td>\n",
       "      <td>1.0</td>\n",
       "      <td>1</td>\n",
       "      <td>18.0</td>\n",
       "      <td>46.0</td>\n",
       "      <td>Gen X</td>\n",
       "      <td>17.0</td>\n",
       "      <td>703.30</td>\n",
       "      <td>1733.0</td>\n",
       "      <td>228.0</td>\n",
       "      <td>41.370588</td>\n",
       "    </tr>\n",
       "    <tr>\n",
       "      <td>4</td>\n",
       "      <td>561</td>\n",
       "      <td>xxl</td>\n",
       "      <td>grey</td>\n",
       "      <td>3</td>\n",
       "      <td>14.90</td>\n",
       "      <td>30823</td>\n",
       "      <td>Mrs</td>\n",
       "      <td>Baden-Wuerttemberg</td>\n",
       "      <td>True</td>\n",
       "      <td>1.0</td>\n",
       "      <td>1</td>\n",
       "      <td>18.0</td>\n",
       "      <td>46.0</td>\n",
       "      <td>Gen X</td>\n",
       "      <td>17.0</td>\n",
       "      <td>703.30</td>\n",
       "      <td>11389.0</td>\n",
       "      <td>137.0</td>\n",
       "      <td>41.370588</td>\n",
       "    </tr>\n",
       "  </tbody>\n",
       "</table>\n",
       "</div>"
      ],
      "text/plain": [
       "   item_id item_size item_color  brand_id  item_price  user_id user_title  \\\n",
       "0      643        38       navy        30       49.90    30822        Mrs   \n",
       "1      337       152       grey        30       19.95    30822        Mrs   \n",
       "2      270       xxl       grey        49       79.90    30823        Mrs   \n",
       "3      142       xxl       grey        49       99.90    30823        Mrs   \n",
       "4      561       xxl       grey         3       14.90    30823        Mrs   \n",
       "\n",
       "           user_state  returned  delivery_time_weeks delivery_time_cat  \\\n",
       "0              Saxony     False                  1.0                 1   \n",
       "1              Saxony     False                  1.0         IsMissing   \n",
       "2  Baden-Wuerttemberg      True                  1.0                 1   \n",
       "3  Baden-Wuerttemberg     False                  1.0                 1   \n",
       "4  Baden-Wuerttemberg      True                  1.0                 1   \n",
       "\n",
       "   months_since_reg   age age_cat  user_purchase_cnt  user_purchase_amt  \\\n",
       "0               3.0  47.0   Gen X                3.0              86.25   \n",
       "1               3.0  47.0   Gen X                3.0              86.25   \n",
       "2              18.0  46.0   Gen X               17.0             703.30   \n",
       "3              18.0  46.0   Gen X               17.0             703.30   \n",
       "4              18.0  46.0   Gen X               17.0             703.30   \n",
       "\n",
       "   brand_purchase_cnt  item_purchase_cnt  user_purchase_avg  \n",
       "0              1272.0               22.0          28.750000  \n",
       "1              1272.0               52.0          28.750000  \n",
       "2              1733.0               81.0          41.370588  \n",
       "3              1733.0              228.0          41.370588  \n",
       "4             11389.0              137.0          41.370588  "
      ]
     },
     "execution_count": 51,
     "metadata": {},
     "output_type": "execute_result"
    }
   ],
   "source": [
    "df_known.head(n=5)"
   ]
  },
  {
   "cell_type": "code",
   "execution_count": 52,
   "metadata": {},
   "outputs": [
    {
     "data": {
      "text/html": [
       "<div>\n",
       "<style scoped>\n",
       "    .dataframe tbody tr th:only-of-type {\n",
       "        vertical-align: middle;\n",
       "    }\n",
       "\n",
       "    .dataframe tbody tr th {\n",
       "        vertical-align: top;\n",
       "    }\n",
       "\n",
       "    .dataframe thead th {\n",
       "        text-align: right;\n",
       "    }\n",
       "</style>\n",
       "<table border=\"1\" class=\"dataframe\">\n",
       "  <thead>\n",
       "    <tr style=\"text-align: right;\">\n",
       "      <th></th>\n",
       "      <th>item_id</th>\n",
       "      <th>item_size</th>\n",
       "      <th>item_color</th>\n",
       "      <th>brand_id</th>\n",
       "      <th>item_price</th>\n",
       "      <th>user_id</th>\n",
       "      <th>user_title</th>\n",
       "      <th>user_state</th>\n",
       "      <th>returned</th>\n",
       "      <th>delivery_time_weeks</th>\n",
       "      <th>delivery_time_cat</th>\n",
       "      <th>months_since_reg</th>\n",
       "      <th>age</th>\n",
       "      <th>age_cat</th>\n",
       "      <th>user_purchase_cnt</th>\n",
       "      <th>user_purchase_amt</th>\n",
       "      <th>brand_purchase_cnt</th>\n",
       "      <th>item_purchase_cnt</th>\n",
       "      <th>user_purchase_avg</th>\n",
       "    </tr>\n",
       "  </thead>\n",
       "  <tbody>\n",
       "    <tr>\n",
       "      <td>count</td>\n",
       "      <td>100000.000000</td>\n",
       "      <td>100000</td>\n",
       "      <td>100000</td>\n",
       "      <td>100000.000000</td>\n",
       "      <td>100000.000000</td>\n",
       "      <td>100000.000000</td>\n",
       "      <td>100000</td>\n",
       "      <td>100000</td>\n",
       "      <td>100000</td>\n",
       "      <td>100000.000000</td>\n",
       "      <td>100000.0</td>\n",
       "      <td>100000.00000</td>\n",
       "      <td>100000.000000</td>\n",
       "      <td>100000</td>\n",
       "      <td>100000.000000</td>\n",
       "      <td>100000.000000</td>\n",
       "      <td>100000.000000</td>\n",
       "      <td>100000.000000</td>\n",
       "      <td>100000.000000</td>\n",
       "    </tr>\n",
       "    <tr>\n",
       "      <td>unique</td>\n",
       "      <td>NaN</td>\n",
       "      <td>102</td>\n",
       "      <td>75</td>\n",
       "      <td>NaN</td>\n",
       "      <td>NaN</td>\n",
       "      <td>NaN</td>\n",
       "      <td>5</td>\n",
       "      <td>16</td>\n",
       "      <td>2</td>\n",
       "      <td>NaN</td>\n",
       "      <td>7.0</td>\n",
       "      <td>NaN</td>\n",
       "      <td>NaN</td>\n",
       "      <td>5</td>\n",
       "      <td>NaN</td>\n",
       "      <td>NaN</td>\n",
       "      <td>NaN</td>\n",
       "      <td>NaN</td>\n",
       "      <td>NaN</td>\n",
       "    </tr>\n",
       "    <tr>\n",
       "      <td>top</td>\n",
       "      <td>NaN</td>\n",
       "      <td>l</td>\n",
       "      <td>black</td>\n",
       "      <td>NaN</td>\n",
       "      <td>NaN</td>\n",
       "      <td>NaN</td>\n",
       "      <td>Mrs</td>\n",
       "      <td>North Rhine-Westphalia</td>\n",
       "      <td>False</td>\n",
       "      <td>NaN</td>\n",
       "      <td>0.0</td>\n",
       "      <td>NaN</td>\n",
       "      <td>NaN</td>\n",
       "      <td>Gen X</td>\n",
       "      <td>NaN</td>\n",
       "      <td>NaN</td>\n",
       "      <td>NaN</td>\n",
       "      <td>NaN</td>\n",
       "      <td>NaN</td>\n",
       "    </tr>\n",
       "    <tr>\n",
       "      <td>freq</td>\n",
       "      <td>NaN</td>\n",
       "      <td>12347</td>\n",
       "      <td>18640</td>\n",
       "      <td>NaN</td>\n",
       "      <td>NaN</td>\n",
       "      <td>NaN</td>\n",
       "      <td>95429</td>\n",
       "      <td>22825</td>\n",
       "      <td>54182</td>\n",
       "      <td>NaN</td>\n",
       "      <td>52905.0</td>\n",
       "      <td>NaN</td>\n",
       "      <td>NaN</td>\n",
       "      <td>56901</td>\n",
       "      <td>NaN</td>\n",
       "      <td>NaN</td>\n",
       "      <td>NaN</td>\n",
       "      <td>NaN</td>\n",
       "      <td>NaN</td>\n",
       "    </tr>\n",
       "    <tr>\n",
       "      <td>mean</td>\n",
       "      <td>923.781820</td>\n",
       "      <td>NaN</td>\n",
       "      <td>NaN</td>\n",
       "      <td>30.149020</td>\n",
       "      <td>65.064695</td>\n",
       "      <td>27169.073960</td>\n",
       "      <td>NaN</td>\n",
       "      <td>NaN</td>\n",
       "      <td>NaN</td>\n",
       "      <td>0.969540</td>\n",
       "      <td>NaN</td>\n",
       "      <td>10.55528</td>\n",
       "      <td>52.438090</td>\n",
       "      <td>NaN</td>\n",
       "      <td>12.209380</td>\n",
       "      <td>729.864517</td>\n",
       "      <td>3527.967000</td>\n",
       "      <td>189.169700</td>\n",
       "      <td>65.064695</td>\n",
       "    </tr>\n",
       "    <tr>\n",
       "      <td>std</td>\n",
       "      <td>702.568822</td>\n",
       "      <td>NaN</td>\n",
       "      <td>NaN</td>\n",
       "      <td>28.180191</td>\n",
       "      <td>47.991546</td>\n",
       "      <td>14053.417669</td>\n",
       "      <td>NaN</td>\n",
       "      <td>NaN</td>\n",
       "      <td>NaN</td>\n",
       "      <td>1.891446</td>\n",
       "      <td>NaN</td>\n",
       "      <td>7.45615</td>\n",
       "      <td>10.828495</td>\n",
       "      <td>NaN</td>\n",
       "      <td>14.597324</td>\n",
       "      <td>823.070744</td>\n",
       "      <td>3579.960827</td>\n",
       "      <td>199.000892</td>\n",
       "      <td>34.115726</td>\n",
       "    </tr>\n",
       "    <tr>\n",
       "      <td>min</td>\n",
       "      <td>1.000000</td>\n",
       "      <td>NaN</td>\n",
       "      <td>NaN</td>\n",
       "      <td>1.000000</td>\n",
       "      <td>0.000000</td>\n",
       "      <td>9.000000</td>\n",
       "      <td>NaN</td>\n",
       "      <td>NaN</td>\n",
       "      <td>NaN</td>\n",
       "      <td>0.000000</td>\n",
       "      <td>NaN</td>\n",
       "      <td>0.00000</td>\n",
       "      <td>5.000000</td>\n",
       "      <td>NaN</td>\n",
       "      <td>1.000000</td>\n",
       "      <td>0.000000</td>\n",
       "      <td>1.000000</td>\n",
       "      <td>1.000000</td>\n",
       "      <td>0.000000</td>\n",
       "    </tr>\n",
       "    <tr>\n",
       "      <td>25%</td>\n",
       "      <td>214.000000</td>\n",
       "      <td>NaN</td>\n",
       "      <td>NaN</td>\n",
       "      <td>5.000000</td>\n",
       "      <td>29.900000</td>\n",
       "      <td>14937.000000</td>\n",
       "      <td>NaN</td>\n",
       "      <td>NaN</td>\n",
       "      <td>NaN</td>\n",
       "      <td>0.000000</td>\n",
       "      <td>NaN</td>\n",
       "      <td>3.00000</td>\n",
       "      <td>47.000000</td>\n",
       "      <td>NaN</td>\n",
       "      <td>4.000000</td>\n",
       "      <td>239.600000</td>\n",
       "      <td>952.000000</td>\n",
       "      <td>60.000000</td>\n",
       "      <td>42.207692</td>\n",
       "    </tr>\n",
       "    <tr>\n",
       "      <td>50%</td>\n",
       "      <td>812.000000</td>\n",
       "      <td>NaN</td>\n",
       "      <td>NaN</td>\n",
       "      <td>25.000000</td>\n",
       "      <td>49.900000</td>\n",
       "      <td>31189.000000</td>\n",
       "      <td>NaN</td>\n",
       "      <td>NaN</td>\n",
       "      <td>NaN</td>\n",
       "      <td>0.000000</td>\n",
       "      <td>NaN</td>\n",
       "      <td>10.00000</td>\n",
       "      <td>52.000000</td>\n",
       "      <td>NaN</td>\n",
       "      <td>8.000000</td>\n",
       "      <td>474.600000</td>\n",
       "      <td>1829.000000</td>\n",
       "      <td>128.000000</td>\n",
       "      <td>56.983333</td>\n",
       "    </tr>\n",
       "    <tr>\n",
       "      <td>75%</td>\n",
       "      <td>1581.000000</td>\n",
       "      <td>NaN</td>\n",
       "      <td>NaN</td>\n",
       "      <td>44.000000</td>\n",
       "      <td>79.900000</td>\n",
       "      <td>38917.250000</td>\n",
       "      <td>NaN</td>\n",
       "      <td>NaN</td>\n",
       "      <td>NaN</td>\n",
       "      <td>1.000000</td>\n",
       "      <td>NaN</td>\n",
       "      <td>19.00000</td>\n",
       "      <td>57.000000</td>\n",
       "      <td>NaN</td>\n",
       "      <td>15.000000</td>\n",
       "      <td>888.200000</td>\n",
       "      <td>4716.000000</td>\n",
       "      <td>232.000000</td>\n",
       "      <td>78.614286</td>\n",
       "    </tr>\n",
       "    <tr>\n",
       "      <td>max</td>\n",
       "      <td>2241.000000</td>\n",
       "      <td>NaN</td>\n",
       "      <td>NaN</td>\n",
       "      <td>138.000000</td>\n",
       "      <td>999.000000</td>\n",
       "      <td>48241.000000</td>\n",
       "      <td>NaN</td>\n",
       "      <td>NaN</td>\n",
       "      <td>NaN</td>\n",
       "      <td>25.000000</td>\n",
       "      <td>NaN</td>\n",
       "      <td>19.00000</td>\n",
       "      <td>116.000000</td>\n",
       "      <td>NaN</td>\n",
       "      <td>175.000000</td>\n",
       "      <td>9309.150000</td>\n",
       "      <td>11389.000000</td>\n",
       "      <td>1046.000000</td>\n",
       "      <td>999.000000</td>\n",
       "    </tr>\n",
       "  </tbody>\n",
       "</table>\n",
       "</div>"
      ],
      "text/plain": [
       "              item_id item_size item_color       brand_id     item_price  \\\n",
       "count   100000.000000    100000     100000  100000.000000  100000.000000   \n",
       "unique            NaN       102         75            NaN            NaN   \n",
       "top               NaN         l      black            NaN            NaN   \n",
       "freq              NaN     12347      18640            NaN            NaN   \n",
       "mean       923.781820       NaN        NaN      30.149020      65.064695   \n",
       "std        702.568822       NaN        NaN      28.180191      47.991546   \n",
       "min          1.000000       NaN        NaN       1.000000       0.000000   \n",
       "25%        214.000000       NaN        NaN       5.000000      29.900000   \n",
       "50%        812.000000       NaN        NaN      25.000000      49.900000   \n",
       "75%       1581.000000       NaN        NaN      44.000000      79.900000   \n",
       "max       2241.000000       NaN        NaN     138.000000     999.000000   \n",
       "\n",
       "              user_id user_title              user_state returned  \\\n",
       "count   100000.000000     100000                  100000   100000   \n",
       "unique            NaN          5                      16        2   \n",
       "top               NaN        Mrs  North Rhine-Westphalia    False   \n",
       "freq              NaN      95429                   22825    54182   \n",
       "mean     27169.073960        NaN                     NaN      NaN   \n",
       "std      14053.417669        NaN                     NaN      NaN   \n",
       "min          9.000000        NaN                     NaN      NaN   \n",
       "25%      14937.000000        NaN                     NaN      NaN   \n",
       "50%      31189.000000        NaN                     NaN      NaN   \n",
       "75%      38917.250000        NaN                     NaN      NaN   \n",
       "max      48241.000000        NaN                     NaN      NaN   \n",
       "\n",
       "        delivery_time_weeks  delivery_time_cat  months_since_reg  \\\n",
       "count         100000.000000           100000.0      100000.00000   \n",
       "unique                  NaN                7.0               NaN   \n",
       "top                     NaN                0.0               NaN   \n",
       "freq                    NaN            52905.0               NaN   \n",
       "mean               0.969540                NaN          10.55528   \n",
       "std                1.891446                NaN           7.45615   \n",
       "min                0.000000                NaN           0.00000   \n",
       "25%                0.000000                NaN           3.00000   \n",
       "50%                0.000000                NaN          10.00000   \n",
       "75%                1.000000                NaN          19.00000   \n",
       "max               25.000000                NaN          19.00000   \n",
       "\n",
       "                  age age_cat  user_purchase_cnt  user_purchase_amt  \\\n",
       "count   100000.000000  100000      100000.000000      100000.000000   \n",
       "unique            NaN       5                NaN                NaN   \n",
       "top               NaN   Gen X                NaN                NaN   \n",
       "freq              NaN   56901                NaN                NaN   \n",
       "mean        52.438090     NaN          12.209380         729.864517   \n",
       "std         10.828495     NaN          14.597324         823.070744   \n",
       "min          5.000000     NaN           1.000000           0.000000   \n",
       "25%         47.000000     NaN           4.000000         239.600000   \n",
       "50%         52.000000     NaN           8.000000         474.600000   \n",
       "75%         57.000000     NaN          15.000000         888.200000   \n",
       "max        116.000000     NaN         175.000000        9309.150000   \n",
       "\n",
       "        brand_purchase_cnt  item_purchase_cnt  user_purchase_avg  \n",
       "count        100000.000000      100000.000000      100000.000000  \n",
       "unique                 NaN                NaN                NaN  \n",
       "top                    NaN                NaN                NaN  \n",
       "freq                   NaN                NaN                NaN  \n",
       "mean           3527.967000         189.169700          65.064695  \n",
       "std            3579.960827         199.000892          34.115726  \n",
       "min               1.000000           1.000000           0.000000  \n",
       "25%             952.000000          60.000000          42.207692  \n",
       "50%            1829.000000         128.000000          56.983333  \n",
       "75%            4716.000000         232.000000          78.614286  \n",
       "max           11389.000000        1046.000000         999.000000  "
      ]
     },
     "execution_count": 52,
     "metadata": {},
     "output_type": "execute_result"
    }
   ],
   "source": [
    "df_known.describe(include=\"all\")"
   ]
  },
  {
   "cell_type": "markdown",
   "metadata": {},
   "source": [
    "### Univariate Analysis"
   ]
  },
  {
   "cell_type": "code",
   "execution_count": 53,
   "metadata": {},
   "outputs": [
    {
     "name": "stdout",
     "output_type": "stream",
     "text": [
      "The mean values for returned and non-returned items: \n",
      "\n",
      "          delivery_time_weeks  months_since_reg        age\n",
      "returned                                                  \n",
      "False                0.995884         10.377487  52.722694\n",
      "True                 0.938387         10.765529  52.101532\n",
      "          user_purchase_cnt  user_purchase_amt  brand_purchase_cnt  \\\n",
      "returned                                                             \n",
      "False             11.791960         669.412858         3672.111568   \n",
      "True              12.702999         801.351527         3357.509079   \n",
      "\n",
      "          item_purchase_cnt  user_purchase_avg  \n",
      "returned                                        \n",
      "False            194.523107          61.542937  \n",
      "True             182.839037          69.229345  \n"
     ]
    }
   ],
   "source": [
    "print(\"The mean values for returned and non-returned items: \\n\")\n",
    "print(df_known.groupby(\"returned\")[[\"delivery_time_weeks\",\"months_since_reg\",\"age\"]].mean())\n",
    "print(df_known.groupby(\"returned\")[[\"user_purchase_cnt\",\"user_purchase_amt\",\"brand_purchase_cnt\",\"item_purchase_cnt\",\"user_purchase_avg\"]].mean())"
   ]
  },
  {
   "cell_type": "markdown",
   "metadata": {},
   "source": [
    "The univariate analysis of the numerical features show that there are significant differences between returned and nonreturned items in terms of these variables. To better illustrate, one can see that while an item that is not returned is purchased 194.52 times on average, an item that is returned is purchased only 182.83 times on average. Similar differences are observed for the user_purchase_avg, brand_purchase_cnt, user_purchase_amt columns. Although for the other columns this difference might not be seemed as too significant, further analysis of these variables should be taken into account."
   ]
  },
  {
   "cell_type": "code",
   "execution_count": 54,
   "metadata": {},
   "outputs": [
    {
     "name": "stdout",
     "output_type": "stream",
     "text": [
      "The unique values and their value counts for each categorical variable: \n",
      "\n",
      "l       12347\n",
      "xl      10979\n",
      "m       10190\n",
      "xxl      8966\n",
      "40       7693\n",
      "        ...  \n",
      "84          1\n",
      "105         1\n",
      "3634        1\n",
      "4034        1\n",
      "49          1\n",
      "Name: item_size, Length: 102, dtype: int64\n",
      "\n",
      "black          18640\n",
      "blue           10851\n",
      "brown           8747\n",
      "grey            8708\n",
      "red             7264\n",
      "               ...  \n",
      "copper coin        7\n",
      "amethyst           5\n",
      "avocado            4\n",
      "creme              4\n",
      "opal               2\n",
      "Name: item_color, Length: 75, dtype: int64\n",
      "\n",
      "Mrs             95429\n",
      "Mr               3915\n",
      "Family            414\n",
      "Company           128\n",
      "not reported      114\n",
      "Name: user_title, dtype: int64\n",
      "\n",
      "North Rhine-Westphalia           22825\n",
      "Lower Saxony                     15149\n",
      "Bavaria                          13672\n",
      "Baden-Wuerttemberg               11981\n",
      "Hesse                             7586\n",
      "Schleswig-Holstein                5531\n",
      "Rhineland-Palatinate              4784\n",
      "Berlin                            4093\n",
      "Saxony                            3147\n",
      "Hamburg                           2535\n",
      "Brandenburg                       2231\n",
      "Mecklenburg-Western Pomerania     1640\n",
      "Thuringia                         1550\n",
      "Bremen                            1258\n",
      "Saxony-Anhalt                     1122\n",
      "Saarland                           896\n",
      "Name: user_state, dtype: int64\n",
      "\n",
      "0.0           52905\n",
      "1.0           22871\n",
      "IsMissing      9318\n",
      "5+             5089\n",
      "3-4            4692\n",
      "2.0            4053\n",
      "IsNegative     1072\n",
      "Name: delivery_time_cat, dtype: int64\n",
      "\n",
      "Gen X           56901\n",
      "Baby-Boomers    25736\n",
      "Missing          8725\n",
      "Gen Y            8488\n",
      "Gen Z             150\n",
      "Name: age_cat, dtype: int64\n"
     ]
    }
   ],
   "source": [
    "print(\"The unique values and their value counts for each categorical variable: \\n\")\n",
    "print(df_known.item_size.value_counts(),df_known.item_color.value_counts(),df_known.user_title.value_counts(),\n",
    "      df_known.user_state.value_counts(),df_known.delivery_time_cat.value_counts(),df_known.age_cat.value_counts(), sep=\"\\n\\n\")"
   ]
  },
  {
   "cell_type": "markdown",
   "metadata": {},
   "source": [
    "In these tables, one can see the unique values and their counts for each categorical feature. While features such as item_size and item_color have a lot of distinct levels, other variables such as age_cat, delivery_time_cat, user_state and user_title have lower number of distinct levels. This will mainly shape our approach to these variables in the future."
   ]
  },
  {
   "cell_type": "code",
   "execution_count": 55,
   "metadata": {},
   "outputs": [
    {
     "data": {
      "image/png": "[encoded data removed]",
      "text/plain": [
       "<Figure size 432x288 with 1 Axes>"
      ]
     },
     "metadata": {
      "needs_background": "light"
     },
     "output_type": "display_data"
    },
    {
     "data": {
      "image/png": "[encoded data removed]",
      "text/plain": [
       "<Figure size 432x288 with 1 Axes>"
      ]
     },
     "metadata": {
      "needs_background": "light"
     },
     "output_type": "display_data"
    },
    {
     "data": {
      "image/png": "[encoded data removed]",
      "text/plain": [
       "<Figure size 432x288 with 1 Axes>"
      ]
     },
     "metadata": {
      "needs_background": "light"
     },
     "output_type": "display_data"
    },
    {
     "data": {
      "image/png": "[encoded data removed]",
      "text/plain": [
       "<Figure size 432x288 with 1 Axes>"
      ]
     },
     "metadata": {
      "needs_background": "light"
     },
     "output_type": "display_data"
    },
    {
     "data": {
      "image/png": "[encoded data removed]",
      "text/plain": [
       "<Figure size 432x288 with 1 Axes>"
      ]
     },
     "metadata": {
      "needs_background": "light"
     },
     "output_type": "display_data"
    },
    {
     "data": {
      "image/png": "[encoded data removed]",
      "text/plain": [
       "<Figure size 432x288 with 1 Axes>"
      ]
     },
     "metadata": {
      "needs_background": "light"
     },
     "output_type": "display_data"
    },
    {
     "data": {
      "image/png": "[encoded data removed]",
      "text/plain": [
       "<Figure size 432x288 with 1 Axes>"
      ]
     },
     "metadata": {
      "needs_background": "light"
     },
     "output_type": "display_data"
    }
   ],
   "source": [
    "#Creating countplots for each categorical and boolean variable\n",
    "for i, col in enumerate(df_known.select_dtypes(include=['category',\"bool\"]).columns):\n",
    "    plt.figure(i)\n",
    "    sns.countplot(x=col, data=df_known)"
   ]
  },
  {
   "cell_type": "markdown",
   "metadata": {},
   "source": [
    "In these countplots one can basically realize that the number of purchases between different category levels vary significantly. The labeled data is fairly balanced in terms of returned and non-returned items. The item_size and item_color features have so many different levels as mentioned earlier."
   ]
  },
  {
   "cell_type": "code",
   "execution_count": 56,
   "metadata": {},
   "outputs": [
    {
     "data": {
      "image/png": "[encoded data removed]",
      "text/plain": [
       "<Figure size 1080x720 with 9 Axes>"
      ]
     },
     "metadata": {
      "needs_background": "light"
     },
     "output_type": "display_data"
    }
   ],
   "source": [
    "#Creating histograms for each numeric variable\n",
    "df_known.select_dtypes(include='float64').hist(bins=20,figsize=(15, 10));"
   ]
  },
  {
   "cell_type": "markdown",
   "metadata": {},
   "source": [
    "Most of the data except the age seems to be highly skewed. The data could be normalized or even standardized by using libraries such as scikit-learn. However, since tree based models(XGB, RFC) are robust to the distrubition of the data this step is unnecessary. Furthermore, the interpretability of the variables are seemed to be more important since standardizing does not effect the outcome much. Therefore, the data will not be standardized."
   ]
  },
  {
   "cell_type": "code",
   "execution_count": 57,
   "metadata": {},
   "outputs": [
    {
     "data": {
      "image/png": "[encoded data removed]",
      "text/plain": [
       "<Figure size 1152x360 with 9 Axes>"
      ]
     },
     "metadata": {
      "needs_background": "light"
     },
     "output_type": "display_data"
    }
   ],
   "source": [
    "#Creating boxplots for each numeric variable\n",
    "df_known.select_dtypes(include=\"float64\").plot(kind = 'box', subplots=True,figsize=(16, 5));"
   ]
  },
  {
   "cell_type": "markdown",
   "metadata": {},
   "source": [
    "As one can see here, variables such as delivery_time_weeks and age seem to have a large portion of outliers. However, these were already handled by discretization of the variables. Since they also had a fairly big amount of missing values handling these two variables by discretizing actually makes sense. For the other variables, the tree based algorithms are usually robust to outliers. Furthermore, the data we have is actually valuable and transformations such as Tukey's would lead them to be repressed to a certain number which might lead to a worse outcome. Therefore, these values will not be handled."
   ]
  },
  {
   "cell_type": "markdown",
   "metadata": {},
   "source": [
    "### Multivariate Analysis"
   ]
  },
  {
   "cell_type": "code",
   "execution_count": 58,
   "metadata": {},
   "outputs": [
    {
     "data": {
      "text/plain": [
       "(13.0, 0.0)"
      ]
     },
     "execution_count": 58,
     "metadata": {},
     "output_type": "execute_result"
    },
    {
     "data": {
      "image/png": "[encoded data removed]",
      "text/plain": [
       "<Figure size 1296x1080 with 2 Axes>"
      ]
     },
     "metadata": {
      "needs_background": "light"
     },
     "output_type": "display_data"
    }
   ],
   "source": [
    "#Correlation of numerical variables by heatmap\n",
    "corr= df_known.corr()\n",
    "f,ax = plt.subplots(figsize=(18, 15))\n",
    "sns.heatmap(corr ,annot=True,linewidth=.5,fmt='1f');\n",
    "#The top and bottom of the y axis is calibrated so that table seems complete.(A problem about the matplotlib version is handled)\n",
    "bottom, top = ax.get_ylim()\n",
    "ax.set_ylim(bottom + 0.5, top - 0.5)"
   ]
  },
  {
   "cell_type": "code",
   "execution_count": 59,
   "metadata": {},
   "outputs": [
    {
     "data": {
      "text/plain": [
       "(13.0, 0.0)"
      ]
     },
     "execution_count": 59,
     "metadata": {},
     "output_type": "execute_result"
    },
    {
     "data": {
      "image/png": "[encoded data removed]",
      "text/plain": [
       "<Figure size 1296x1080 with 2 Axes>"
      ]
     },
     "metadata": {
      "needs_background": "light"
     },
     "output_type": "display_data"
    }
   ],
   "source": [
    "#Correlation of numerical variables by heatmap(only values >0.25 & <-0.25 are taken into account this time.)\n",
    "f,ax = plt.subplots(figsize=(18, 15))\n",
    "sns.heatmap(corr[(corr >= 0.25) | (corr <= -0.25)],\n",
    "            annot=True);\n",
    "#The top and bottom of the y axis is calibrated so that table seems complete.(A problem about the matplotlib version is handled)\n",
    "bottom, top = ax.get_ylim()\n",
    "ax.set_ylim(bottom + 0.5, top - 0.5)"
   ]
  },
  {
   "cell_type": "markdown",
   "metadata": {},
   "source": [
    "Since the first correlation map is harder to interpret, one may take a look at the second map where the variables with correlation higher than 0.25 or lower than -0.25 are only seen. This map shows that some variables are highly correlated with others. One example for these might be user_purchase_cnt and user_purchase_amt which is expected. The more purchase a user makes, the more amount in terms of money s/he will have purchased. However the models that will be used in this project that are namely XGB and RFC are fairly robust to multicollinearety. Therefore the variables will be kept."
   ]
  },
  {
   "cell_type": "code",
   "execution_count": 60,
   "metadata": {},
   "outputs": [
    {
     "data": {
      "text/plain": [
       "<matplotlib.axes._subplots.AxesSubplot at 0x24318a269c8>"
      ]
     },
     "execution_count": 60,
     "metadata": {},
     "output_type": "execute_result"
    },
    {
     "data": {
      "image/png": "[encoded data removed]",
      "text/plain": [
       "<Figure size 432x288 with 1 Axes>"
      ]
     },
     "metadata": {
      "needs_background": "light"
     },
     "output_type": "display_data"
    },
    {
     "data": {
      "image/png": "[encoded data removed]",
      "text/plain": [
       "<Figure size 432x288 with 1 Axes>"
      ]
     },
     "metadata": {
      "needs_background": "light"
     },
     "output_type": "display_data"
    },
    {
     "data": {
      "image/png": "[encoded data removed]",
      "text/plain": [
       "<Figure size 432x288 with 1 Axes>"
      ]
     },
     "metadata": {
      "needs_background": "light"
     },
     "output_type": "display_data"
    }
   ],
   "source": [
    "#Frequency plots for categorical variables\n",
    "user_title = df_known.groupby(['returned', 'user_title']).size().reset_index().pivot(columns='returned', index='user_title', values=0)\n",
    "user_title.div(user_title.sum(1).astype(float), axis=0).plot(kind=\"bar\", stacked=True)\n",
    "\n",
    "age_cat = df_known.groupby(['returned', 'age_cat']).size().reset_index().pivot(columns='returned', index='age_cat', values=0)\n",
    "age_cat.div(age_cat.sum(1).astype(float), axis=0).plot(kind=\"bar\", stacked=True)\n",
    "\n",
    "delivery_time_cat = df_known.groupby(['returned', 'delivery_time_cat']).size().reset_index().pivot(columns='returned', index=\"delivery_time_cat\", values=0)\n",
    "delivery_time_cat.div(delivery_time_cat.sum(1).astype(float), axis=0).plot(kind=\"bar\", stacked=True)"
   ]
  },
  {
   "cell_type": "markdown",
   "metadata": {},
   "source": [
    "The frequency plots for the categorical features that have low number of category levels show that the returned proportions seems to differ between categories of the categorical variables. Therefore discretizing seems to work well for this particular problem especially for the delivery_time and age."
   ]
  },
  {
   "cell_type": "markdown",
   "metadata": {},
   "source": [
    "## Encoding Categorical Features and Splitting the Data"
   ]
  },
  {
   "cell_type": "markdown",
   "metadata": {},
   "source": [
    "Before creating the models one of the common steps is encoding the categorical features. For this part, two seperate approaches are adapted according to the feature characteristics. The variables that have low number of categories are encoded via one hot encoding method. The variables with higher number of categories on the other hand such as item_size and item_color are encoded via weight of evidence method. The weight of evidence encoding becomes more preferable when the large number of categories is high in order not to create a dataframe with a greater number of columns that would yield a poorer performance during the modeling part. For the user_state column both WoE and OHEC approaches are adopted seperately and OHEC yielded a better result."
   ]
  },
  {
   "cell_type": "code",
   "execution_count": 61,
   "metadata": {},
   "outputs": [
    {
     "name": "stdout",
     "output_type": "stream",
     "text": [
      "[INFO] creating woe binning ...\n",
      ">>> There are 2 variables have too many unique non-numberic values, which might cause the binning process slow. Please double check the following variables: \n",
      "item_color, item_size\n",
      ">>> Continue the binning process?\n",
      "1: yes \n",
      "2: no\n",
      "Selection: 1\n",
      "Binning on 100000 rows and 3 columns in 00:00:16\n"
     ]
    }
   ],
   "source": [
    "#Weight of evidence for item color and item size\n",
    "bins = sc.woebin(df_known, y=\"returned\", x=['item_color', 'item_size'])"
   ]
  },
  {
   "cell_type": "code",
   "execution_count": 62,
   "metadata": {},
   "outputs": [
    {
     "name": "stdout",
     "output_type": "stream",
     "text": [
      "[INFO] converting into woe values ...\n"
     ]
    }
   ],
   "source": [
    "#Replacing the columns of item color and item size with the encoded variables\n",
    "df_known_new =sc.woebin_ply(df_known, bins)"
   ]
  },
  {
   "cell_type": "markdown",
   "metadata": {},
   "source": [
    "Normally, it is a bad practice to use weight of evidence encoding before splitting the data into train and test sets since the test set should not know the labels before encoding. However, for this particular case the model encoded with all of the known data showed a good performance on Kaggle. Since our main aim for now is to select a good model and tune it, approaching the problem in this way would not be harmful. Instead of using two seperate encoding for validation and test sets, this might be even be a better practice, given the high number of categories for item size and item color."
   ]
  },
  {
   "cell_type": "code",
   "execution_count": 63,
   "metadata": {},
   "outputs": [],
   "source": [
    "#Replacing the colomns of delivery time user title age and user state by their dummies\n",
    "df_known=pd.get_dummies(df_known_new, columns = ['delivery_time_cat', 'user_title',\"age_cat\",\"user_state\"], drop_first=True)"
   ]
  },
  {
   "cell_type": "code",
   "execution_count": 64,
   "metadata": {},
   "outputs": [
    {
     "data": {
      "text/html": [
       "<div>\n",
       "<style scoped>\n",
       "    .dataframe tbody tr th:only-of-type {\n",
       "        vertical-align: middle;\n",
       "    }\n",
       "\n",
       "    .dataframe tbody tr th {\n",
       "        vertical-align: top;\n",
       "    }\n",
       "\n",
       "    .dataframe thead th {\n",
       "        text-align: right;\n",
       "    }\n",
       "</style>\n",
       "<table border=\"1\" class=\"dataframe\">\n",
       "  <thead>\n",
       "    <tr style=\"text-align: right;\">\n",
       "      <th></th>\n",
       "      <th>brand_purchase_cnt</th>\n",
       "      <th>brand_id</th>\n",
       "      <th>item_purchase_cnt</th>\n",
       "      <th>returned</th>\n",
       "      <th>months_since_reg</th>\n",
       "      <th>item_price</th>\n",
       "      <th>user_id</th>\n",
       "      <th>user_purchase_amt</th>\n",
       "      <th>item_id</th>\n",
       "      <th>delivery_time_weeks</th>\n",
       "      <th>...</th>\n",
       "      <th>user_state_Hesse</th>\n",
       "      <th>user_state_Lower Saxony</th>\n",
       "      <th>user_state_Mecklenburg-Western Pomerania</th>\n",
       "      <th>user_state_North Rhine-Westphalia</th>\n",
       "      <th>user_state_Rhineland-Palatinate</th>\n",
       "      <th>user_state_Saarland</th>\n",
       "      <th>user_state_Saxony</th>\n",
       "      <th>user_state_Saxony-Anhalt</th>\n",
       "      <th>user_state_Schleswig-Holstein</th>\n",
       "      <th>user_state_Thuringia</th>\n",
       "    </tr>\n",
       "  </thead>\n",
       "  <tbody>\n",
       "    <tr>\n",
       "      <td>0</td>\n",
       "      <td>1272.0</td>\n",
       "      <td>30</td>\n",
       "      <td>22.0</td>\n",
       "      <td>False</td>\n",
       "      <td>3.0</td>\n",
       "      <td>49.90</td>\n",
       "      <td>30822</td>\n",
       "      <td>86.25</td>\n",
       "      <td>643</td>\n",
       "      <td>1.0</td>\n",
       "      <td>...</td>\n",
       "      <td>0</td>\n",
       "      <td>0</td>\n",
       "      <td>0</td>\n",
       "      <td>0</td>\n",
       "      <td>0</td>\n",
       "      <td>0</td>\n",
       "      <td>1</td>\n",
       "      <td>0</td>\n",
       "      <td>0</td>\n",
       "      <td>0</td>\n",
       "    </tr>\n",
       "    <tr>\n",
       "      <td>1</td>\n",
       "      <td>1272.0</td>\n",
       "      <td>30</td>\n",
       "      <td>52.0</td>\n",
       "      <td>False</td>\n",
       "      <td>3.0</td>\n",
       "      <td>19.95</td>\n",
       "      <td>30822</td>\n",
       "      <td>86.25</td>\n",
       "      <td>337</td>\n",
       "      <td>1.0</td>\n",
       "      <td>...</td>\n",
       "      <td>0</td>\n",
       "      <td>0</td>\n",
       "      <td>0</td>\n",
       "      <td>0</td>\n",
       "      <td>0</td>\n",
       "      <td>0</td>\n",
       "      <td>1</td>\n",
       "      <td>0</td>\n",
       "      <td>0</td>\n",
       "      <td>0</td>\n",
       "    </tr>\n",
       "    <tr>\n",
       "      <td>2</td>\n",
       "      <td>1733.0</td>\n",
       "      <td>49</td>\n",
       "      <td>81.0</td>\n",
       "      <td>True</td>\n",
       "      <td>18.0</td>\n",
       "      <td>79.90</td>\n",
       "      <td>30823</td>\n",
       "      <td>703.30</td>\n",
       "      <td>270</td>\n",
       "      <td>1.0</td>\n",
       "      <td>...</td>\n",
       "      <td>0</td>\n",
       "      <td>0</td>\n",
       "      <td>0</td>\n",
       "      <td>0</td>\n",
       "      <td>0</td>\n",
       "      <td>0</td>\n",
       "      <td>0</td>\n",
       "      <td>0</td>\n",
       "      <td>0</td>\n",
       "      <td>0</td>\n",
       "    </tr>\n",
       "    <tr>\n",
       "      <td>3</td>\n",
       "      <td>1733.0</td>\n",
       "      <td>49</td>\n",
       "      <td>228.0</td>\n",
       "      <td>False</td>\n",
       "      <td>18.0</td>\n",
       "      <td>99.90</td>\n",
       "      <td>30823</td>\n",
       "      <td>703.30</td>\n",
       "      <td>142</td>\n",
       "      <td>1.0</td>\n",
       "      <td>...</td>\n",
       "      <td>0</td>\n",
       "      <td>0</td>\n",
       "      <td>0</td>\n",
       "      <td>0</td>\n",
       "      <td>0</td>\n",
       "      <td>0</td>\n",
       "      <td>0</td>\n",
       "      <td>0</td>\n",
       "      <td>0</td>\n",
       "      <td>0</td>\n",
       "    </tr>\n",
       "    <tr>\n",
       "      <td>4</td>\n",
       "      <td>11389.0</td>\n",
       "      <td>3</td>\n",
       "      <td>137.0</td>\n",
       "      <td>True</td>\n",
       "      <td>18.0</td>\n",
       "      <td>14.90</td>\n",
       "      <td>30823</td>\n",
       "      <td>703.30</td>\n",
       "      <td>561</td>\n",
       "      <td>1.0</td>\n",
       "      <td>...</td>\n",
       "      <td>0</td>\n",
       "      <td>0</td>\n",
       "      <td>0</td>\n",
       "      <td>0</td>\n",
       "      <td>0</td>\n",
       "      <td>0</td>\n",
       "      <td>0</td>\n",
       "      <td>0</td>\n",
       "      <td>0</td>\n",
       "      <td>0</td>\n",
       "    </tr>\n",
       "  </tbody>\n",
       "</table>\n",
       "<p>5 rows × 44 columns</p>\n",
       "</div>"
      ],
      "text/plain": [
       "   brand_purchase_cnt  brand_id  item_purchase_cnt  returned  \\\n",
       "0              1272.0        30               22.0     False   \n",
       "1              1272.0        30               52.0     False   \n",
       "2              1733.0        49               81.0      True   \n",
       "3              1733.0        49              228.0     False   \n",
       "4             11389.0         3              137.0      True   \n",
       "\n",
       "   months_since_reg  item_price  user_id  user_purchase_amt  item_id  \\\n",
       "0               3.0       49.90    30822              86.25      643   \n",
       "1               3.0       19.95    30822              86.25      337   \n",
       "2              18.0       79.90    30823             703.30      270   \n",
       "3              18.0       99.90    30823             703.30      142   \n",
       "4              18.0       14.90    30823             703.30      561   \n",
       "\n",
       "   delivery_time_weeks  ...  user_state_Hesse  user_state_Lower Saxony  \\\n",
       "0                  1.0  ...                 0                        0   \n",
       "1                  1.0  ...                 0                        0   \n",
       "2                  1.0  ...                 0                        0   \n",
       "3                  1.0  ...                 0                        0   \n",
       "4                  1.0  ...                 0                        0   \n",
       "\n",
       "   user_state_Mecklenburg-Western Pomerania  \\\n",
       "0                                         0   \n",
       "1                                         0   \n",
       "2                                         0   \n",
       "3                                         0   \n",
       "4                                         0   \n",
       "\n",
       "   user_state_North Rhine-Westphalia  user_state_Rhineland-Palatinate  \\\n",
       "0                                  0                                0   \n",
       "1                                  0                                0   \n",
       "2                                  0                                0   \n",
       "3                                  0                                0   \n",
       "4                                  0                                0   \n",
       "\n",
       "   user_state_Saarland  user_state_Saxony  user_state_Saxony-Anhalt  \\\n",
       "0                    0                  1                         0   \n",
       "1                    0                  1                         0   \n",
       "2                    0                  0                         0   \n",
       "3                    0                  0                         0   \n",
       "4                    0                  0                         0   \n",
       "\n",
       "   user_state_Schleswig-Holstein  user_state_Thuringia  \n",
       "0                              0                     0  \n",
       "1                              0                     0  \n",
       "2                              0                     0  \n",
       "3                              0                     0  \n",
       "4                              0                     0  \n",
       "\n",
       "[5 rows x 44 columns]"
      ]
     },
     "execution_count": 64,
     "metadata": {},
     "output_type": "execute_result"
    }
   ],
   "source": [
    "#To check whether the dataframe is successfully formed\n",
    "df_known.head(n=5)"
   ]
  },
  {
   "cell_type": "code",
   "execution_count": 65,
   "metadata": {},
   "outputs": [],
   "source": [
    "#The data is partitioned into features and labels\n",
    "X = df_known.drop(['returned'], axis=1) \n",
    "y = df_known[['returned']]"
   ]
  },
  {
   "cell_type": "code",
   "execution_count": 66,
   "metadata": {},
   "outputs": [],
   "source": [
    "#The train set and the validation set is formed\n",
    "X_train, X_val, y_train, y_val = train_test_split(X, y, test_size=0.2, random_state=123)"
   ]
  },
  {
   "cell_type": "markdown",
   "metadata": {},
   "source": [
    "# Model Selection and Tuning"
   ]
  },
  {
   "cell_type": "markdown",
   "metadata": {},
   "source": [
    "In order to solve this binary classification problem, ensemble learning algorithms Extreme Gradient Boosting and Random Forest Classifier are used. Ensemble learners outperform algorithms such as logit or a decision tree since they are basically consisting of multiple layers of these algorithms. \n",
    "\n",
    "There are also various benefits of using tree based algorithms in addition to their outstanding performances. First of all, normalization or standardization of the variables are not necessary for these algorithms since they are solely interested in the split points regardless of the distribution. Moreover, they are robust to multicollinearity which means that there is no need for elimination of the correlated variables. Furthermore, the algorithms are usually robust to outliers. Finally, for the cost sensitive learning tree based algorithms are known to be working well with the Bayes decision to minimize the costs which will be the specific approach in this notebook."
   ]
  },
  {
   "cell_type": "markdown",
   "metadata": {},
   "source": [
    "Initially, some preliminary hyperparemeters are used for the analysis of both models. Although, these hyperparameter values were not analyzed thoroughly since this will be carried out in the model tuning part, some logical assumptions and elimination techniques are used to eliminate options and reduce the runtime. To better illustrate, there were 3x3x2x2x1 hyperparameter options for XGB that was tried out in a setting with 5 crossfolds in preliminary analysis. However this yielded a runtime of 75 minutes which was highly costly. From this point on, the parameter values were eliminated in a local way instead of a global approach. Some of the parameters yielded the best result in all different combinations and therefore they were fixed such as 0.01 learning rate. The last parameter grid that is used for this preliminary analysis for XGB and RFC can be seen in the following sections. Further improvements will be made in the chosen model in the hyperparameter tuning part."
   ]
  },
  {
   "cell_type": "markdown",
   "metadata": {},
   "source": [
    "## XGBoost"
   ]
  },
  {
   "cell_type": "code",
   "execution_count": 67,
   "metadata": {},
   "outputs": [],
   "source": [
    "# The grid of meta-parameters are set up\n",
    "xgb_param_grid1 = {\n",
    "    'colsample_bytree': [0.7,0.9] ,\n",
    "    'n_estimators': [100],\n",
    "    'max_depth': [5,10],\n",
    "    'learning_rate': [0.01],\n",
    "    'early_stopping_rounds': [10],\n",
    "}"
   ]
  },
  {
   "cell_type": "code",
   "execution_count": 68,
   "metadata": {},
   "outputs": [
    {
     "name": "stdout",
     "output_type": "stream",
     "text": [
      "Fitting 3 folds for each of 4 candidates, totalling 12 fits\n",
      "[CV] colsample_bytree=0.7, early_stopping_rounds=10, learning_rate=0.01, max_depth=5, n_estimators=100 \n"
     ]
    },
    {
     "name": "stderr",
     "output_type": "stream",
     "text": [
      "[Parallel(n_jobs=1)]: Using backend SequentialBackend with 1 concurrent workers.\n",
      "C:\\Users\\Berkay Kocak\\Anaconda3\\lib\\site-packages\\xgboost\\sklearn.py:888: UserWarning: The use of label encoder in XGBClassifier is deprecated and will be removed in a future release. To remove this warning, do the following: 1) Pass option use_label_encoder=False when constructing XGBClassifier object; and 2) Encode your labels (y) as integers starting with 0, i.e. 0, 1, 2, ..., [num_class - 1].\n",
      "  warnings.warn(label_encoder_deprecation_msg, UserWarning)\n"
     ]
    },
    {
     "name": "stdout",
     "output_type": "stream",
     "text": [
      "[17:38:49] WARNING: C:/Users/Administrator/workspace/xgboost-win64_release_1.3.0/src/learner.cc:541: \n",
      "Parameters: { early_stopping_rounds, njobs } might not be used.\n",
      "\n",
      "  This may not be accurate due to some parameters are only used in language bindings but\n",
      "  passed down to XGBoost core.  Or some parameters are not used but slip through this\n",
      "  verification. Please open an issue if you find above cases.\n",
      "\n",
      "\n",
      "[17:38:49] WARNING: C:/Users/Administrator/workspace/xgboost-win64_release_1.3.0/src/learner.cc:1061: Starting in XGBoost 1.3.0, the default evaluation metric used with the objective 'binary:logistic' was changed from 'error' to 'logloss'. Explicitly set eval_metric if you'd like to restore the old behavior.\n",
      "[CV]  colsample_bytree=0.7, early_stopping_rounds=10, learning_rate=0.01, max_depth=5, n_estimators=100, total=   8.4s\n",
      "[CV] colsample_bytree=0.7, early_stopping_rounds=10, learning_rate=0.01, max_depth=5, n_estimators=100 \n",
      "[17:38:57] WARNING: C:/Users/Administrator/workspace/xgboost-win64_release_1.3.0/src/learner.cc:541: \n",
      "Parameters: { early_stopping_rounds, njobs } might not be used.\n",
      "\n",
      "  This may not be accurate due to some parameters are only used in language bindings but\n",
      "  passed down to XGBoost core.  Or some parameters are not used but slip through this\n",
      "  verification. Please open an issue if you find above cases.\n",
      "\n",
      "\n"
     ]
    },
    {
     "name": "stderr",
     "output_type": "stream",
     "text": [
      "[Parallel(n_jobs=1)]: Done   1 out of   1 | elapsed:    8.3s remaining:    0.0s\n",
      "C:\\Users\\Berkay Kocak\\Anaconda3\\lib\\site-packages\\xgboost\\sklearn.py:888: UserWarning: The use of label encoder in XGBClassifier is deprecated and will be removed in a future release. To remove this warning, do the following: 1) Pass option use_label_encoder=False when constructing XGBClassifier object; and 2) Encode your labels (y) as integers starting with 0, i.e. 0, 1, 2, ..., [num_class - 1].\n",
      "  warnings.warn(label_encoder_deprecation_msg, UserWarning)\n"
     ]
    },
    {
     "name": "stdout",
     "output_type": "stream",
     "text": [
      "[17:38:58] WARNING: C:/Users/Administrator/workspace/xgboost-win64_release_1.3.0/src/learner.cc:1061: Starting in XGBoost 1.3.0, the default evaluation metric used with the objective 'binary:logistic' was changed from 'error' to 'logloss'. Explicitly set eval_metric if you'd like to restore the old behavior.\n",
      "[CV]  colsample_bytree=0.7, early_stopping_rounds=10, learning_rate=0.01, max_depth=5, n_estimators=100, total=   8.6s\n",
      "[CV] colsample_bytree=0.7, early_stopping_rounds=10, learning_rate=0.01, max_depth=5, n_estimators=100 \n",
      "[17:39:06] WARNING: C:/Users/Administrator/workspace/xgboost-win64_release_1.3.0/src/learner.cc:541: \n",
      "Parameters: { early_stopping_rounds, njobs } might not be used.\n",
      "\n",
      "  This may not be accurate due to some parameters are only used in language bindings but\n",
      "  passed down to XGBoost core.  Or some parameters are not used but slip through this\n",
      "  verification. Please open an issue if you find above cases.\n",
      "\n",
      "\n"
     ]
    },
    {
     "name": "stderr",
     "output_type": "stream",
     "text": [
      "C:\\Users\\Berkay Kocak\\Anaconda3\\lib\\site-packages\\xgboost\\sklearn.py:888: UserWarning: The use of label encoder in XGBClassifier is deprecated and will be removed in a future release. To remove this warning, do the following: 1) Pass option use_label_encoder=False when constructing XGBClassifier object; and 2) Encode your labels (y) as integers starting with 0, i.e. 0, 1, 2, ..., [num_class - 1].\n",
      "  warnings.warn(label_encoder_deprecation_msg, UserWarning)\n"
     ]
    },
    {
     "name": "stdout",
     "output_type": "stream",
     "text": [
      "[17:39:06] WARNING: C:/Users/Administrator/workspace/xgboost-win64_release_1.3.0/src/learner.cc:1061: Starting in XGBoost 1.3.0, the default evaluation metric used with the objective 'binary:logistic' was changed from 'error' to 'logloss'. Explicitly set eval_metric if you'd like to restore the old behavior.\n",
      "[CV]  colsample_bytree=0.7, early_stopping_rounds=10, learning_rate=0.01, max_depth=5, n_estimators=100, total=  10.0s\n",
      "[CV] colsample_bytree=0.7, early_stopping_rounds=10, learning_rate=0.01, max_depth=10, n_estimators=100 \n",
      "[17:39:16] WARNING: C:/Users/Administrator/workspace/xgboost-win64_release_1.3.0/src/learner.cc:541: \n",
      "Parameters: { early_stopping_rounds, njobs } might not be used.\n",
      "\n",
      "  This may not be accurate due to some parameters are only used in language bindings but\n",
      "  passed down to XGBoost core.  Or some parameters are not used but slip through this\n",
      "  verification. Please open an issue if you find above cases.\n",
      "\n",
      "\n"
     ]
    },
    {
     "name": "stderr",
     "output_type": "stream",
     "text": [
      "C:\\Users\\Berkay Kocak\\Anaconda3\\lib\\site-packages\\xgboost\\sklearn.py:888: UserWarning: The use of label encoder in XGBClassifier is deprecated and will be removed in a future release. To remove this warning, do the following: 1) Pass option use_label_encoder=False when constructing XGBClassifier object; and 2) Encode your labels (y) as integers starting with 0, i.e. 0, 1, 2, ..., [num_class - 1].\n",
      "  warnings.warn(label_encoder_deprecation_msg, UserWarning)\n"
     ]
    },
    {
     "name": "stdout",
     "output_type": "stream",
     "text": [
      "[17:39:16] WARNING: C:/Users/Administrator/workspace/xgboost-win64_release_1.3.0/src/learner.cc:1061: Starting in XGBoost 1.3.0, the default evaluation metric used with the objective 'binary:logistic' was changed from 'error' to 'logloss'. Explicitly set eval_metric if you'd like to restore the old behavior.\n",
      "[CV]  colsample_bytree=0.7, early_stopping_rounds=10, learning_rate=0.01, max_depth=10, n_estimators=100, total=  19.7s\n",
      "[CV] colsample_bytree=0.7, early_stopping_rounds=10, learning_rate=0.01, max_depth=10, n_estimators=100 \n",
      "[17:39:36] WARNING: C:/Users/Administrator/workspace/xgboost-win64_release_1.3.0/src/learner.cc:541: \n",
      "Parameters: { early_stopping_rounds, njobs } might not be used.\n",
      "\n",
      "  This may not be accurate due to some parameters are only used in language bindings but\n",
      "  passed down to XGBoost core.  Or some parameters are not used but slip through this\n",
      "  verification. Please open an issue if you find above cases.\n",
      "\n",
      "\n"
     ]
    },
    {
     "name": "stderr",
     "output_type": "stream",
     "text": [
      "C:\\Users\\Berkay Kocak\\Anaconda3\\lib\\site-packages\\xgboost\\sklearn.py:888: UserWarning: The use of label encoder in XGBClassifier is deprecated and will be removed in a future release. To remove this warning, do the following: 1) Pass option use_label_encoder=False when constructing XGBClassifier object; and 2) Encode your labels (y) as integers starting with 0, i.e. 0, 1, 2, ..., [num_class - 1].\n",
      "  warnings.warn(label_encoder_deprecation_msg, UserWarning)\n"
     ]
    },
    {
     "name": "stdout",
     "output_type": "stream",
     "text": [
      "[17:39:36] WARNING: C:/Users/Administrator/workspace/xgboost-win64_release_1.3.0/src/learner.cc:1061: Starting in XGBoost 1.3.0, the default evaluation metric used with the objective 'binary:logistic' was changed from 'error' to 'logloss'. Explicitly set eval_metric if you'd like to restore the old behavior.\n",
      "[CV]  colsample_bytree=0.7, early_stopping_rounds=10, learning_rate=0.01, max_depth=10, n_estimators=100, total=  15.8s\n",
      "[CV] colsample_bytree=0.7, early_stopping_rounds=10, learning_rate=0.01, max_depth=10, n_estimators=100 \n",
      "[17:39:52] WARNING: C:/Users/Administrator/workspace/xgboost-win64_release_1.3.0/src/learner.cc:541: \n",
      "Parameters: { early_stopping_rounds, njobs } might not be used.\n",
      "\n",
      "  This may not be accurate due to some parameters are only used in language bindings but\n",
      "  passed down to XGBoost core.  Or some parameters are not used but slip through this\n",
      "  verification. Please open an issue if you find above cases.\n",
      "\n",
      "\n"
     ]
    },
    {
     "name": "stderr",
     "output_type": "stream",
     "text": [
      "C:\\Users\\Berkay Kocak\\Anaconda3\\lib\\site-packages\\xgboost\\sklearn.py:888: UserWarning: The use of label encoder in XGBClassifier is deprecated and will be removed in a future release. To remove this warning, do the following: 1) Pass option use_label_encoder=False when constructing XGBClassifier object; and 2) Encode your labels (y) as integers starting with 0, i.e. 0, 1, 2, ..., [num_class - 1].\n",
      "  warnings.warn(label_encoder_deprecation_msg, UserWarning)\n"
     ]
    },
    {
     "name": "stdout",
     "output_type": "stream",
     "text": [
      "[17:39:52] WARNING: C:/Users/Administrator/workspace/xgboost-win64_release_1.3.0/src/learner.cc:1061: Starting in XGBoost 1.3.0, the default evaluation metric used with the objective 'binary:logistic' was changed from 'error' to 'logloss'. Explicitly set eval_metric if you'd like to restore the old behavior.\n",
      "[CV]  colsample_bytree=0.7, early_stopping_rounds=10, learning_rate=0.01, max_depth=10, n_estimators=100, total=  15.7s\n",
      "[CV] colsample_bytree=0.9, early_stopping_rounds=10, learning_rate=0.01, max_depth=5, n_estimators=100 \n",
      "[17:40:07] WARNING: C:/Users/Administrator/workspace/xgboost-win64_release_1.3.0/src/learner.cc:541: \n",
      "Parameters: { early_stopping_rounds, njobs } might not be used.\n",
      "\n",
      "  This may not be accurate due to some parameters are only used in language bindings but\n",
      "  passed down to XGBoost core.  Or some parameters are not used but slip through this\n",
      "  verification. Please open an issue if you find above cases.\n",
      "\n",
      "\n"
     ]
    },
    {
     "name": "stderr",
     "output_type": "stream",
     "text": [
      "C:\\Users\\Berkay Kocak\\Anaconda3\\lib\\site-packages\\xgboost\\sklearn.py:888: UserWarning: The use of label encoder in XGBClassifier is deprecated and will be removed in a future release. To remove this warning, do the following: 1) Pass option use_label_encoder=False when constructing XGBClassifier object; and 2) Encode your labels (y) as integers starting with 0, i.e. 0, 1, 2, ..., [num_class - 1].\n",
      "  warnings.warn(label_encoder_deprecation_msg, UserWarning)\n"
     ]
    },
    {
     "name": "stdout",
     "output_type": "stream",
     "text": [
      "[17:40:07] WARNING: C:/Users/Administrator/workspace/xgboost-win64_release_1.3.0/src/learner.cc:1061: Starting in XGBoost 1.3.0, the default evaluation metric used with the objective 'binary:logistic' was changed from 'error' to 'logloss'. Explicitly set eval_metric if you'd like to restore the old behavior.\n",
      "[CV]  colsample_bytree=0.9, early_stopping_rounds=10, learning_rate=0.01, max_depth=5, n_estimators=100, total=   7.5s\n",
      "[CV] colsample_bytree=0.9, early_stopping_rounds=10, learning_rate=0.01, max_depth=5, n_estimators=100 \n",
      "[17:40:15] WARNING: C:/Users/Administrator/workspace/xgboost-win64_release_1.3.0/src/learner.cc:541: \n",
      "Parameters: { early_stopping_rounds, njobs } might not be used.\n",
      "\n",
      "  This may not be accurate due to some parameters are only used in language bindings but\n",
      "  passed down to XGBoost core.  Or some parameters are not used but slip through this\n",
      "  verification. Please open an issue if you find above cases.\n",
      "\n",
      "\n"
     ]
    },
    {
     "name": "stderr",
     "output_type": "stream",
     "text": [
      "C:\\Users\\Berkay Kocak\\Anaconda3\\lib\\site-packages\\xgboost\\sklearn.py:888: UserWarning: The use of label encoder in XGBClassifier is deprecated and will be removed in a future release. To remove this warning, do the following: 1) Pass option use_label_encoder=False when constructing XGBClassifier object; and 2) Encode your labels (y) as integers starting with 0, i.e. 0, 1, 2, ..., [num_class - 1].\n",
      "  warnings.warn(label_encoder_deprecation_msg, UserWarning)\n"
     ]
    },
    {
     "name": "stdout",
     "output_type": "stream",
     "text": [
      "[17:40:15] WARNING: C:/Users/Administrator/workspace/xgboost-win64_release_1.3.0/src/learner.cc:1061: Starting in XGBoost 1.3.0, the default evaluation metric used with the objective 'binary:logistic' was changed from 'error' to 'logloss'. Explicitly set eval_metric if you'd like to restore the old behavior.\n",
      "[CV]  colsample_bytree=0.9, early_stopping_rounds=10, learning_rate=0.01, max_depth=5, n_estimators=100, total=   8.1s\n",
      "[CV] colsample_bytree=0.9, early_stopping_rounds=10, learning_rate=0.01, max_depth=5, n_estimators=100 \n",
      "[17:40:23] WARNING: C:/Users/Administrator/workspace/xgboost-win64_release_1.3.0/src/learner.cc:541: \n",
      "Parameters: { early_stopping_rounds, njobs } might not be used.\n",
      "\n",
      "  This may not be accurate due to some parameters are only used in language bindings but\n",
      "  passed down to XGBoost core.  Or some parameters are not used but slip through this\n",
      "  verification. Please open an issue if you find above cases.\n",
      "\n",
      "\n"
     ]
    },
    {
     "name": "stderr",
     "output_type": "stream",
     "text": [
      "C:\\Users\\Berkay Kocak\\Anaconda3\\lib\\site-packages\\xgboost\\sklearn.py:888: UserWarning: The use of label encoder in XGBClassifier is deprecated and will be removed in a future release. To remove this warning, do the following: 1) Pass option use_label_encoder=False when constructing XGBClassifier object; and 2) Encode your labels (y) as integers starting with 0, i.e. 0, 1, 2, ..., [num_class - 1].\n",
      "  warnings.warn(label_encoder_deprecation_msg, UserWarning)\n"
     ]
    },
    {
     "name": "stdout",
     "output_type": "stream",
     "text": [
      "[17:40:23] WARNING: C:/Users/Administrator/workspace/xgboost-win64_release_1.3.0/src/learner.cc:1061: Starting in XGBoost 1.3.0, the default evaluation metric used with the objective 'binary:logistic' was changed from 'error' to 'logloss'. Explicitly set eval_metric if you'd like to restore the old behavior.\n",
      "[CV]  colsample_bytree=0.9, early_stopping_rounds=10, learning_rate=0.01, max_depth=5, n_estimators=100, total=   7.4s\n",
      "[CV] colsample_bytree=0.9, early_stopping_rounds=10, learning_rate=0.01, max_depth=10, n_estimators=100 \n",
      "[17:40:30] WARNING: C:/Users/Administrator/workspace/xgboost-win64_release_1.3.0/src/learner.cc:541: \n",
      "Parameters: { early_stopping_rounds, njobs } might not be used.\n",
      "\n",
      "  This may not be accurate due to some parameters are only used in language bindings but\n",
      "  passed down to XGBoost core.  Or some parameters are not used but slip through this\n",
      "  verification. Please open an issue if you find above cases.\n",
      "\n",
      "\n"
     ]
    },
    {
     "name": "stderr",
     "output_type": "stream",
     "text": [
      "C:\\Users\\Berkay Kocak\\Anaconda3\\lib\\site-packages\\xgboost\\sklearn.py:888: UserWarning: The use of label encoder in XGBClassifier is deprecated and will be removed in a future release. To remove this warning, do the following: 1) Pass option use_label_encoder=False when constructing XGBClassifier object; and 2) Encode your labels (y) as integers starting with 0, i.e. 0, 1, 2, ..., [num_class - 1].\n",
      "  warnings.warn(label_encoder_deprecation_msg, UserWarning)\n"
     ]
    },
    {
     "name": "stdout",
     "output_type": "stream",
     "text": [
      "[17:40:31] WARNING: C:/Users/Administrator/workspace/xgboost-win64_release_1.3.0/src/learner.cc:1061: Starting in XGBoost 1.3.0, the default evaluation metric used with the objective 'binary:logistic' was changed from 'error' to 'logloss'. Explicitly set eval_metric if you'd like to restore the old behavior.\n",
      "[CV]  colsample_bytree=0.9, early_stopping_rounds=10, learning_rate=0.01, max_depth=10, n_estimators=100, total=  17.9s\n",
      "[CV] colsample_bytree=0.9, early_stopping_rounds=10, learning_rate=0.01, max_depth=10, n_estimators=100 \n",
      "[17:40:48] WARNING: C:/Users/Administrator/workspace/xgboost-win64_release_1.3.0/src/learner.cc:541: \n",
      "Parameters: { early_stopping_rounds, njobs } might not be used.\n",
      "\n",
      "  This may not be accurate due to some parameters are only used in language bindings but\n",
      "  passed down to XGBoost core.  Or some parameters are not used but slip through this\n",
      "  verification. Please open an issue if you find above cases.\n",
      "\n",
      "\n"
     ]
    },
    {
     "name": "stderr",
     "output_type": "stream",
     "text": [
      "C:\\Users\\Berkay Kocak\\Anaconda3\\lib\\site-packages\\xgboost\\sklearn.py:888: UserWarning: The use of label encoder in XGBClassifier is deprecated and will be removed in a future release. To remove this warning, do the following: 1) Pass option use_label_encoder=False when constructing XGBClassifier object; and 2) Encode your labels (y) as integers starting with 0, i.e. 0, 1, 2, ..., [num_class - 1].\n",
      "  warnings.warn(label_encoder_deprecation_msg, UserWarning)\n"
     ]
    },
    {
     "name": "stdout",
     "output_type": "stream",
     "text": [
      "[17:40:48] WARNING: C:/Users/Administrator/workspace/xgboost-win64_release_1.3.0/src/learner.cc:1061: Starting in XGBoost 1.3.0, the default evaluation metric used with the objective 'binary:logistic' was changed from 'error' to 'logloss'. Explicitly set eval_metric if you'd like to restore the old behavior.\n",
      "[CV]  colsample_bytree=0.9, early_stopping_rounds=10, learning_rate=0.01, max_depth=10, n_estimators=100, total=  17.7s\n",
      "[CV] colsample_bytree=0.9, early_stopping_rounds=10, learning_rate=0.01, max_depth=10, n_estimators=100 \n",
      "[17:41:06] WARNING: C:/Users/Administrator/workspace/xgboost-win64_release_1.3.0/src/learner.cc:541: \n",
      "Parameters: { early_stopping_rounds, njobs } might not be used.\n",
      "\n",
      "  This may not be accurate due to some parameters are only used in language bindings but\n",
      "  passed down to XGBoost core.  Or some parameters are not used but slip through this\n",
      "  verification. Please open an issue if you find above cases.\n",
      "\n",
      "\n"
     ]
    },
    {
     "name": "stderr",
     "output_type": "stream",
     "text": [
      "C:\\Users\\Berkay Kocak\\Anaconda3\\lib\\site-packages\\xgboost\\sklearn.py:888: UserWarning: The use of label encoder in XGBClassifier is deprecated and will be removed in a future release. To remove this warning, do the following: 1) Pass option use_label_encoder=False when constructing XGBClassifier object; and 2) Encode your labels (y) as integers starting with 0, i.e. 0, 1, 2, ..., [num_class - 1].\n",
      "  warnings.warn(label_encoder_deprecation_msg, UserWarning)\n"
     ]
    },
    {
     "name": "stdout",
     "output_type": "stream",
     "text": [
      "[17:41:06] WARNING: C:/Users/Administrator/workspace/xgboost-win64_release_1.3.0/src/learner.cc:1061: Starting in XGBoost 1.3.0, the default evaluation metric used with the objective 'binary:logistic' was changed from 'error' to 'logloss'. Explicitly set eval_metric if you'd like to restore the old behavior.\n",
      "[CV]  colsample_bytree=0.9, early_stopping_rounds=10, learning_rate=0.01, max_depth=10, n_estimators=100, total=  18.3s\n",
      "[17:41:24] WARNING: C:/Users/Administrator/workspace/xgboost-win64_release_1.3.0/src/learner.cc:541: \n",
      "Parameters: { early_stopping_rounds, njobs } might not be used.\n",
      "\n",
      "  This may not be accurate due to some parameters are only used in language bindings but\n",
      "  passed down to XGBoost core.  Or some parameters are not used but slip through this\n",
      "  verification. Please open an issue if you find above cases.\n",
      "\n",
      "\n"
     ]
    },
    {
     "name": "stderr",
     "output_type": "stream",
     "text": [
      "[Parallel(n_jobs=1)]: Done  12 out of  12 | elapsed:  2.6min finished\n",
      "C:\\Users\\Berkay Kocak\\Anaconda3\\lib\\site-packages\\xgboost\\sklearn.py:888: UserWarning: The use of label encoder in XGBClassifier is deprecated and will be removed in a future release. To remove this warning, do the following: 1) Pass option use_label_encoder=False when constructing XGBClassifier object; and 2) Encode your labels (y) as integers starting with 0, i.e. 0, 1, 2, ..., [num_class - 1].\n",
      "  warnings.warn(label_encoder_deprecation_msg, UserWarning)\n"
     ]
    },
    {
     "name": "stdout",
     "output_type": "stream",
     "text": [
      "[17:41:25] WARNING: C:/Users/Administrator/workspace/xgboost-win64_release_1.3.0/src/learner.cc:1061: Starting in XGBoost 1.3.0, the default evaluation metric used with the objective 'binary:logistic' was changed from 'error' to 'logloss'. Explicitly set eval_metric if you'd like to restore the old behavior.\n"
     ]
    },
    {
     "data": {
      "text/plain": [
       "GridSearchCV(cv=3, error_score='raise-deprecating',\n",
       "             estimator=XGBClassifier(base_score=None, booster=None,\n",
       "                                     colsample_bylevel=None,\n",
       "                                     colsample_bynode=None,\n",
       "                                     colsample_bytree=None, gamma=None,\n",
       "                                     gpu_id=None, importance_type='gain',\n",
       "                                     interaction_constraints=None,\n",
       "                                     learning_rate=None, max_delta_step=None,\n",
       "                                     max_depth=None, min_child_weight=None,\n",
       "                                     missing=nan, monotone_constrai...\n",
       "                                     reg_lambda=None, scale_pos_weight=None,\n",
       "                                     subsample=None, tree_method=None,\n",
       "                                     use_label_encoder=True,\n",
       "                                     validate_parameters=None, verbosity=None),\n",
       "             iid='warn', n_jobs=None,\n",
       "             param_grid={'colsample_bytree': [0.7, 0.9],\n",
       "                         'early_stopping_rounds': [10], 'learning_rate': [0.01],\n",
       "                         'max_depth': [5, 10], 'n_estimators': [100]},\n",
       "             pre_dispatch='2*n_jobs', refit=True, return_train_score=False,\n",
       "             scoring='roc_auc', verbose=2)"
      ]
     },
     "execution_count": 68,
     "metadata": {},
     "output_type": "execute_result"
    }
   ],
   "source": [
    "# Set up the grid object specifying the tuning options\n",
    "gs_xgb1 = GridSearchCV(estimator=xgb.XGBClassifier(njobs=-1,random_state=123), param_grid=xgb_param_grid1, scoring='roc_auc', cv=3, verbose=2)\n",
    "gs_xgb1.fit(X_train, y_train.values.ravel())"
   ]
  },
  {
   "cell_type": "code",
   "execution_count": 69,
   "metadata": {},
   "outputs": [
    {
     "name": "stdout",
     "output_type": "stream",
     "text": [
      "Best CV AUC: 0.7311\n",
      "Optimal XGB meta-parameters:\n",
      "{'colsample_bytree': 0.7, 'early_stopping_rounds': 10, 'learning_rate': 0.01, 'max_depth': 10, 'n_estimators': 100}\n"
     ]
    }
   ],
   "source": [
    "# The best AUC score in cross validations and optimal parameters\n",
    "print(\"Best CV AUC: %0.4f\" % gs_xgb1.best_score_)\n",
    "print(\"Optimal XGB meta-parameters:\")\n",
    "print(gs_xgb1.best_params_)"
   ]
  },
  {
   "cell_type": "code",
   "execution_count": 70,
   "metadata": {},
   "outputs": [
    {
     "name": "stdout",
     "output_type": "stream",
     "text": [
      "XGB test set AUC with optimal meta-parameters: 0.7422\n"
     ]
    }
   ],
   "source": [
    "# Find test set AUC of the best XGB classifier\n",
    "fp_rate_xgb1, tp_rate_xgb1, _ = metrics.roc_curve(y_val, gs_xgb1.predict_proba(X_val)[:, 1])\n",
    "print('XGB test set AUC with optimal meta-parameters: {:.4f}'.format(metrics.auc(fp_rate_xgb1, tp_rate_xgb1) ))"
   ]
  },
  {
   "cell_type": "markdown",
   "metadata": {},
   "source": [
    "## Random Forest Classifier"
   ]
  },
  {
   "cell_type": "code",
   "execution_count": 71,
   "metadata": {},
   "outputs": [],
   "source": [
    "rf = RandomForestClassifier(n_jobs=-1,random_state=123)\n",
    "\n",
    "# The grid of meta-parameters are set up\n",
    "rf_param_grid1 = {'n_estimators': [100,110],\n",
    "              'max_features': [4, 5]\n",
    "              }"
   ]
  },
  {
   "cell_type": "code",
   "execution_count": 72,
   "metadata": {},
   "outputs": [
    {
     "name": "stdout",
     "output_type": "stream",
     "text": [
      "Fitting 3 folds for each of 4 candidates, totalling 12 fits\n"
     ]
    },
    {
     "name": "stderr",
     "output_type": "stream",
     "text": [
      "[Parallel(n_jobs=1)]: Using backend SequentialBackend with 1 concurrent workers.\n",
      "[Parallel(n_jobs=1)]: Done  12 out of  12 | elapsed:  2.1min finished\n"
     ]
    },
    {
     "data": {
      "text/plain": [
       "GridSearchCV(cv=3, error_score='raise-deprecating',\n",
       "             estimator=RandomForestClassifier(bootstrap=True, class_weight=None,\n",
       "                                              criterion='gini', max_depth=None,\n",
       "                                              max_features='auto',\n",
       "                                              max_leaf_nodes=None,\n",
       "                                              min_impurity_decrease=0.0,\n",
       "                                              min_impurity_split=None,\n",
       "                                              min_samples_leaf=1,\n",
       "                                              min_samples_split=2,\n",
       "                                              min_weight_fraction_leaf=0.0,\n",
       "                                              n_estimators='warn', n_jobs=-1,\n",
       "                                              oob_score=False, random_state=123,\n",
       "                                              verbose=0, warm_start=False),\n",
       "             iid='warn', n_jobs=None,\n",
       "             param_grid={'max_features': [4, 5], 'n_estimators': [100, 110]},\n",
       "             pre_dispatch='2*n_jobs', refit=True, return_train_score=False,\n",
       "             scoring='roc_auc', verbose=1)"
      ]
     },
     "execution_count": 72,
     "metadata": {},
     "output_type": "execute_result"
    }
   ],
   "source": [
    "# Set up the grid object specifying the tuning options\n",
    "gs_rf1 = GridSearchCV(rf, rf_param_grid1, cv=3, scoring='roc_auc', verbose=1)\n",
    "gs_rf1.fit(X_train, y_train.values.ravel())"
   ]
  },
  {
   "cell_type": "code",
   "execution_count": 73,
   "metadata": {
    "scrolled": true
   },
   "outputs": [
    {
     "name": "stdout",
     "output_type": "stream",
     "text": [
      "Best CV AUC: 0.7333\n",
      "Optimal RFC meta-parameters:\n",
      "{'max_features': 5, 'n_estimators': 110}\n"
     ]
    }
   ],
   "source": [
    "print(\"Best CV AUC: %0.4f\" % gs_rf1.best_score_)\n",
    "print(\"Optimal RFC meta-parameters:\")\n",
    "print(gs_rf1.best_params_)"
   ]
  },
  {
   "cell_type": "code",
   "execution_count": 74,
   "metadata": {},
   "outputs": [
    {
     "name": "stdout",
     "output_type": "stream",
     "text": [
      "RFC test set AUC: 0.7461\n"
     ]
    }
   ],
   "source": [
    "auc_trace1 = {}\n",
    "\n",
    "# Find test set auc of the best random forest classifier\n",
    "fp_rate_rf1, tp_rate_rf1, _ = metrics.roc_curve(y_val, gs_rf1.predict_proba(X_val)[:, 1])\n",
    "auc_trace1.update( {'rf' : metrics.auc(fp_rate_rf1, tp_rate_rf1)}) \n",
    "print('RFC test set AUC: {:.4f}'.format(auc_trace1['rf']))"
   ]
  },
  {
   "cell_type": "markdown",
   "metadata": {},
   "source": [
    "## Comparison of XGB and RFC"
   ]
  },
  {
   "cell_type": "markdown",
   "metadata": {},
   "source": [
    "In this part, firstly the models were fitted. This time instead of using grid search, using the best parameters that are found are used. The main reason for this is to make use of some of the functionalities that are not possible using grid search. There is one exception about the best parameters which is the max_depth used in XGB. When the feature importances for both models are analyzed, the delivery_time_cat_Ismissing seems to be playing an important role in XGB Algorithm. As max depth increases, the AUC score of XGB also increases but this time the model overfits for the missing values of delivery time. Since previous analysis showed that in the train data, every missing value for delivery time yielded a non_returned item, the performance of XGB significantly changes by this behavior. However, there are no missing values for delivery time in the unknown data which will be analyzed later. Therefore the maximum depth of trees in XGB model is set to 5 which would yield a more realistic performance of the model."
   ]
  },
  {
   "cell_type": "code",
   "execution_count": 75,
   "metadata": {},
   "outputs": [],
   "source": [
    "#Creating an array of variable labels. (This will be later used for feature importances of both models.)\n",
    "X_var_labels = X_train.columns[0:X_train.shape[1]]"
   ]
  },
  {
   "cell_type": "code",
   "execution_count": 76,
   "metadata": {},
   "outputs": [
    {
     "name": "stdout",
     "output_type": "stream",
     "text": [
      "[17:44:08] WARNING: C:/Users/Administrator/workspace/xgboost-win64_release_1.3.0/src/learner.cc:1061: Starting in XGBoost 1.3.0, the default evaluation metric used with the objective 'binary:logistic' was changed from 'error' to 'logloss'. Explicitly set eval_metric if you'd like to restore the old behavior.\n"
     ]
    },
    {
     "data": {
      "text/plain": [
       "XGBClassifier(base_score=0.5, booster='gbtree', colsample_bylevel=1,\n",
       "              colsample_bynode=1, colsample_bytree=0.7, gamma=0, gpu_id=-1,\n",
       "              importance_type='gain', interaction_constraints='',\n",
       "              learning_rate=0.01, max_delta_step=0, max_depth=5,\n",
       "              min_child_weight=1, missing=nan, monotone_constraints='()',\n",
       "              n_estimators=100, n_jobs=4, num_parallel_tree=1,\n",
       "              objective='binary:logistic', random_state=123, reg_alpha=0,\n",
       "              reg_lambda=1, scale_pos_weight=1, subsample=1,\n",
       "              tree_method='exact', use_label_encoder=False,\n",
       "              validate_parameters=1, verbosity=None)"
      ]
     },
     "execution_count": 76,
     "metadata": {},
     "output_type": "execute_result"
    }
   ],
   "source": [
    "#Fitting the XGB model with best params except max_depth!\n",
    "xgb2 = XGBClassifier(\n",
    "    max_depth=5, n_estimators=100,  learning_rate = 0.01, colsample_bytree = 0.7, use_label_encoder=False, random_state= 123)\n",
    "xgb2.fit(X_train, y_train.values.ravel())"
   ]
  },
  {
   "cell_type": "code",
   "execution_count": 77,
   "metadata": {},
   "outputs": [
    {
     "data": {
      "text/plain": [
       "RandomForestClassifier(bootstrap=True, class_weight=None, criterion='gini',\n",
       "                       max_depth=None, max_features=4, max_leaf_nodes=None,\n",
       "                       min_impurity_decrease=0.0, min_impurity_split=None,\n",
       "                       min_samples_leaf=1, min_samples_split=2,\n",
       "                       min_weight_fraction_leaf=0.0, n_estimators=110,\n",
       "                       n_jobs=None, oob_score=False, random_state=123,\n",
       "                       verbose=0, warm_start=False)"
      ]
     },
     "execution_count": 77,
     "metadata": {},
     "output_type": "execute_result"
    }
   ],
   "source": [
    "#Fitting the RFC model with best params\n",
    "rf2 = RandomForestClassifier(n_estimators=110, max_features=4, random_state = 123) \n",
    "rf2.fit(X_train, y_train.values.ravel())"
   ]
  },
  {
   "cell_type": "code",
   "execution_count": 78,
   "metadata": {},
   "outputs": [
    {
     "name": "stdout",
     "output_type": "stream",
     "text": [
      "The feature importances of the XGB model: \n",
      "\n"
     ]
    },
    {
     "data": {
      "image/png": "[encoded data removed]",
      "text/plain": [
       "<Figure size 432x288 with 1 Axes>"
      ]
     },
     "metadata": {
      "needs_background": "light"
     },
     "output_type": "display_data"
    }
   ],
   "source": [
    "# Feature importance XGB\n",
    "print(\"The feature importances of the XGB model: \\n\")\n",
    "feat_importances_xgb = pd.Series(xgb2.feature_importances_, index= X_var_labels)\n",
    "feat_importances_xgb.nlargest(20).plot(kind='barh');"
   ]
  },
  {
   "cell_type": "code",
   "execution_count": 79,
   "metadata": {},
   "outputs": [
    {
     "name": "stdout",
     "output_type": "stream",
     "text": [
      "The feature importances of the RF model: \n",
      "\n"
     ]
    },
    {
     "data": {
      "image/png": "[encoded data removed]",
      "text/plain": [
       "<Figure size 432x288 with 1 Axes>"
      ]
     },
     "metadata": {
      "needs_background": "light"
     },
     "output_type": "display_data"
    }
   ],
   "source": [
    "# Feature importance RFC\n",
    "print(\"The feature importances of the RF model: \\n\")\n",
    "feat_importances_rf = pd.Series(rf2.feature_importances_, index= X_var_labels)\n",
    "feat_importances_rf.nlargest(20).plot(kind='barh');"
   ]
  },
  {
   "cell_type": "code",
   "execution_count": 80,
   "metadata": {},
   "outputs": [
    {
     "name": "stdout",
     "output_type": "stream",
     "text": [
      "XGB AUC is: 0.7149\n",
      "RFC AUC is: 0.7466\n"
     ]
    }
   ],
   "source": [
    "print('XGB AUC is: {:.4}'.format(roc_auc_score(y_val, xgb2.predict_proba(X_val)[:,1])))\n",
    "print('RFC AUC is: {:.4}'.format(roc_auc_score(y_val, rf2.predict_proba(X_val)[:,1])))"
   ]
  },
  {
   "cell_type": "markdown",
   "metadata": {},
   "source": [
    "The AUC scores of the both models with best parameters show a significant difference. The RFC seems to overperform compared to XGB significantly. Moreover RFC seems to be more robust giving less importance to the missing values in the delivery time. However, further analysis will be carried out. Confusion matrix and the metrics related to it are analyzed below. In this problem, the returned items belong to the positive class(1) while nonreturned items belong to the negative class(0).\n",
    "\n",
    "Note: The labels are slightly different from the lecture notes. Predicted values are on x axis while real outcomes are on y axis. The confusion matrix is formed with the help of the following blog post: https://medium.com/@dtuk81/confusion-matrix-visualization-fc31e3f30fea"
   ]
  },
  {
   "cell_type": "code",
   "execution_count": 81,
   "metadata": {},
   "outputs": [
    {
     "data": {
      "text/plain": [
       "(2.0, 0.0)"
      ]
     },
     "execution_count": 81,
     "metadata": {},
     "output_type": "execute_result"
    },
    {
     "data": {
      "image/png": "[encoded data removed]",
      "text/plain": [
       "<Figure size 720x360 with 2 Axes>"
      ]
     },
     "metadata": {
      "needs_background": "light"
     },
     "output_type": "display_data"
    }
   ],
   "source": [
    "#The confusion matrix for the XGB is formed\n",
    "cmat = metrics.confusion_matrix(y_val, xgb2.predict(X_val)) \n",
    "plt.figure(figsize=(10,5))\n",
    "group_names = [\"TN\",\"FP\",\"FN\",\"TP\"]\n",
    "group_counts = [\"{0:0.0f}\".format(value) for value in\n",
    "                cmat.flatten()]\n",
    "group_percentages = [\"{0:.2%}\".format(value) for value in\n",
    "                     cmat.flatten()/np.sum(cmat)]\n",
    "labels = [f\"{v1}\\n{v2}\\n{v3}\" for v1, v2, v3 in\n",
    "          zip(group_names,group_counts,group_percentages)]\n",
    "labels = np.asarray(labels).reshape(2,2)\n",
    "ax=sns.heatmap(cmat, annot=labels, fmt=\"\", cmap='Blues')\n",
    "\n",
    "#The top and bottom of the y axis is calibrated so that table seems complete.(A problem about the matplotlib version is handled)\n",
    "bottom, top = ax.get_ylim()\n",
    "ax.set_ylim(bottom + 0.5, top - 0.5)"
   ]
  },
  {
   "cell_type": "code",
   "execution_count": 82,
   "metadata": {},
   "outputs": [
    {
     "data": {
      "text/plain": [
       "(2.0, 0.0)"
      ]
     },
     "execution_count": 82,
     "metadata": {},
     "output_type": "execute_result"
    },
    {
     "data": {
      "image/png": "[encoded data removed]",
      "text/plain": [
       "<Figure size 720x360 with 2 Axes>"
      ]
     },
     "metadata": {
      "needs_background": "light"
     },
     "output_type": "display_data"
    }
   ],
   "source": [
    "#The confusion matrix for the RFC is formed\n",
    "cmat2 = metrics.confusion_matrix(y_val, rf2.predict(X_val))\n",
    "plt.figure(figsize=(10,5))\n",
    "group_names = [\"TN\",\"FP\",\"FN\",\"TP\"]\n",
    "group_counts = [\"{0:0.0f}\".format(value) for value in\n",
    "                cmat2.flatten()]\n",
    "group_percentages = [\"{0:.2%}\".format(value) for value in\n",
    "                     cmat2.flatten()/np.sum(cmat)]\n",
    "labels = [f\"{v1}\\n{v2}\\n{v3}\" for v1, v2, v3 in\n",
    "          zip(group_names,group_counts,group_percentages)]\n",
    "labels = np.asarray(labels).reshape(2,2)\n",
    "ax=sns.heatmap(cmat2, annot=labels, fmt=\"\", cmap='Blues')\n",
    "\n",
    "#The top and bottom of the y axis is calibrated so that table seems complete.(A problem about the matplotlib version is handled)\n",
    "bottom, top = ax.get_ylim()\n",
    "ax.set_ylim(bottom + 0.5, top - 0.5)"
   ]
  },
  {
   "cell_type": "markdown",
   "metadata": {},
   "source": [
    "The RFC yields a smaller FPR while XGB is slightly better in terms of FNR. However, since both of the false predictions FN and FP yield costs for the company further analysis should be taken into account. As a preliminary analysis, one can say that a false positive is usually more costly because of the higher coefficient in front of the item_price in the cost matrix. However, this issue will be analyzed in a more detailed fashion in the model evaluation part."
   ]
  },
  {
   "cell_type": "code",
   "execution_count": 83,
   "metadata": {},
   "outputs": [],
   "source": [
    "df_pred= pd.DataFrame(columns = [\"p_xgb\",\"p_rf\"])\n",
    "df_pred[\"p_xgb\"]=xgb2.predict_proba(X_val)[:,1]\n",
    "df_pred[\"p_rf\"]=rf2.predict_proba(X_val)[:,1]"
   ]
  },
  {
   "cell_type": "code",
   "execution_count": 84,
   "metadata": {},
   "outputs": [
    {
     "data": {
      "image/png": "[encoded data removed]",
      "text/plain": [
       "<Figure size 432x288 with 1 Axes>"
      ]
     },
     "metadata": {
      "needs_background": "light"
     },
     "output_type": "display_data"
    }
   ],
   "source": [
    "# The ROC curve is manually plotted.\n",
    "fpr_xgb, tpr_xgb, _ = metrics.roc_curve(y_val,df_pred[\"p_xgb\"].values) \n",
    "fpr_rf, tpr_rf, _ = metrics.roc_curve(y_val,df_pred[\"p_rf\"].values)\n",
    "\n",
    "# Compute AUC\n",
    "auc_xgb = metrics.auc(fpr_xgb, tpr_xgb) \n",
    "auc_rf = metrics.auc(fpr_rf, tpr_rf)\n",
    "\n",
    "# ROC curve\n",
    "plt.plot(fpr_xgb, tpr_xgb, \"b\", label=\"XGB = %0.4f\" % auc_xgb)\n",
    "plt.plot(fpr_rf, tpr_rf, \"b\", label=\"RFC= %0.4f\" % auc_rf, color='green')\n",
    "\n",
    "# Random benchmark\n",
    "plt.plot([0, 1], [0, 1], \"r--\");  \n",
    "\n",
    "# Plot configuration\n",
    "plt.title('ROC curve of XGB and RFC Models')\n",
    "plt.ylabel(\"True Positive Rate\")\n",
    "plt.xlabel(\"False Positive Rate\")\n",
    "plt.legend(loc=\"lower right\")\n",
    "plt.show()"
   ]
  },
  {
   "cell_type": "markdown",
   "metadata": {},
   "source": [
    "The ROC Curve of RFC is outperforming the XGB for most of the thresholds as the graph above illustrates. Moreover the AUC score of RFC is also significantly higher. The previous analysis also concluded that the RFC is a more robust option. Therefore, RFC is chosen as the best model while entering to the hyperparameter tuning section."
   ]
  },
  {
   "cell_type": "markdown",
   "metadata": {},
   "source": [
    "# Hyperparameter Tuning for RFC Model"
   ]
  },
  {
   "cell_type": "markdown",
   "metadata": {},
   "source": [
    "The approach that is carried out in this step is heavily influenced by the following post: https://towardsdatascience.com/hyperparameter-tuning-the-random-forest-in-python-using-scikit-learn-28d2aa77dd74.\n",
    "The adopted strategy consists of two steps. In the first step the tuning a random search is carried out with cross validation.  The benefit of a random search is that we are not trying every combination, but selecting at random to sample a wide range of values which significantly reduces the cost while giving us a good starting point for grid search. After evaluating the random search, a grid search with cross validation is carried out to reach the optimum values for the hyperparameters."
   ]
  },
  {
   "cell_type": "code",
   "execution_count": 85,
   "metadata": {},
   "outputs": [
    {
     "name": "stdout",
     "output_type": "stream",
     "text": [
      "{'n_estimators': [100, 150, 200, 250, 300], 'max_features': [4, 5]}\n"
     ]
    }
   ],
   "source": [
    "from sklearn.model_selection import RandomizedSearchCV\n",
    "# Number of trees in random forest\n",
    "n_estimators = [int(x) for x in np.linspace(start = 100, stop = 300, num = 5)]\n",
    "# Number of features to consider at every split\n",
    "max_features = [4,5]\n",
    "\n",
    "# Create the random grid\n",
    "random_grid = {'n_estimators': n_estimators,\n",
    "               'max_features': max_features,\n",
    "               }\n",
    "print(random_grid)"
   ]
  },
  {
   "cell_type": "code",
   "execution_count": 86,
   "metadata": {},
   "outputs": [
    {
     "name": "stdout",
     "output_type": "stream",
     "text": [
      "Fitting 3 folds for each of 5 candidates, totalling 15 fits\n"
     ]
    },
    {
     "name": "stderr",
     "output_type": "stream",
     "text": [
      "[Parallel(n_jobs=-1)]: Using backend LokyBackend with 4 concurrent workers.\n",
      "[Parallel(n_jobs=-1)]: Done  15 out of  15 | elapsed:  3.2min finished\n"
     ]
    },
    {
     "data": {
      "text/plain": [
       "RandomizedSearchCV(cv=3, error_score='raise-deprecating',\n",
       "                   estimator=RandomForestClassifier(bootstrap=True,\n",
       "                                                    class_weight=None,\n",
       "                                                    criterion='gini',\n",
       "                                                    max_depth=None,\n",
       "                                                    max_features='auto',\n",
       "                                                    max_leaf_nodes=None,\n",
       "                                                    min_impurity_decrease=0.0,\n",
       "                                                    min_impurity_split=None,\n",
       "                                                    min_samples_leaf=1,\n",
       "                                                    min_samples_split=2,\n",
       "                                                    min_weight_fraction_leaf=0.0,\n",
       "                                                    n_estimators='warn',\n",
       "                                                    n_jobs=-1, oob_score=False,\n",
       "                                                    random_state=123, verbose=0,\n",
       "                                                    warm_start=False),\n",
       "                   iid='warn', n_iter=5, n_jobs=-1,\n",
       "                   param_distributions={'max_features': [4, 5],\n",
       "                                        'n_estimators': [100, 150, 200, 250,\n",
       "                                                         300]},\n",
       "                   pre_dispatch='2*n_jobs', random_state=123, refit=True,\n",
       "                   return_train_score=False, scoring=None, verbose=2)"
      ]
     },
     "execution_count": 86,
     "metadata": {},
     "output_type": "execute_result"
    }
   ],
   "source": [
    "rf_random = RandomizedSearchCV(estimator = rf, param_distributions = random_grid, n_iter = 5, cv = 3, verbose=2, random_state=123, n_jobs = -1)\n",
    "rf_random.fit(X_train, y_train.values.ravel())"
   ]
  },
  {
   "cell_type": "code",
   "execution_count": 87,
   "metadata": {},
   "outputs": [
    {
     "name": "stdout",
     "output_type": "stream",
     "text": [
      "RFC AUC after random search is: 0.7491\n",
      "Optimal RFC meta-parameters after random search:\n",
      "{'n_estimators': 300, 'max_features': 4}\n"
     ]
    }
   ],
   "source": [
    "print('RFC AUC after random search is: {:.4}'.format(roc_auc_score(y_val, rf_random.predict_proba(X_val)[:,1])))\n",
    "print(\"Optimal RFC meta-parameters after random search:\")\n",
    "print(rf_random.best_params_)"
   ]
  },
  {
   "cell_type": "code",
   "execution_count": 88,
   "metadata": {},
   "outputs": [],
   "source": [
    "# Determining the optimal parameter grid\n",
    "param_grid = {\n",
    "    'max_features': [4, 5],\n",
    "    'n_estimators': [200, 250, 300]\n",
    "}"
   ]
  },
  {
   "cell_type": "code",
   "execution_count": 89,
   "metadata": {},
   "outputs": [
    {
     "name": "stdout",
     "output_type": "stream",
     "text": [
      "Fitting 3 folds for each of 6 candidates, totalling 18 fits\n"
     ]
    },
    {
     "name": "stderr",
     "output_type": "stream",
     "text": [
      "[Parallel(n_jobs=-1)]: Using backend LokyBackend with 4 concurrent workers.\n",
      "[Parallel(n_jobs=-1)]: Done  18 out of  18 | elapsed:  4.8min finished\n"
     ]
    },
    {
     "data": {
      "text/plain": [
       "GridSearchCV(cv=3, error_score='raise-deprecating',\n",
       "             estimator=RandomForestClassifier(bootstrap=True, class_weight=None,\n",
       "                                              criterion='gini', max_depth=None,\n",
       "                                              max_features='auto',\n",
       "                                              max_leaf_nodes=None,\n",
       "                                              min_impurity_decrease=0.0,\n",
       "                                              min_impurity_split=None,\n",
       "                                              min_samples_leaf=1,\n",
       "                                              min_samples_split=2,\n",
       "                                              min_weight_fraction_leaf=0.0,\n",
       "                                              n_estimators='warn', n_jobs=-1,\n",
       "                                              oob_score=False, random_state=123,\n",
       "                                              verbose=0, warm_start=False),\n",
       "             iid='warn', n_jobs=-1,\n",
       "             param_grid={'max_features': [4, 5],\n",
       "                         'n_estimators': [200, 250, 300]},\n",
       "             pre_dispatch='2*n_jobs', refit=True, return_train_score=False,\n",
       "             scoring=None, verbose=2)"
      ]
     },
     "execution_count": 89,
     "metadata": {},
     "output_type": "execute_result"
    }
   ],
   "source": [
    "# Instantiate the grid search model\n",
    "grid_search = GridSearchCV(estimator = rf, param_grid = param_grid, cv = 3, n_jobs = -1, verbose = 2)\n",
    "grid_search.fit(X_train, y_train.values.ravel())"
   ]
  },
  {
   "cell_type": "code",
   "execution_count": 90,
   "metadata": {},
   "outputs": [
    {
     "name": "stdout",
     "output_type": "stream",
     "text": [
      "RFC AUC after grid search is: 0.7495\n",
      "Optimal RFC meta-parameters after grid search:\n",
      "{'max_features': 5, 'n_estimators': 300}\n"
     ]
    }
   ],
   "source": [
    "print('RFC AUC after grid search is: {:.4}'.format(roc_auc_score(y_val, grid_search.predict_proba(X_val)[:,1])))\n",
    "print(\"Optimal RFC meta-parameters after grid search:\")\n",
    "print(grid_search.best_params_)"
   ]
  },
  {
   "cell_type": "markdown",
   "metadata": {},
   "source": [
    "After the hyperparameter tuning part the AUC score of the model has increased significantly as the above analysis shows. Although it might be possible to increase it even further by increasing the number of estimators, it is not suggested for mainly one reason. It increases the computational complexity and therefore the cost of the model. In order to reduce the runtime for GridSearch(), 300 is determenined to be a good cutoff point since the marginal contribution of the AUC score seemed to be slightly improving the model afterwards."
   ]
  },
  {
   "cell_type": "markdown",
   "metadata": {},
   "source": [
    "## Post Processing for Cost Sensitivity"
   ]
  },
  {
   "cell_type": "markdown",
   "metadata": {},
   "source": [
    "Until now, only the AUC scores of the models are taken into account for model improvement. In order to make the model cost sensitive, the RFC model will be combined with Bayes decision theory. This way, case specific threshold values will be achieved to assign each case into a return or a non-return which will minimize the costs. Then the base model with 0.5 cutoff will be compared with the cost sensitive model to analyze the improvement in terms of cost."
   ]
  },
  {
   "cell_type": "code",
   "execution_count": 91,
   "metadata": {},
   "outputs": [
    {
     "data": {
      "text/plain": [
       "RandomForestClassifier(bootstrap=True, class_weight=None, criterion='gini',\n",
       "                       max_depth=None, max_features=5, max_leaf_nodes=None,\n",
       "                       min_impurity_decrease=0.0, min_impurity_split=None,\n",
       "                       min_samples_leaf=1, min_samples_split=2,\n",
       "                       min_weight_fraction_leaf=0.0, n_estimators=300,\n",
       "                       n_jobs=None, oob_score=False, random_state=123,\n",
       "                       verbose=0, warm_start=False)"
      ]
     },
     "execution_count": 91,
     "metadata": {},
     "output_type": "execute_result"
    }
   ],
   "source": [
    "# The random forest classifier with optimal parameters is chosen.\n",
    "rf_best = RandomForestClassifier(n_estimators=300, max_features=5, random_state = 123) \n",
    "rf_best.fit(X_train, y_train.values.ravel())"
   ]
  },
  {
   "cell_type": "markdown",
   "metadata": {},
   "source": [
    "In this part of the project, The Foundations of Cost-Sensitive Learning by Charles Elkan was followed in order to make optimal decisions. The probability of an item being returned is multiplied by the cost of predicting false negatives to find out the expected costs of predicting 0 incorrectly. On the other hand the probability of an item being non-returned is multipled by the cost of predicting false positive to find out the expected costs of predicting 1 incorrectly. The expected costs are compared to come up with an optimal solution."
   ]
  },
  {
   "cell_type": "code",
   "execution_count": 92,
   "metadata": {},
   "outputs": [],
   "source": [
    "# The probabilities of return and non-return are put into a dataframe.\n",
    "probs=rf_best.predict_proba(X_val)\n",
    "df = pd.DataFrame(probs, columns =['prob_0', 'prob_1']) \n",
    "\n",
    "# The prices of the items are also added since they exist in the cost matrix.\n",
    "prices=X_val.item_price.reset_index().drop(\"index\",axis=1)\n",
    "df[\"item_price\"]=prices\n",
    "\n",
    "# The FP and FN costs are calculated according to the cost matrix.\n",
    "df[\"FP_cost\"]=df.item_price/2\n",
    "df[\"FN_cost\"]=7.5+0.25*df.item_price\n",
    "\n",
    "# The expected cost of predicting zero and predicting 1 is calculated for each case.\n",
    "df[\"cost_pred_0\"]=df.FN_cost*df[\"prob_1\"]\n",
    "df[\"cost_pred_1\"]=df.FP_cost*df[\"prob_0\"]\n",
    "\n",
    "# The decision of base model and the cost sensitive model is added into the dataframe.\n",
    "df['Y_hat_base'] = np.where((df[\"prob_1\"] > 0.5) #The base model assigns 1 whenever prob_1 is greater than 0.5\n",
    "                     ,1,0)\n",
    "df['Y_hat_cost'] = np.where((df[\"cost_pred_0\"] > df[\"cost_pred_1\"]) #The cost sensitive model assigns 1 whenever cost of predicting 1 is smaller.\n",
    "                     ,1,0)"
   ]
  },
  {
   "cell_type": "code",
   "execution_count": 93,
   "metadata": {},
   "outputs": [
    {
     "data": {
      "text/html": [
       "<div>\n",
       "<style scoped>\n",
       "    .dataframe tbody tr th:only-of-type {\n",
       "        vertical-align: middle;\n",
       "    }\n",
       "\n",
       "    .dataframe tbody tr th {\n",
       "        vertical-align: top;\n",
       "    }\n",
       "\n",
       "    .dataframe thead th {\n",
       "        text-align: right;\n",
       "    }\n",
       "</style>\n",
       "<table border=\"1\" class=\"dataframe\">\n",
       "  <thead>\n",
       "    <tr style=\"text-align: right;\">\n",
       "      <th></th>\n",
       "      <th>prob_0</th>\n",
       "      <th>prob_1</th>\n",
       "      <th>item_price</th>\n",
       "      <th>FP_cost</th>\n",
       "      <th>FN_cost</th>\n",
       "      <th>cost_pred_0</th>\n",
       "      <th>cost_pred_1</th>\n",
       "      <th>Y_hat_base</th>\n",
       "      <th>Y_hat_cost</th>\n",
       "    </tr>\n",
       "  </thead>\n",
       "  <tbody>\n",
       "    <tr>\n",
       "      <td>0</td>\n",
       "      <td>0.903333</td>\n",
       "      <td>0.096667</td>\n",
       "      <td>21.90</td>\n",
       "      <td>10.950</td>\n",
       "      <td>12.9750</td>\n",
       "      <td>1.254250</td>\n",
       "      <td>9.891500</td>\n",
       "      <td>0</td>\n",
       "      <td>0</td>\n",
       "    </tr>\n",
       "    <tr>\n",
       "      <td>1</td>\n",
       "      <td>0.900556</td>\n",
       "      <td>0.099444</td>\n",
       "      <td>0.00</td>\n",
       "      <td>0.000</td>\n",
       "      <td>7.5000</td>\n",
       "      <td>0.745833</td>\n",
       "      <td>0.000000</td>\n",
       "      <td>0</td>\n",
       "      <td>1</td>\n",
       "    </tr>\n",
       "    <tr>\n",
       "      <td>2</td>\n",
       "      <td>0.486667</td>\n",
       "      <td>0.513333</td>\n",
       "      <td>99.90</td>\n",
       "      <td>49.950</td>\n",
       "      <td>32.4750</td>\n",
       "      <td>16.670500</td>\n",
       "      <td>24.309000</td>\n",
       "      <td>1</td>\n",
       "      <td>0</td>\n",
       "    </tr>\n",
       "    <tr>\n",
       "      <td>3</td>\n",
       "      <td>0.578889</td>\n",
       "      <td>0.421111</td>\n",
       "      <td>69.90</td>\n",
       "      <td>34.950</td>\n",
       "      <td>24.9750</td>\n",
       "      <td>10.517250</td>\n",
       "      <td>20.232167</td>\n",
       "      <td>0</td>\n",
       "      <td>0</td>\n",
       "    </tr>\n",
       "    <tr>\n",
       "      <td>4</td>\n",
       "      <td>0.706667</td>\n",
       "      <td>0.293333</td>\n",
       "      <td>19.90</td>\n",
       "      <td>9.950</td>\n",
       "      <td>12.4750</td>\n",
       "      <td>3.659333</td>\n",
       "      <td>7.031333</td>\n",
       "      <td>0</td>\n",
       "      <td>0</td>\n",
       "    </tr>\n",
       "    <tr>\n",
       "      <td>5</td>\n",
       "      <td>0.599167</td>\n",
       "      <td>0.400833</td>\n",
       "      <td>59.90</td>\n",
       "      <td>29.950</td>\n",
       "      <td>22.4750</td>\n",
       "      <td>9.008729</td>\n",
       "      <td>17.945042</td>\n",
       "      <td>0</td>\n",
       "      <td>0</td>\n",
       "    </tr>\n",
       "    <tr>\n",
       "      <td>6</td>\n",
       "      <td>0.586667</td>\n",
       "      <td>0.413333</td>\n",
       "      <td>99.90</td>\n",
       "      <td>49.950</td>\n",
       "      <td>32.4750</td>\n",
       "      <td>13.423000</td>\n",
       "      <td>29.304000</td>\n",
       "      <td>0</td>\n",
       "      <td>0</td>\n",
       "    </tr>\n",
       "    <tr>\n",
       "      <td>7</td>\n",
       "      <td>0.943333</td>\n",
       "      <td>0.056667</td>\n",
       "      <td>6.90</td>\n",
       "      <td>3.450</td>\n",
       "      <td>9.2250</td>\n",
       "      <td>0.522750</td>\n",
       "      <td>3.254500</td>\n",
       "      <td>0</td>\n",
       "      <td>0</td>\n",
       "    </tr>\n",
       "    <tr>\n",
       "      <td>8</td>\n",
       "      <td>0.671111</td>\n",
       "      <td>0.328889</td>\n",
       "      <td>54.90</td>\n",
       "      <td>27.450</td>\n",
       "      <td>21.2250</td>\n",
       "      <td>6.980667</td>\n",
       "      <td>18.422000</td>\n",
       "      <td>0</td>\n",
       "      <td>0</td>\n",
       "    </tr>\n",
       "    <tr>\n",
       "      <td>9</td>\n",
       "      <td>0.430556</td>\n",
       "      <td>0.569444</td>\n",
       "      <td>59.90</td>\n",
       "      <td>29.950</td>\n",
       "      <td>22.4750</td>\n",
       "      <td>12.798264</td>\n",
       "      <td>12.895139</td>\n",
       "      <td>1</td>\n",
       "      <td>0</td>\n",
       "    </tr>\n",
       "    <tr>\n",
       "      <td>10</td>\n",
       "      <td>0.600000</td>\n",
       "      <td>0.400000</td>\n",
       "      <td>24.90</td>\n",
       "      <td>12.450</td>\n",
       "      <td>13.7250</td>\n",
       "      <td>5.490000</td>\n",
       "      <td>7.470000</td>\n",
       "      <td>0</td>\n",
       "      <td>0</td>\n",
       "    </tr>\n",
       "    <tr>\n",
       "      <td>11</td>\n",
       "      <td>0.525000</td>\n",
       "      <td>0.475000</td>\n",
       "      <td>69.90</td>\n",
       "      <td>34.950</td>\n",
       "      <td>24.9750</td>\n",
       "      <td>11.863125</td>\n",
       "      <td>18.348750</td>\n",
       "      <td>0</td>\n",
       "      <td>0</td>\n",
       "    </tr>\n",
       "    <tr>\n",
       "      <td>12</td>\n",
       "      <td>0.026667</td>\n",
       "      <td>0.973333</td>\n",
       "      <td>44.90</td>\n",
       "      <td>22.450</td>\n",
       "      <td>18.7250</td>\n",
       "      <td>18.225667</td>\n",
       "      <td>0.598667</td>\n",
       "      <td>1</td>\n",
       "      <td>1</td>\n",
       "    </tr>\n",
       "    <tr>\n",
       "      <td>13</td>\n",
       "      <td>1.000000</td>\n",
       "      <td>0.000000</td>\n",
       "      <td>65.95</td>\n",
       "      <td>32.975</td>\n",
       "      <td>23.9875</td>\n",
       "      <td>0.000000</td>\n",
       "      <td>32.975000</td>\n",
       "      <td>0</td>\n",
       "      <td>0</td>\n",
       "    </tr>\n",
       "    <tr>\n",
       "      <td>14</td>\n",
       "      <td>0.428111</td>\n",
       "      <td>0.571889</td>\n",
       "      <td>149.90</td>\n",
       "      <td>74.950</td>\n",
       "      <td>44.9750</td>\n",
       "      <td>25.720703</td>\n",
       "      <td>32.086928</td>\n",
       "      <td>1</td>\n",
       "      <td>0</td>\n",
       "    </tr>\n",
       "    <tr>\n",
       "      <td>15</td>\n",
       "      <td>0.088111</td>\n",
       "      <td>0.911889</td>\n",
       "      <td>99.90</td>\n",
       "      <td>49.950</td>\n",
       "      <td>32.4750</td>\n",
       "      <td>29.613592</td>\n",
       "      <td>4.401150</td>\n",
       "      <td>1</td>\n",
       "      <td>1</td>\n",
       "    </tr>\n",
       "    <tr>\n",
       "      <td>16</td>\n",
       "      <td>0.847333</td>\n",
       "      <td>0.152667</td>\n",
       "      <td>0.00</td>\n",
       "      <td>0.000</td>\n",
       "      <td>7.5000</td>\n",
       "      <td>1.145000</td>\n",
       "      <td>0.000000</td>\n",
       "      <td>0</td>\n",
       "      <td>1</td>\n",
       "    </tr>\n",
       "    <tr>\n",
       "      <td>17</td>\n",
       "      <td>0.709444</td>\n",
       "      <td>0.290556</td>\n",
       "      <td>9.90</td>\n",
       "      <td>4.950</td>\n",
       "      <td>9.9750</td>\n",
       "      <td>2.898292</td>\n",
       "      <td>3.511750</td>\n",
       "      <td>0</td>\n",
       "      <td>0</td>\n",
       "    </tr>\n",
       "    <tr>\n",
       "      <td>18</td>\n",
       "      <td>0.026667</td>\n",
       "      <td>0.973333</td>\n",
       "      <td>59.90</td>\n",
       "      <td>29.950</td>\n",
       "      <td>22.4750</td>\n",
       "      <td>21.875667</td>\n",
       "      <td>0.798667</td>\n",
       "      <td>1</td>\n",
       "      <td>1</td>\n",
       "    </tr>\n",
       "    <tr>\n",
       "      <td>19</td>\n",
       "      <td>0.400278</td>\n",
       "      <td>0.599722</td>\n",
       "      <td>134.90</td>\n",
       "      <td>67.450</td>\n",
       "      <td>41.2250</td>\n",
       "      <td>24.723549</td>\n",
       "      <td>26.998736</td>\n",
       "      <td>1</td>\n",
       "      <td>0</td>\n",
       "    </tr>\n",
       "  </tbody>\n",
       "</table>\n",
       "</div>"
      ],
      "text/plain": [
       "      prob_0    prob_1  item_price  FP_cost  FN_cost  cost_pred_0  \\\n",
       "0   0.903333  0.096667       21.90   10.950  12.9750     1.254250   \n",
       "1   0.900556  0.099444        0.00    0.000   7.5000     0.745833   \n",
       "2   0.486667  0.513333       99.90   49.950  32.4750    16.670500   \n",
       "3   0.578889  0.421111       69.90   34.950  24.9750    10.517250   \n",
       "4   0.706667  0.293333       19.90    9.950  12.4750     3.659333   \n",
       "5   0.599167  0.400833       59.90   29.950  22.4750     9.008729   \n",
       "6   0.586667  0.413333       99.90   49.950  32.4750    13.423000   \n",
       "7   0.943333  0.056667        6.90    3.450   9.2250     0.522750   \n",
       "8   0.671111  0.328889       54.90   27.450  21.2250     6.980667   \n",
       "9   0.430556  0.569444       59.90   29.950  22.4750    12.798264   \n",
       "10  0.600000  0.400000       24.90   12.450  13.7250     5.490000   \n",
       "11  0.525000  0.475000       69.90   34.950  24.9750    11.863125   \n",
       "12  0.026667  0.973333       44.90   22.450  18.7250    18.225667   \n",
       "13  1.000000  0.000000       65.95   32.975  23.9875     0.000000   \n",
       "14  0.428111  0.571889      149.90   74.950  44.9750    25.720703   \n",
       "15  0.088111  0.911889       99.90   49.950  32.4750    29.613592   \n",
       "16  0.847333  0.152667        0.00    0.000   7.5000     1.145000   \n",
       "17  0.709444  0.290556        9.90    4.950   9.9750     2.898292   \n",
       "18  0.026667  0.973333       59.90   29.950  22.4750    21.875667   \n",
       "19  0.400278  0.599722      134.90   67.450  41.2250    24.723549   \n",
       "\n",
       "    cost_pred_1  Y_hat_base  Y_hat_cost  \n",
       "0      9.891500           0           0  \n",
       "1      0.000000           0           1  \n",
       "2     24.309000           1           0  \n",
       "3     20.232167           0           0  \n",
       "4      7.031333           0           0  \n",
       "5     17.945042           0           0  \n",
       "6     29.304000           0           0  \n",
       "7      3.254500           0           0  \n",
       "8     18.422000           0           0  \n",
       "9     12.895139           1           0  \n",
       "10     7.470000           0           0  \n",
       "11    18.348750           0           0  \n",
       "12     0.598667           1           1  \n",
       "13    32.975000           0           0  \n",
       "14    32.086928           1           0  \n",
       "15     4.401150           1           1  \n",
       "16     0.000000           0           1  \n",
       "17     3.511750           0           0  \n",
       "18     0.798667           1           1  \n",
       "19    26.998736           1           0  "
      ]
     },
     "execution_count": 93,
     "metadata": {},
     "output_type": "execute_result"
    }
   ],
   "source": [
    "df.head(n=20)"
   ]
  },
  {
   "cell_type": "markdown",
   "metadata": {},
   "source": [
    "Analyzing the table above one might see that the cost sensitive model is more inclined to predict that the item will be returned(\"1\") whenever the item_price is low. On the other hand, as the item_price increases it changes the behavior of cost sensitive model to make more (\"0\") decisions. This outcome mainly stems from the properties of the cost matrix. It becomes too costly to predict 1 after a certain price."
   ]
  },
  {
   "cell_type": "code",
   "execution_count": 94,
   "metadata": {},
   "outputs": [],
   "source": [
    "# The validation labels are also added in order to find out whether model predicts a FP or FN.\n",
    "Y_real=y_val.returned.reset_index().drop(\"index\",axis=1)\n",
    "df[\"Y_real\"]=Y_real\n",
    "df[\"Y_real\"] = df[\"Y_real\"].astype(int)"
   ]
  },
  {
   "cell_type": "code",
   "execution_count": 95,
   "metadata": {},
   "outputs": [],
   "source": [
    "# The base model costs are found out.\n",
    "conditions = [\n",
    "    (df['Y_hat_base'] > df['Y_real']), \n",
    "    df['Y_hat_base'] < df['Y_real']]\n",
    "\n",
    "choices = [df['FP_cost'], df['FN_cost']]\n",
    "\n",
    "df['Base_Cost'] = np.select(conditions, choices, default=0)"
   ]
  },
  {
   "cell_type": "markdown",
   "metadata": {},
   "source": [
    "Whenever the base model predicts 1 and the real model predicts 0, Y_hat_base > Y_real. Therefore, in this instance a false positive would be achieved and the related cost would be taken into account. On the other hand, when Y_hat_base < Y_real,a false negative case would be achieved. The related costs are added in a new column named \"Base_Cost\" which stands for the total cost of the base model when the cutoff was determined as 0.5. The same procedure is followed for the cost sensitive model below. This time the results are stored in \"Cost_Cost\" column which stands for the total cost of the cost sensitive model."
   ]
  },
  {
   "cell_type": "code",
   "execution_count": 96,
   "metadata": {},
   "outputs": [],
   "source": [
    "# The cost sensitive model costs are found out.\n",
    "conditions2 = [\n",
    "    (df['Y_hat_cost'] > df['Y_real']), \n",
    "    df['Y_hat_cost'] < df['Y_real']]\n",
    "\n",
    "choices2 = [df['FP_cost'], df['FN_cost']]\n",
    "\n",
    "df['Cost_Cost'] = np.select(conditions2, choices2, default=0)"
   ]
  },
  {
   "cell_type": "markdown",
   "metadata": {},
   "source": [
    "# Model Evaluation"
   ]
  },
  {
   "cell_type": "markdown",
   "metadata": {},
   "source": [
    "Since the AUC and ROC analysis have been thoroughly carried out until this part of the project, the confusion matrix and related metrics and the cost will be analyzed in this part."
   ]
  },
  {
   "cell_type": "code",
   "execution_count": 97,
   "metadata": {},
   "outputs": [
    {
     "name": "stdout",
     "output_type": "stream",
     "text": [
      "Total cost of base model is: 194598.10\n",
      "Total cost of cost sensitive model is: 181897.75\n"
     ]
    }
   ],
   "source": [
    "print('Total cost of base model is: {:.2f}'.format(df.Base_Cost.sum()))\n",
    "print('Total cost of cost sensitive model is: {:.2f}'.format(df.Cost_Cost.sum()))"
   ]
  },
  {
   "cell_type": "markdown",
   "metadata": {},
   "source": [
    "As it is seen above, the cost sensitive model has reduced the cost of the model significantly. Now that, the optimal cost sensitive model is chosen, the model might be reevaluated for other metrics according to the new predictions."
   ]
  },
  {
   "cell_type": "code",
   "execution_count": 98,
   "metadata": {},
   "outputs": [
    {
     "data": {
      "text/plain": [
       "(2.0, 0.0)"
      ]
     },
     "execution_count": 98,
     "metadata": {},
     "output_type": "execute_result"
    },
    {
     "data": {
      "image/png": "[encoded data removed]",
      "text/plain": [
       "<Figure size 720x360 with 2 Axes>"
      ]
     },
     "metadata": {
      "needs_background": "light"
     },
     "output_type": "display_data"
    }
   ],
   "source": [
    "#The confusion matrix for the RFC is formed\n",
    "cmat3 = metrics.confusion_matrix(y_val, df.Y_hat_cost)\n",
    "plt.figure(figsize=(10,5))\n",
    "group_names = [\"TN\",\"FP\",\"FN\",\"TP\"]\n",
    "group_counts = [\"{0:0.0f}\".format(value) for value in\n",
    "                cmat3.flatten()]\n",
    "group_percentages = [\"{0:.2%}\".format(value) for value in\n",
    "                     cmat3.flatten()/np.sum(cmat)]\n",
    "labels = [f\"{v1}\\n{v2}\\n{v3}\" for v1, v2, v3 in\n",
    "          zip(group_names,group_counts,group_percentages)]\n",
    "labels = np.asarray(labels).reshape(2,2)\n",
    "ax=sns.heatmap(cmat3, annot=labels, fmt=\"\", cmap='Blues')\n",
    "\n",
    "#The top and bottom of the y axis is calibrated so that table seems complete.(A problem about the matplotlib version is handled)\n",
    "bottom, top = ax.get_ylim()\n",
    "ax.set_ylim(bottom + 0.5, top - 0.5)"
   ]
  },
  {
   "cell_type": "markdown",
   "metadata": {},
   "source": [
    "The false positive rate is seemed to be further decreased when the model is tuned in a cost sensitive fashion. On the other hand, the FN rate has increased significantly. This proves that predicting a \"false positive\" is more costly on average compared to predicting a \"false negative\". Therefore, RFC proves to be a better option once more. In a more technical way, the model performs worse in terms of recall which can be seen below but it performs significantly better in terms of precision which yields a better cost."
   ]
  },
  {
   "cell_type": "code",
   "execution_count": 99,
   "metadata": {},
   "outputs": [
    {
     "name": "stdout",
     "output_type": "stream",
     "text": [
      "Accuracy of the model is: 0.6695\n",
      "Precision is: 0.6670\n",
      "Recall is: 0.5415\n"
     ]
    }
   ],
   "source": [
    "print('Accuracy of the model is: {:.4f}'.format((cmat3[1,1]+cmat3[0,0])/np.sum(cmat3)))\n",
    "print('Precision is: {:.4f}'.format(cmat3[1,1]/(cmat3[1,1]+cmat3[0,1])))\n",
    "print('Recall is: {:.4f}'.format(cmat3[1,1]/(cmat3[1,1]+cmat3[1,0])))"
   ]
  },
  {
   "cell_type": "markdown",
   "metadata": {},
   "source": [
    "# Conclusions"
   ]
  },
  {
   "cell_type": "markdown",
   "metadata": {},
   "source": [
    "The table below shows the performance comparison between the XGB, RFC and the tuned RFC model. The comparison is made according to three metrics. The AUC Score seems to increase significantly when RFC model is used and tuned. The precision is also increasing evidently. Precision is determined as an important performance measure since as precision increases, the model predicts less false positives which reduces the cost significantly as the previous analysis showed.  Accuracy of the RFC model is also higher than the XGB model which proves its superior predictive performance. Although the tuning of the model decreases the accuracy, the tuned model seems to perform better overall since the main performance criteria would be the cost of the model. In addition to these attributes, the RFC model seemed to be more robust in terms of the best features that the model takes into account as expressed before. The ROC curve of the RFC model also highly dominates the XGB model. No further analysis was needed to conclude that RFC outperforms XGB for this specific task."
   ]
  },
  {
   "cell_type": "code",
   "execution_count": 155,
   "metadata": {},
   "outputs": [
    {
     "name": "stdout",
     "output_type": "stream",
     "text": [
      "╒═══════════╤═════════════╤═════════════╤════════════╕\n",
      "│ Model     │   AUC_Score │   Precision │   Accuracy │\n",
      "╞═══════════╪═════════════╪═════════════╪════════════╡\n",
      "│ XGB       │    0.714925 │    0.601154 │    0.64995 │\n",
      "├───────────┼─────────────┼─────────────┼────────────┤\n",
      "│ RFC       │    0.746643 │    0.645528 │    0.67965 │\n",
      "├───────────┼─────────────┼─────────────┼────────────┤\n",
      "│ RFC_tuned │    0.749472 │    0.666984 │    0.6695  │\n",
      "╘═══════════╧═════════════╧═════════════╧════════════╛\n"
     ]
    }
   ],
   "source": [
    "#A quick comparison of XGB, RFC and tuned RFC in terms of AUC score and Recall\n",
    "data = [['Model','AUC_Score','Precision','Accuracy'],[\"XGB\",roc_auc_score(y_val, xgb2.predict_proba(X_val)[:,1]),cmat[1,1]/(cmat[1,1]+cmat[0,1]),(cmat[1,1]+cmat[0,0])/np.sum(cmat)], [\"RFC\",roc_auc_score(y_val, rf2.predict_proba(X_val)[:,1]),cmat2[1,1]/(cmat2[1,1]+cmat2[0,1]),(cmat2[1,1]+cmat2[0,0])/np.sum(cmat2)], [\"RFC_tuned\",roc_auc_score(y_val, grid_search.predict_proba(X_val)[:,1]),cmat3[1,1]/(cmat3[1,1]+cmat3[0,1]),(cmat3[1,1]+cmat3[0,0])/np.sum(cmat3)]]\n",
    "print(tabulate(data, headers='firstrow', tablefmt='fancy_grid'))"
   ]
  },
  {
   "cell_type": "markdown",
   "metadata": {},
   "source": [
    "After tuning the model one last step was to transform the model into a cost sensitive one. Bayes decision rule was followed for this case in a case specific manner. The assigning process of labels was explained thoroughly in the post processing part. The table below shows that the cost sensitive model outperforms the base model in terms of cost which completes our discussion. The final model to predict the outcome is determined."
   ]
  },
  {
   "cell_type": "code",
   "execution_count": 113,
   "metadata": {},
   "outputs": [
    {
     "name": "stdout",
     "output_type": "stream",
     "text": [
      "╒══════════════════════╤════════╕\n",
      "│ Model                │   Cost │\n",
      "╞══════════════════════╪════════╡\n",
      "│ Base Model           │ 194598 │\n",
      "├──────────────────────┼────────┤\n",
      "│ Cost Sensitive Model │ 181898 │\n",
      "╘══════════════════════╧════════╛\n"
     ]
    }
   ],
   "source": [
    "#A quick comparison of base and cost sensitive model in terms of cost\n",
    "data2=[[\"Model\",\"Cost\"],[\"Base Model\",df.Base_Cost.sum()],[\"Cost Sensitive Model\",df.Cost_Cost.sum()]]\n",
    "print(tabulate(data2, headers='firstrow', tablefmt='fancy_grid'))"
   ]
  },
  {
   "cell_type": "markdown",
   "metadata": {},
   "source": [
    "# TEST SET"
   ]
  },
  {
   "cell_type": "markdown",
   "metadata": {},
   "source": [
    "## Data Preprocessing"
   ]
  },
  {
   "cell_type": "markdown",
   "metadata": {},
   "source": [
    "In this part of the project, the steps that are followed for the train and validation sets will be repeated for the test set in order to come up with cost sensitive predictions. Since, the steps are basically same except additional data cleaning for item size categories, the operations will not be explained thorougly like before. "
   ]
  },
  {
   "cell_type": "code",
   "execution_count": 115,
   "metadata": {},
   "outputs": [],
   "source": [
    "#Test data is read\n",
    "df_unknown = pd.read_csv(r'C:\\Users\\Berkay Kocak\\Desktop\\BADS Assignment\\BADS_WS2021_unknown.csv', index_col='order_item_id')"
   ]
  },
  {
   "cell_type": "code",
   "execution_count": 116,
   "metadata": {},
   "outputs": [
    {
     "name": "stderr",
     "output_type": "stream",
     "text": [
      "C:\\Users\\Berkay Kocak\\Anaconda3\\lib\\site-packages\\ipykernel_launcher.py:2: SettingWithCopyWarning: \n",
      "A value is trying to be set on a copy of a slice from a DataFrame\n",
      "\n",
      "See the caveats in the documentation: http://pandas.pydata.org/pandas-docs/stable/user_guide/indexing.html#returning-a-view-versus-a-copy\n",
      "  \n"
     ]
    }
   ],
   "source": [
    "#It is discovered that there are some typos regarding the colors of the items.These mistakes are handled.\n",
    "df_unknown.item_color[df_unknown[\"item_color\"]==\"blau\"] = \"blue\"\n",
    "df_unknown.item_color[df_unknown[\"item_color\"]==\"brwon\"] = \"brown\""
   ]
  },
  {
   "cell_type": "code",
   "execution_count": 117,
   "metadata": {},
   "outputs": [
    {
     "name": "stderr",
     "output_type": "stream",
     "text": [
      "C:\\Users\\Berkay Kocak\\Anaconda3\\lib\\site-packages\\ipykernel_launcher.py:1: SettingWithCopyWarning: \n",
      "A value is trying to be set on a copy of a slice from a DataFrame\n",
      "\n",
      "See the caveats in the documentation: http://pandas.pydata.org/pandas-docs/stable/user_guide/indexing.html#returning-a-view-versus-a-copy\n",
      "  \"\"\"Entry point for launching an IPython kernel.\n"
     ]
    }
   ],
   "source": [
    "df_unknown.item_size[df_unknown[\"item_size\"]==\"110\"]=\"unsized\"\n",
    "df_unknown.item_size[df_unknown[\"item_size\"]==\"122\"]=\"unsized\"\n",
    "df_unknown.item_size[df_unknown[\"item_size\"]==\"4232\"]=\"unsized\"\n",
    "df_unknown.item_size[df_unknown[\"item_size\"]==\"95\"]=\"unsized\"\n",
    "df_unknown.item_size[df_unknown[\"item_size\"]==\"L\"]=\"l\"\n",
    "df_unknown.item_size[df_unknown[\"item_size\"]==\"M\"]=\"m\"\n",
    "df_unknown.item_size[df_unknown[\"item_size\"]==\"S\"]=\"s\"\n",
    "df_unknown.item_size[df_unknown[\"item_size\"]==\"XL\"]=\"xl\"\n",
    "df_unknown.item_size[df_unknown[\"item_size\"]==\"XS\"]=\"xs\"\n",
    "df_unknown.item_size[df_unknown[\"item_size\"]==\"XXL\"]=\"xxl\"\n",
    "df_unknown.item_size[df_unknown[\"item_size\"]==\"XXXL\"]=\"xxxl\""
   ]
  },
  {
   "cell_type": "markdown",
   "metadata": {},
   "source": [
    "It is discovered that in the test data there are some item sizes either that does not exist in the train data or that are labeled differently. The category levels that does not exist in the train data are labeled as \"unsized\" in the test data. The category levels that are labaled with uppercase letters are transformed into lowercase letters instead."
   ]
  },
  {
   "cell_type": "code",
   "execution_count": 118,
   "metadata": {},
   "outputs": [],
   "source": [
    "#data types of variables are changed\n",
    "df_unknown['order_date'] = pd.to_datetime(df_unknown['order_date'])\n",
    "df_unknown['delivery_date'] = pd.to_datetime(df_unknown['delivery_date'])\n",
    "df_unknown['user_dob'] = pd.to_datetime(df_unknown['user_dob'])\n",
    "df_unknown['user_reg_date'] = pd.to_datetime(df_unknown['user_reg_date'])\n",
    "df_unknown['item_size'] = df_unknown['item_size'].astype('category')\n",
    "df_unknown['item_color'] = df_unknown['item_color'].astype('category')\n",
    "df_unknown['user_title'] = df_unknown['user_title'].astype('category')\n",
    "df_unknown['user_state'] = df_unknown['user_state'].astype('category')"
   ]
  },
  {
   "cell_type": "code",
   "execution_count": 119,
   "metadata": {},
   "outputs": [],
   "source": [
    "#Adding delivery time\n",
    "df_unknown[\"delivery_time_weeks\"]=round((df_unknown[\"delivery_date\"]-df_unknown[\"order_date\"]).dt.days/7)"
   ]
  },
  {
   "cell_type": "code",
   "execution_count": 120,
   "metadata": {},
   "outputs": [
    {
     "name": "stderr",
     "output_type": "stream",
     "text": [
      "C:\\Users\\Berkay Kocak\\Anaconda3\\lib\\site-packages\\ipykernel_launcher.py:3: SettingWithCopyWarning: \n",
      "A value is trying to be set on a copy of a slice from a DataFrame\n",
      "\n",
      "See the caveats in the documentation: http://pandas.pydata.org/pandas-docs/stable/user_guide/indexing.html#returning-a-view-versus-a-copy\n",
      "  This is separate from the ipykernel package so we can avoid doing imports until\n"
     ]
    }
   ],
   "source": [
    "#Adding delivery time as category\n",
    "df_unknown[\"delivery_time_cat\"]=df_unknown.delivery_time_weeks.fillna(\"IsMissing\")\n",
    "df_unknown.delivery_time_cat[df_unknown[\"delivery_time_weeks\"]<0]=\"IsNegative\"\n",
    "df_unknown.delivery_time_cat[df_unknown[\"delivery_time_weeks\"]>=3]=\"3-4\"\n",
    "df_unknown.delivery_time_cat[df_unknown[\"delivery_time_weeks\"]>=5]=\"5+\""
   ]
  },
  {
   "cell_type": "code",
   "execution_count": 121,
   "metadata": {},
   "outputs": [
    {
     "name": "stderr",
     "output_type": "stream",
     "text": [
      "C:\\Users\\Berkay Kocak\\Anaconda3\\lib\\site-packages\\ipykernel_launcher.py:3: SettingWithCopyWarning: \n",
      "A value is trying to be set on a copy of a slice from a DataFrame\n",
      "\n",
      "See the caveats in the documentation: http://pandas.pydata.org/pandas-docs/stable/user_guide/indexing.html#returning-a-view-versus-a-copy\n",
      "  This is separate from the ipykernel package so we can avoid doing imports until\n"
     ]
    }
   ],
   "source": [
    "#fill missing values of delivery time\n",
    "df_unknown.delivery_time_weeks.fillna(1,inplace=True)\n",
    "df_unknown.delivery_time_weeks[df_unknown[\"delivery_time_weeks\"]<0]= 1"
   ]
  },
  {
   "cell_type": "code",
   "execution_count": 122,
   "metadata": {},
   "outputs": [],
   "source": [
    "#adding months since registration\n",
    "df_unknown[\"months_since_reg\"]=round((max(df_unknown[\"user_reg_date\"])-df_unknown[\"user_reg_date\"]).dt.days/30)"
   ]
  },
  {
   "cell_type": "code",
   "execution_count": 123,
   "metadata": {},
   "outputs": [],
   "source": [
    "#adding age\n",
    "df_unknown[\"age\"]=round((max(df_unknown[\"user_reg_date\"])-df_unknown[\"user_dob\"]).dt.days/365)"
   ]
  },
  {
   "cell_type": "code",
   "execution_count": 124,
   "metadata": {},
   "outputs": [
    {
     "name": "stderr",
     "output_type": "stream",
     "text": [
      "C:\\Users\\Berkay Kocak\\Anaconda3\\lib\\site-packages\\ipykernel_launcher.py:3: SettingWithCopyWarning: \n",
      "A value is trying to be set on a copy of a slice from a DataFrame\n",
      "\n",
      "See the caveats in the documentation: http://pandas.pydata.org/pandas-docs/stable/user_guide/indexing.html#returning-a-view-versus-a-copy\n",
      "  This is separate from the ipykernel package so we can avoid doing imports until\n"
     ]
    }
   ],
   "source": [
    "#adding age_cat\n",
    "df_unknown[\"age_cat\"]=df_unknown.age.fillna(\"Missing\")\n",
    "df_unknown.age_cat[df_unknown[\"age\"]<25]=\"Gen Z\"\n",
    "df_unknown.age_cat[df_unknown[\"age\"]>=25]=\"Gen Y\"\n",
    "df_unknown.age_cat[df_unknown[\"age\"]>=41]=\"Gen X\"\n",
    "df_unknown.age_cat[df_unknown[\"age\"]>=57]=\"Baby-Boomers\""
   ]
  },
  {
   "cell_type": "code",
   "execution_count": 125,
   "metadata": {},
   "outputs": [],
   "source": [
    "#filling na values of age column\n",
    "median2 = df_unknown[\"age\"].median(skipna=True)\n",
    "df_unknown[\"age\"].fillna(median2, inplace=True)"
   ]
  },
  {
   "cell_type": "code",
   "execution_count": 126,
   "metadata": {},
   "outputs": [],
   "source": [
    "#Adding new variables: purchase counts for each user,total purchase amounts for each user, purchase counts for each brand, purchase countes for each item.\n",
    "user_purchase_cnt2=df_unknown.groupby(\"user_id\")[\"item_price\"].count()\n",
    "user_purchase_amt2=df_unknown.groupby(\"user_id\")[\"item_price\"].sum()\n",
    "brand_purchase_cnt2=df_unknown.groupby(\"brand_id\")[\"item_price\"].count()\n",
    "item_purchase_cnt2=df_unknown.groupby(\"item_id\")[\"item_price\"].count()"
   ]
  },
  {
   "cell_type": "code",
   "execution_count": 127,
   "metadata": {},
   "outputs": [],
   "source": [
    "user_purchase_cnt2_df=user_purchase_cnt2.to_frame()\n",
    "user_purchase_cnt2_df=user_purchase_cnt2_df.rename({'item_price': 'user_purchase_cnt'}, axis=1)\n",
    "df_unknown=df_unknown.merge(user_purchase_cnt2_df, on=\"user_id\", how='left')\n",
    "\n",
    "user_purchase_amt2_df=user_purchase_amt2.to_frame()\n",
    "user_purchase_amt2_df=user_purchase_amt2_df.rename({'item_price': 'user_purchase_amt'}, axis=1)\n",
    "df_unknown=df_unknown.merge(user_purchase_amt2_df, on=\"user_id\", how='left')\n",
    "\n",
    "brand_purchase_cnt2_df=brand_purchase_cnt2.to_frame()\n",
    "brand_purchase_cnt2_df=brand_purchase_cnt2_df.rename({'item_price': 'brand_purchase_cnt'}, axis=1)\n",
    "df_unknown=df_unknown.merge(brand_purchase_cnt2_df, on=\"brand_id\", how='left')\n",
    "\n",
    "item_purchase_cnt2_df=item_purchase_cnt2.to_frame()\n",
    "item_purchase_cnt2_df=item_purchase_cnt2_df.rename({'item_price': 'item_purchase_cnt'}, axis=1)\n",
    "df_unknown=df_unknown.merge(item_purchase_cnt2_df, on=\"item_id\", how='left')"
   ]
  },
  {
   "cell_type": "code",
   "execution_count": 128,
   "metadata": {},
   "outputs": [],
   "source": [
    "df_unknown[\"user_purchase_avg\"]=df_unknown['user_purchase_amt']/df_unknown['user_purchase_cnt']"
   ]
  },
  {
   "cell_type": "code",
   "execution_count": 129,
   "metadata": {},
   "outputs": [],
   "source": [
    "#data types of new variables are changed\n",
    "df_unknown['user_purchase_cnt'] = df_unknown['user_purchase_cnt'].astype('float64')\n",
    "df_unknown['brand_purchase_cnt'] = df_unknown['brand_purchase_cnt'].astype('float64')\n",
    "df_unknown['item_purchase_cnt'] = df_unknown['item_purchase_cnt'].astype('float64')\n",
    "df_unknown['age_cat'] = df_unknown['age_cat'].astype('category')\n",
    "df_unknown['delivery_time_cat'] = df_unknown['delivery_time_cat'].astype('category')"
   ]
  },
  {
   "cell_type": "code",
   "execution_count": 130,
   "metadata": {},
   "outputs": [],
   "source": [
    "#Unnecessary columns are dropped\n",
    "df_unknown=df_unknown.drop([\"order_date\",\"delivery_date\",\"user_dob\",\"user_reg_date\"],axis=1)"
   ]
  },
  {
   "cell_type": "code",
   "execution_count": 131,
   "metadata": {},
   "outputs": [
    {
     "name": "stdout",
     "output_type": "stream",
     "text": [
      "[INFO] converting into woe values ...\n"
     ]
    }
   ],
   "source": [
    "#WoE for item_size and item_colors with the bins created for train set.\n",
    "df_unknown_new=sc.woebin_ply(df_unknown, bins)"
   ]
  },
  {
   "cell_type": "code",
   "execution_count": 132,
   "metadata": {},
   "outputs": [],
   "source": [
    "#OHEC for the remaining categorical features\n",
    "df_unknown=pd.get_dummies(df_unknown_new, columns = ['delivery_time_cat', 'user_title',\"age_cat\",\"user_state\"], drop_first=True)"
   ]
  },
  {
   "cell_type": "code",
   "execution_count": 133,
   "metadata": {},
   "outputs": [],
   "source": [
    "#The unknown data is set as the test set.\n",
    "X_test = df_unknown"
   ]
  },
  {
   "cell_type": "code",
   "execution_count": 134,
   "metadata": {},
   "outputs": [],
   "source": [
    "#Since the full data from the training set will be used now the train data will be changed accordingly.\n",
    "X_train2=X\n",
    "y_train2=y"
   ]
  },
  {
   "cell_type": "markdown",
   "metadata": {},
   "source": [
    "## Modelling and Receiving the Output"
   ]
  },
  {
   "cell_type": "code",
   "execution_count": 135,
   "metadata": {},
   "outputs": [
    {
     "data": {
      "text/plain": [
       "RandomForestClassifier(bootstrap=True, class_weight=None, criterion='gini',\n",
       "                       max_depth=None, max_features=5, max_leaf_nodes=None,\n",
       "                       min_impurity_decrease=0.0, min_impurity_split=None,\n",
       "                       min_samples_leaf=1, min_samples_split=2,\n",
       "                       min_weight_fraction_leaf=0.0, n_estimators=300,\n",
       "                       n_jobs=None, oob_score=False, random_state=123,\n",
       "                       verbose=0, warm_start=False)"
      ]
     },
     "execution_count": 135,
     "metadata": {},
     "output_type": "execute_result"
    }
   ],
   "source": [
    "rf_best2 = RandomForestClassifier(n_estimators=300, max_features=5, random_state = 123) \n",
    "rf_best2.fit(X_train2, y_train2.values.ravel())"
   ]
  },
  {
   "cell_type": "code",
   "execution_count": 136,
   "metadata": {},
   "outputs": [
    {
     "name": "stderr",
     "output_type": "stream",
     "text": [
      "C:\\Users\\Berkay Kocak\\Anaconda3\\lib\\site-packages\\ipykernel_launcher.py:4: FutureWarning: The signature of `Series.to_csv` was aligned to that of `DataFrame.to_csv`, and argument 'header' will change its default value from False to True: please pass an explicit value to suppress this warning.\n",
      "  after removing the cwd from sys.path.\n"
     ]
    }
   ],
   "source": [
    "#The submission for the Kaggle competition\n",
    "yhat = rf_best2.predict_proba(X_test)[:, 1]\n",
    "predictions = pd.Series(yhat, index=df_unknown.index, name='return') \n",
    "predictions.to_csv('rfc_last.csv')"
   ]
  },
  {
   "cell_type": "code",
   "execution_count": 137,
   "metadata": {},
   "outputs": [],
   "source": [
    "#Cost sensitive assignment of labels are carried out and stored as Y_hat_cost which will be submitted.\n",
    "probs2=rf_best2.predict_proba(X_test)\n",
    "df2 = pd.DataFrame(probs2, columns =['prob_0', 'prob_1']) \n",
    "prices2=X_test.item_price.reset_index().drop(\"index\",axis=1)\n",
    "df2[\"item_price\"]=prices2\n",
    "df2[\"FP_cost\"]=df2.item_price/2\n",
    "df2[\"FN_cost\"]=7.5+0.25*df2.item_price\n",
    "df2[\"cost_pred_0\"]=df2.FN_cost*df2[\"prob_1\"]\n",
    "df2[\"cost_pred_1\"]=df2.FP_cost*df2[\"prob_0\"]\n",
    "df2['Y_hat_base'] = np.where((df2[\"prob_1\"] > 0.5)\n",
    "                     ,1,0)\n",
    "df2['Y_hat_cost'] = np.where((df2[\"cost_pred_0\"] > df2[\"cost_pred_1\"])\n",
    "                     ,1,0)"
   ]
  },
  {
   "cell_type": "code",
   "execution_count": 149,
   "metadata": {},
   "outputs": [
    {
     "name": "stderr",
     "output_type": "stream",
     "text": [
      "C:\\Users\\Berkay Kocak\\Anaconda3\\lib\\site-packages\\ipykernel_launcher.py:4: FutureWarning: The signature of `Series.to_csv` was aligned to that of `DataFrame.to_csv`, and argument 'header' will change its default value from False to True: please pass an explicit value to suppress this warning.\n",
      "  after removing the cwd from sys.path.\n"
     ]
    }
   ],
   "source": [
    "#The submission for the assignment\n",
    "yhat_cost = df2.Y_hat_cost\n",
    "predictions2 = pd.Series(yhat_cost, index=df_unknown.index, name='return') \n",
    "predictions2.to_csv('rfc_binary.csv')"
   ]
  }
 ],
 "metadata": {
  "kernelspec": {
   "display_name": "Python 3",
   "language": "python",
   "name": "python3"
  },
  "language_info": {
   "codemirror_mode": {
    "name": "ipython",
    "version": 3
   },
   "file_extension": ".py",
   "mimetype": "text/x-python",
   "name": "python",
   "nbconvert_exporter": "python",
   "pygments_lexer": "ipython3",
   "version": "3.7.4"
  }
 },
 "nbformat": 4,
 "nbformat_minor": 2
}
